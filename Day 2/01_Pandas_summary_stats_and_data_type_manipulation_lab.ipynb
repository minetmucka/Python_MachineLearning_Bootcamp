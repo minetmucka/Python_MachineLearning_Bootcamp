{
 "cells": [
  {
   "cell_type": "markdown",
   "metadata": {},
   "source": [
    "# Pandas for Data Analysis\n",
    "\n",
    "## Agenda\n",
    "\n",
    " - Lab 1: Working with data types\n",
    " - Lab 2: Summary Statistics\n",
    " - Lab 3: Working with missing values"
   ]
  },
  {
   "cell_type": "markdown",
   "metadata": {},
   "source": [
    "## Data I/O"
   ]
  },
  {
   "cell_type": "code",
   "execution_count": 1,
   "metadata": {},
   "outputs": [],
   "source": [
    "import numpy as np\n",
    "import pandas as pd\n",
    "import matplotlib.pyplot as plt\n",
    "\n",
    "# read in the car dataset\n",
    "df = pd.read_csv('resources/imports-85.csv')"
   ]
  },
  {
   "cell_type": "markdown",
   "metadata": {},
   "source": [
    "# Lab 1: Missing Values\n",
    "\n",
    " - Missing values are filled with '?'. Replace all instances of '?' with null values. Use the `replace` method available for Pandas DataFrames\n",
    " - Find which columns are missing values\n",
    " - Print shape of observations dataframe, drop all rows with missing values, then print the shape of the resulting dataframe (*do not make changes inplace*)\n",
    " - Print the mean of the price column impute any missing values with median of that column and print new resulting mean (*do not make changes inplace*)\n",
    "     - At first you may find an error. Make sure that the datatype of the price is correct"
   ]
  },
  {
   "cell_type": "code",
   "execution_count": 2,
   "metadata": {},
   "outputs": [],
   "source": [
    "# Student solution"
   ]
  },
  {
   "cell_type": "markdown",
   "metadata": {},
   "source": [
    "## Lab 2: Working with datatypes\n",
    "\n",
    " - Determine the variable names and variable types for this dataset\n",
    " - In python it is useful to format concatenated words with an underscore ('_') rather than a dash ('-'). Replace all column names that contain dashes with underscores \n",
    " - Similar to price, you will see that the following columns need to be converted to type float:\n",
    "     - bore\n",
    "     - stroke\n",
    "     - horsepower\n",
    "     - peak-rpm\n",
    " - Find the mode value for all categorical columns\n",
    " - The values for body_style should be the following: hardtop, wagon, sedan, hatchback, convertible\n",
    "     - Check the unique values for that column and apply any adjustments required to ensure that there is a unique identifier for each category\n",
    "     - Create dummy values from the body_style column and create new dataframe called `df_dummy` with these dummy variables\n",
    " - Display skew for all numerical values sorted from largest to smallest absolute value\n"
   ]
  },
  {
   "cell_type": "code",
   "execution_count": 3,
   "metadata": {},
   "outputs": [],
   "source": [
    "# Student solution"
   ]
  },
  {
   "cell_type": "markdown",
   "metadata": {},
   "source": [
    "## Lab 3: Summary Statistics\n",
    "\n",
    " - Use describe method to get summary statistics for numerical and object values in two seperate dataframes\n",
    " - Find feature with strongest correlation statisitc with price (Use absolute value)\n",
    "     - Hint: idxmax is useful method in pandas for getting index for max value for series or dataframe. [documentation](https://pandas.pydata.org/pandas-docs/stable/reference/api/pandas.DataFrame.idxmax.html) \n",
    "\n",
    "     \n",
    " \n",
    "### Optional\n",
    " - Amongst the numerical values, find the feature with which each column is most correlated\n",
    "     - Hints:\n",
    "         - Once you have your corellation matrix it will help to find max value if you replace the diagonal (correlations of features with themselves) with 0s (a for loop and iloc will help you here)\n",
    "         - Once the diagonals are zero'd out look to again use idxmax"
   ]
  },
  {
   "cell_type": "code",
   "execution_count": 4,
   "metadata": {},
   "outputs": [],
   "source": [
    "# Student solution"
   ]
  }
 ],
 "metadata": {
  "kernelspec": {
   "display_name": "Python 3",
   "language": "python",
   "name": "python3"
  },
  "language_info": {
   "codemirror_mode": {
    "name": "ipython",
    "version": 3
   },
   "file_extension": ".py",
   "mimetype": "text/x-python",
   "name": "python",
   "nbconvert_exporter": "python",
   "pygments_lexer": "ipython3",
   "version": "3.7.3"
  }
 },
 "nbformat": 4,
 "nbformat_minor": 2
}
