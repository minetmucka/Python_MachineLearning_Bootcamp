{
 "cells": [
  {
   "cell_type": "markdown",
   "metadata": {},
   "source": [
    "# Advanced pandas for Data Analysis\n",
    "\n",
    "## Agenda\n",
    "\n",
    " - Lab 1: Groupby\n",
    " - Lab 2: Data Joins"
   ]
  },
  {
   "cell_type": "markdown",
   "metadata": {},
   "source": [
    "## Data I/O"
   ]
  },
  {
   "cell_type": "code",
   "execution_count": 2,
   "metadata": {},
   "outputs": [],
   "source": [
    "import numpy as np\n",
    "import pandas as pd\n",
    "import matplotlib.pyplot as plt\n",
    "\n",
    "df = pd.read_csv('resources/cars.csv')"
   ]
  },
  {
   "cell_type": "markdown",
   "metadata": {},
   "source": [
    "## Lab 1: Groupby\n",
    "\n",
    " - Determine the average `price` grouped by `make`\n",
    " - Determine the average and standard deviation of `price` grouped by `make`\n",
    " - Determine the median `price` and average `engine_size` grouped by `make`\n",
    " - Create a variable `mpg_bins`, that cuts the `city_mpg` column into four groups:\n",
    "     - 10 - 20\n",
    "     - 20 - 30\n",
    "     - 30 - 40\n",
    "     - 40 - 50\n",
    "     - Name these groups 'low','medium','high','very_high'\n",
    " - Determine the average `price` grouped by `mpg_bins`\n",
    " "
   ]
  },
  {
   "cell_type": "code",
   "execution_count": 3,
   "metadata": {},
   "outputs": [],
   "source": [
    "# Student solution"
   ]
  },
  {
   "cell_type": "markdown",
   "metadata": {},
   "source": [
    "## Lab 2: Data Joins\n",
    "\n",
    " - Create a dataframe `make_grouped_df` which describes the median `city_mpg` and `highway_mpg` grouped by `make`\n",
    " - Join `df` and `make_grouped_df` on `make`. Use a logical suffix for this join.\n",
    " - Create a dataframe `fancy_stuff` from a subset of the `make_grouped_df` that including the `make` 'mercedes-benz', 'porsche', 'jaguar'\n",
    " - Do a right or left join between `df` and `fancy_stuff` on `make` so that all values still show for `df`.Use a logical suffix for this join."
   ]
  },
  {
   "cell_type": "code",
   "execution_count": 4,
   "metadata": {},
   "outputs": [],
   "source": [
    "# Student solution"
   ]
  }
 ],
 "metadata": {
  "kernelspec": {
   "display_name": "Python 3",
   "language": "python",
   "name": "python3"
  },
  "language_info": {
   "codemirror_mode": {
    "name": "ipython",
    "version": 3
   },
   "file_extension": ".py",
   "mimetype": "text/x-python",
   "name": "python",
   "nbconvert_exporter": "python",
   "pygments_lexer": "ipython3",
   "version": "3.7.3"
  }
 },
 "nbformat": 4,
 "nbformat_minor": 2
}
