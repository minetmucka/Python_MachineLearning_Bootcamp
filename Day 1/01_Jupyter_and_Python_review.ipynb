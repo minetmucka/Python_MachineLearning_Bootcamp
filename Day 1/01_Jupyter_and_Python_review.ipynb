{
 "cells": [
  {
   "cell_type": "markdown",
   "metadata": {},
   "source": [
    "# Learning objectives\n",
    "\n",
    "By the end of this lesson, students will be able to:\n",
    "\n",
    "* Write code within and navigate the Jupyter Notebook development environment.\n",
    "* Be able to write programs that involve Python fundamentals, such as:\n",
    "    * `print`\n",
    "    * `for` loops\n",
    "    * Conditionals: `if`, `elif`, `else`\n",
    "    * The `list` and `dict`ionary data structures\n",
    "* Use functions and understand _when_ and _why_ to use them.\n",
    "* Understand how common external libraries extend the functionality of Python."
   ]
  },
  {
   "cell_type": "markdown",
   "metadata": {
    "run_control": {
     "frozen": false,
     "read_only": false
    }
   },
   "source": [
    "# What is an iPython Notebook/Jupyter Notebook? It is a development environment."
   ]
  },
  {
   "cell_type": "markdown",
   "metadata": {},
   "source": [
    "* Format for presenting analyses that allows for text, images, and data analysis to exist in one file.\n",
    "* Python variables and functions persist across cells, making them great for development.\n",
    "* **Many** features that make Python development easier, such as \"cell magics\" (below)."
   ]
  },
  {
   "cell_type": "markdown",
   "metadata": {},
   "source": [
    "### Why \"Jupyter\"?\n",
    "\n",
    "* Jupyter notebooks can run languages other than Python. They are called \"Jupyter\" Notebooks because they can run \"**Julia**\", \"**Python**\", and \"**R**\"."
   ]
  },
  {
   "cell_type": "markdown",
   "metadata": {},
   "source": [
    "## Example of Blended Notebook Content\n",
    "\n",
    "The result of using Jupyter Notebooks is that you end up with notebooks that look like this, combining static visuals with code and interactive components. \n",
    "![](img/jupyter_knn_dtw.png)"
   ]
  },
  {
   "cell_type": "markdown",
   "metadata": {},
   "source": [
    "* Great way to share results of analysis - can be deliverable at the end of a project."
   ]
  },
  {
   "cell_type": "markdown",
   "metadata": {},
   "source": [
    "## Execution and Use"
   ]
  },
  {
   "cell_type": "markdown",
   "metadata": {},
   "source": [
    "Cells can be executed - running the code within them - in different ways:\n",
    "* `shift + return`: execute current cell and move to next cell\n",
    "* `control + return`: execute current cell without moving to next cell\n",
    "* `option + return`: execute current cell and insert new cell below\n",
    "\n",
    "Also, buttons/menus at top of notebook "
   ]
  },
  {
   "cell_type": "markdown",
   "metadata": {},
   "source": [
    "## Types of Cells `code`"
   ]
  },
  {
   "cell_type": "markdown",
   "metadata": {},
   "source": [
    "Each Jupyter Notebook cell can contain one of the following:\n",
    "* Code\n",
    "* Markdown (text, images)\n",
    "* LaTeX (equations)\n",
    "* HTML"
   ]
  },
  {
   "cell_type": "markdown",
   "metadata": {},
   "source": [
    "#### Code cells"
   ]
  },
  {
   "cell_type": "code",
   "execution_count": 1,
   "metadata": {
    "ExecuteTime": {
     "end_time": "2018-03-26T22:51:12.183415Z",
     "start_time": "2018-03-26T22:51:12.173397Z"
    }
   },
   "outputs": [
    {
     "name": "stdout",
     "output_type": "stream",
     "text": [
      "The value of b is: 14\n"
     ]
    }
   ],
   "source": [
    "# This is a cell with Python code\n",
    "a = 8\n",
    "b = a + 6\n",
    "print(\"The value of b is:\", b)"
   ]
  },
  {
   "cell_type": "markdown",
   "metadata": {},
   "source": [
    "Try changing the value of `a`, then re-running the cell using `ctrl+enter`."
   ]
  },
  {
   "cell_type": "markdown",
   "metadata": {},
   "source": [
    "#### Markdown\n",
    "\n",
    "* Allows for quick text formatting (**bold**, _italics_, `code`, \"no code\" etc.)"
   ]
  },
  {
   "cell_type": "markdown",
   "metadata": {},
   "source": [
    "## Cell Magics\n",
    "\n",
    "Jupyter notebooks use something called a \"magic\" to modify functionality of either the current cell or the whole notebook.\n",
    "\n",
    "Some examples:\n",
    "* `%matplotlib inline`: display all plots inline in Jupyter notebook (we will use this one)\n",
    "* `%load filename.py`: replace cell with file contents\n",
    "* `%%time`: time how long a cell takes to execute\n"
   ]
  },
  {
   "cell_type": "markdown",
   "metadata": {},
   "source": [
    "Keyboard shortcuts can be viewed from `Help` --> `Keyboard Shortcuts` : \n",
    "\n",
    "![](img/jupyter_windows_shortcuts.png)"
   ]
  },
  {
   "cell_type": "markdown",
   "metadata": {},
   "source": [
    "# Looking things up\n",
    "\n",
    "One of the most useful things about Jupyter Notebooks is the fact that you can quickly look up how functions work using the \"?\". For example:\n",
    "\n",
    "1. Run the code in the `import pandas` cell.\n",
    "2. Run the cell containing `pd.read_csv?`."
   ]
  },
  {
   "cell_type": "code",
   "execution_count": 2,
   "metadata": {
    "ExecuteTime": {
     "end_time": "2018-03-26T22:51:22.995577Z",
     "start_time": "2018-03-26T22:51:21.936922Z"
    }
   },
   "outputs": [],
   "source": [
    "import pandas as pd"
   ]
  },
  {
   "cell_type": "code",
   "execution_count": 3,
   "metadata": {},
   "outputs": [],
   "source": [
    "# check the documentation of a function\n",
    "pd.read_csv?"
   ]
  },
  {
   "cell_type": "markdown",
   "metadata": {},
   "source": [
    "This is very convenient - tools like this are why data scientists and developers love Jupyter Notebooks!"
   ]
  },
  {
   "cell_type": "markdown",
   "metadata": {},
   "source": [
    "Use keyboard shortcuts to insert a cell below, and use it to pull up the Pandas `read_excel` documentation."
   ]
  },
  {
   "cell_type": "code",
   "execution_count": 4,
   "metadata": {},
   "outputs": [],
   "source": [
    "pd.read_excel?"
   ]
  },
  {
   "cell_type": "markdown",
   "metadata": {},
   "source": [
    "Or look it up online:\n",
    "https://pandas.pydata.org/pandas-docs/stable/reference/api/pandas.read_excel.html\n",
    "        "
   ]
  },
  {
   "cell_type": "markdown",
   "metadata": {
    "run_control": {
     "frozen": false,
     "read_only": false
    },
    "slideshow": {
     "slide_type": "-"
    }
   },
   "source": [
    "# Intro to Python "
   ]
  },
  {
   "cell_type": "markdown",
   "metadata": {},
   "source": [
    "## Why Python vs *another language*?\n",
    "\n",
    "- Emphasizes readability and ease of use over speed\n",
    "\n",
    "> Programs must be written for people to read, and only incidentally for machines to execute.  \n",
    "—Abelson & Sussman, Structure and Interpretation of Computer Programs\n",
    "\n",
    "- “Batteries included” - easy to get started\n",
    "- General purpose - not only is Python great for data science, you can also use it build everything from games to  web servers. "
   ]
  },
  {
   "cell_type": "markdown",
   "metadata": {
    "run_control": {
     "frozen": false,
     "read_only": false
    }
   },
   "source": [
    "## Python review"
   ]
  },
  {
   "cell_type": "markdown",
   "metadata": {},
   "source": [
    "Using the `print` statement"
   ]
  },
  {
   "cell_type": "code",
   "execution_count": 5,
   "metadata": {
    "ExecuteTime": {
     "end_time": "2018-03-26T22:51:36.039865Z",
     "start_time": "2018-03-26T22:51:36.032396Z"
    },
    "run_control": {
     "frozen": false,
     "read_only": false
    }
   },
   "outputs": [
    {
     "name": "stdout",
     "output_type": "stream",
     "text": [
      "Hello World\n"
     ]
    }
   ],
   "source": [
    "print('Hello World')\n",
    "# To run a cell in a Jupyter Notebook you can either click the \"Run button\" or press \"Shift+Enter\""
   ]
  },
  {
   "cell_type": "markdown",
   "metadata": {},
   "source": [
    "Using a variable:"
   ]
  },
  {
   "cell_type": "code",
   "execution_count": 6,
   "metadata": {
    "ExecuteTime": {
     "end_time": "2018-03-26T22:51:38.313908Z",
     "start_time": "2018-03-26T22:51:38.307643Z"
    },
    "run_control": {
     "frozen": false,
     "read_only": false
    }
   },
   "outputs": [
    {
     "name": "stdout",
     "output_type": "stream",
     "text": [
      "Hello Good World\n"
     ]
    }
   ],
   "source": [
    "word_to_print = \"Hello Good World\" # Here we're creating a variable with a string in it!\n",
    "print(word_to_print)"
   ]
  },
  {
   "cell_type": "markdown",
   "metadata": {},
   "source": [
    "The `print` statement can combine variables with strings inside the `print` statement:"
   ]
  },
  {
   "cell_type": "code",
   "execution_count": 7,
   "metadata": {
    "ExecuteTime": {
     "end_time": "2018-03-26T22:51:39.853778Z",
     "start_time": "2018-03-26T22:51:39.847064Z"
    }
   },
   "outputs": [
    {
     "name": "stdout",
     "output_type": "stream",
     "text": [
      "Hello World!\n"
     ]
    }
   ],
   "source": [
    "world_variable = \"World!\" \n",
    "print(\"Hello\", world_variable)"
   ]
  },
  {
   "cell_type": "markdown",
   "metadata": {},
   "source": [
    "### Exercise"
   ]
  },
  {
   "cell_type": "markdown",
   "metadata": {},
   "source": [
    "1. Save your first name as a string in a variable \"first\".\n",
    "2. Save your last name as a string in a variable \"last\".\n",
    "3. `print` out \"Hello,\", your first name, and your last name."
   ]
  },
  {
   "cell_type": "code",
   "execution_count": 1,
   "metadata": {},
   "outputs": [],
   "source": [
    "# Your code here"
   ]
  },
  {
   "cell_type": "markdown",
   "metadata": {},
   "source": [
    "#### A note on printing in Jupyter cells"
   ]
  },
  {
   "cell_type": "markdown",
   "metadata": {},
   "source": [
    "Jupyter will print the last output of a cell. Assigning a variable produces no output so nothing is printed:"
   ]
  },
  {
   "cell_type": "code",
   "execution_count": 10,
   "metadata": {},
   "outputs": [
    {
     "data": {
      "text/plain": [
       "'a string called steven'"
      ]
     },
     "execution_count": 10,
     "metadata": {},
     "output_type": "execute_result"
    }
   ],
   "source": [
    "\"a string called steven\""
   ]
  },
  {
   "cell_type": "code",
   "execution_count": 11,
   "metadata": {},
   "outputs": [
    {
     "name": "stdout",
     "output_type": "stream",
     "text": [
      "a string called steven\n"
     ]
    }
   ],
   "source": [
    "steven_string = \"a string called steven\" # no cell output\n",
    "print(steven_string)"
   ]
  },
  {
   "cell_type": "markdown",
   "metadata": {},
   "source": [
    "### Data types"
   ]
  },
  {
   "cell_type": "code",
   "execution_count": 12,
   "metadata": {
    "ExecuteTime": {
     "end_time": "2018-03-26T22:52:25.033959Z",
     "start_time": "2018-03-26T22:52:25.022628Z"
    },
    "run_control": {
     "frozen": false,
     "read_only": false
    }
   },
   "outputs": [
    {
     "name": "stdout",
     "output_type": "stream",
     "text": [
      "The type of 'world_variable': <class 'str'>\n",
      "The type of '1': <class 'int'>\n",
      "The type of 'bob': <class 'str'>\n",
      "The type of '2.5': <class 'float'>\n"
     ]
    }
   ],
   "source": [
    "print(\"The type of 'world_variable':\", type(world_variable))\n",
    "print(\"The type of '1':\", type(1))\n",
    "print(\"The type of 'bob':\", type(\"bob\"))\n",
    "print(\"The type of '2.5':\", type(2.5))"
   ]
  },
  {
   "cell_type": "markdown",
   "metadata": {},
   "source": [
    "This is important because for many operations, objects have to be \"of the right type\" for us to perform the operation. Go ahead and run the cell below to see what I mean:"
   ]
  },
  {
   "cell_type": "code",
   "execution_count": 13,
   "metadata": {
    "ExecuteTime": {
     "end_time": "2018-03-26T22:52:29.016276Z",
     "start_time": "2018-03-26T22:52:28.653705Z"
    }
   },
   "outputs": [
    {
     "ename": "TypeError",
     "evalue": "unsupported operand type(s) for +: 'int' and 'str'",
     "output_type": "error",
     "traceback": [
      "\u001b[0;31m---------------------------------------------------------------------------\u001b[0m",
      "\u001b[0;31mTypeError\u001b[0m                                 Traceback (most recent call last)",
      "\u001b[0;32m<ipython-input-13-146c6d2d82d9>\u001b[0m in \u001b[0;36m<module>\u001b[0;34m\u001b[0m\n\u001b[1;32m      3\u001b[0m \u001b[0mnumber\u001b[0m \u001b[0;34m=\u001b[0m \u001b[0;36m1\u001b[0m\u001b[0;34m\u001b[0m\u001b[0;34m\u001b[0m\u001b[0m\n\u001b[1;32m      4\u001b[0m \u001b[0mnumber_2\u001b[0m \u001b[0;34m=\u001b[0m \u001b[0;36m1.0\u001b[0m\u001b[0;34m\u001b[0m\u001b[0;34m\u001b[0m\u001b[0m\n\u001b[0;32m----> 5\u001b[0;31m \u001b[0mnumber\u001b[0m \u001b[0;34m+\u001b[0m \u001b[0mstring\u001b[0m\u001b[0;34m\u001b[0m\u001b[0;34m\u001b[0m\u001b[0m\n\u001b[0m\u001b[1;32m      6\u001b[0m \u001b[0;31m# string + string_2 # Example of adding two string\u001b[0m\u001b[0;34m\u001b[0m\u001b[0;34m\u001b[0m\u001b[0;34m\u001b[0m\u001b[0m\n\u001b[1;32m      7\u001b[0m \u001b[0;31m# number + number_2 # Adding int and float\u001b[0m\u001b[0;34m\u001b[0m\u001b[0;34m\u001b[0m\u001b[0;34m\u001b[0m\u001b[0m\n",
      "\u001b[0;31mTypeError\u001b[0m: unsupported operand type(s) for +: 'int' and 'str'"
     ]
    }
   ],
   "source": [
    "string = \"The loneliest number\"\n",
    "string_2 = 'Zero'\n",
    "number = 1\n",
    "number_2 = 1.0\n",
    "number + string\n",
    "# string + string_2 # Example of adding two string\n",
    "# number + number_2 # Adding int and float\n",
    "# number + int(number_2) # Adding int and int"
   ]
  },
  {
   "cell_type": "markdown",
   "metadata": {},
   "source": [
    "Because our objects are not \"of the right type\" we cannot perform this operation. We'll discuss how to do type checking to avoid this kind of thing using `if` statements later on."
   ]
  },
  {
   "cell_type": "markdown",
   "metadata": {},
   "source": [
    "Note that meaning of `+` depends on type of objects added. Results for lists and numpy arrays are different."
   ]
  },
  {
   "cell_type": "code",
   "execution_count": 14,
   "metadata": {},
   "outputs": [
    {
     "name": "stdout",
     "output_type": "stream",
     "text": [
      "Adding arrays: [7. 7.]\n",
      "Adding lists: [3.0, 2.0, 4.0, 5.0]\n"
     ]
    }
   ],
   "source": [
    "# Addition with different data structures\n",
    "# Demonstration that addition of arrays occurs elementwise\n",
    "# Addition of lists is concatenation\n",
    "\n",
    "import numpy as np\n",
    "\n",
    "array_1 = np.array([3.0, 2.0])\n",
    "array_2 = np.array([4.0, 5.0])\n",
    "array_sum = array_1 + array_2 \n",
    "list_sum = list(array_1) + list(array_2)\n",
    "print('Adding arrays:', array_sum)\n",
    "print('Adding lists:', list_sum)"
   ]
  },
  {
   "cell_type": "markdown",
   "metadata": {},
   "source": [
    "## A quick review of math in Python:"
   ]
  },
  {
   "cell_type": "markdown",
   "metadata": {},
   "source": [
    "Here's a quick refresher on how to do basic arithmetic in Python:"
   ]
  },
  {
   "cell_type": "code",
   "execution_count": 15,
   "metadata": {
    "ExecuteTime": {
     "end_time": "2018-03-26T22:52:36.011809Z",
     "start_time": "2018-03-26T22:52:35.995950Z"
    },
    "scrolled": true
   },
   "outputs": [
    {
     "name": "stdout",
     "output_type": "stream",
     "text": [
      "7 + 2 = 9\n",
      "7 - 2 = 5\n",
      "7 * 2 = 14\n",
      "7 / 2 = 3.5\n",
      "7 ** 2 = 49\n",
      "7 // 3 = 2\n",
      "6 % 2 = 0\n"
     ]
    }
   ],
   "source": [
    "print(\"7 + 2 =\", 7 + 2)\n",
    "print(\"7 - 2 =\", 7 - 2)\n",
    "print(\"7 * 2 =\", 7 * 2)\n",
    "print(\"7 / 2 =\", 7 / 2)\n",
    "print(\"7 ** 2 =\", 7 ** 2) # Exponentiation\n",
    "print(\"7 // 3 =\", 7 // 3) # Division without remainder\n",
    "print(\"6 % 2 =\", 6 % 2) # Remainder"
   ]
  },
  {
   "cell_type": "code",
   "execution_count": 16,
   "metadata": {},
   "outputs": [
    {
     "name": "stdout",
     "output_type": "stream",
     "text": [
      "7 ^ 2 = 5\n"
     ]
    }
   ],
   "source": [
    "print(\"7 ^ 2 =\", 7 ^ 2) # caret"
   ]
  },
  {
   "cell_type": "markdown",
   "metadata": {},
   "source": [
    "^ is bitwise XOR"
   ]
  },
  {
   "cell_type": "markdown",
   "metadata": {},
   "source": [
    "Interesting!"
   ]
  },
  {
   "cell_type": "markdown",
   "metadata": {},
   "source": [
    "### Last data type: Booleans"
   ]
  },
  {
   "cell_type": "markdown",
   "metadata": {},
   "source": [
    "Python has a special value type associated with the values `True` and `False`:"
   ]
  },
  {
   "cell_type": "code",
   "execution_count": 17,
   "metadata": {
    "ExecuteTime": {
     "end_time": "2018-03-26T22:52:39.839707Z",
     "start_time": "2018-03-26T22:52:39.829222Z"
    },
    "scrolled": true
   },
   "outputs": [
    {
     "name": "stdout",
     "output_type": "stream",
     "text": [
      "Type of a: <class 'bool'>\n",
      "Type of b: <class 'bool'>\n"
     ]
    }
   ],
   "source": [
    "a = True\n",
    "true_value = True\n",
    "b = False\n",
    "print(\"Type of a:\", type(true_value))\n",
    "print(\"Type of b:\", type(b))"
   ]
  },
  {
   "cell_type": "markdown",
   "metadata": {},
   "source": [
    "We can assign statements to be `True` or `False` as follows:"
   ]
  },
  {
   "cell_type": "code",
   "execution_count": 18,
   "metadata": {
    "ExecuteTime": {
     "end_time": "2018-03-26T22:52:41.284494Z",
     "start_time": "2018-03-26T22:52:41.269403Z"
    }
   },
   "outputs": [
    {
     "name": "stdout",
     "output_type": "stream",
     "text": [
      "Type of seven_geq_two: <class 'bool'>\n",
      "Type of seven_leq_two: <class 'bool'>\n",
      "7 >= 2 = True\n",
      "7 <= 2 = False\n"
     ]
    }
   ],
   "source": [
    "seven_geq_two = (7 >= 2)\n",
    "seven_leq_two = (7 <= 2)\n",
    "\n",
    "\n",
    "print(\"Type of seven_geq_two:\", type(seven_geq_two))\n",
    "print(\"Type of seven_leq_two:\", type(seven_leq_two))\n",
    "print(\"7 >= 2 =\", seven_geq_two)\n",
    "print(\"7 <= 2 =\", seven_leq_two)\n"
   ]
  },
  {
   "cell_type": "markdown",
   "metadata": {},
   "source": [
    "## Python data structures"
   ]
  },
  {
   "cell_type": "markdown",
   "metadata": {},
   "source": [
    "Python is a language that can do virtually anything you would want a computer to do. However, even the most complicated Python functions ultimately boil down to manipulating basic objects - such as strings and numbers - stored in basic _data structures_ - especially **lists** and **dictionaries**."
   ]
  },
  {
   "cell_type": "markdown",
   "metadata": {},
   "source": [
    "Let's start by looking at lists:"
   ]
  },
  {
   "cell_type": "markdown",
   "metadata": {},
   "source": [
    "# Lists"
   ]
  },
  {
   "cell_type": "markdown",
   "metadata": {
    "run_control": {
     "frozen": false,
     "read_only": false
    }
   },
   "source": [
    "Lists are ordered collections of items:\n",
    "\n",
    "1. Their individual items can be anything - even other lists!\n",
    "2. We can add or subtract elements as we please.\n",
    "3. They're indexable, so we can extract elements at particular positions.\n",
    "4. We can iterate through them using `for` loops\n",
    "\n",
    "Let's look at concrete examples that illustrate these facts:"
   ]
  },
  {
   "cell_type": "code",
   "execution_count": 19,
   "metadata": {
    "ExecuteTime": {
     "end_time": "2018-03-26T22:52:45.606495Z",
     "start_time": "2018-03-26T22:52:45.594682Z"
    },
    "run_control": {
     "frozen": false,
     "read_only": false
    }
   },
   "outputs": [
    {
     "name": "stdout",
     "output_type": "stream",
     "text": [
      "Our list: ['Pittsburgh', 'Chicago', 'San Francisco', [412, 312, 415]]\n",
      "Type of our list: <class 'list'>\n"
     ]
    }
   ],
   "source": [
    "our_list = [\"Pittsburgh\",\"Chicago\",'San Francisco', [412, 312, 415]]\n",
    "print(\"Our list:\", our_list)\n",
    "print(\"Type of our list:\", type(our_list))"
   ]
  },
  {
   "cell_type": "markdown",
   "metadata": {},
   "source": [
    "### Checking membership"
   ]
  },
  {
   "cell_type": "markdown",
   "metadata": {},
   "source": [
    "Note: since later data types we'll see, such as pandas Series, are built off of lists, this `in` syntax will work for them as well."
   ]
  },
  {
   "cell_type": "code",
   "execution_count": 20,
   "metadata": {},
   "outputs": [
    {
     "name": "stdout",
     "output_type": "stream",
     "text": [
      "['Pittsburgh', 'Chicago', 'San Francisco', [412, 312, 415]]\n"
     ]
    },
    {
     "data": {
      "text/plain": [
       "False"
      ]
     },
     "execution_count": 20,
     "metadata": {},
     "output_type": "execute_result"
    }
   ],
   "source": [
    "print(our_list)\n",
    "'New York' in our_list"
   ]
  },
  {
   "cell_type": "markdown",
   "metadata": {},
   "source": [
    "### Adding to lists"
   ]
  },
  {
   "cell_type": "code",
   "execution_count": 21,
   "metadata": {},
   "outputs": [
    {
     "data": {
      "text/plain": [
       "['Pittsburgh', 'Chicago', 'San Francisco', [412, 312, 415]]"
      ]
     },
     "execution_count": 21,
     "metadata": {},
     "output_type": "execute_result"
    }
   ],
   "source": [
    "our_list"
   ]
  },
  {
   "cell_type": "code",
   "execution_count": 22,
   "metadata": {
    "ExecuteTime": {
     "end_time": "2018-03-26T22:52:46.407515Z",
     "start_time": "2018-03-26T22:52:46.400443Z"
    },
    "run_control": {
     "frozen": false,
     "read_only": false
    },
    "scrolled": true
   },
   "outputs": [
    {
     "name": "stdout",
     "output_type": "stream",
     "text": [
      "Our list after adding concatenating two lists: ['Pittsburgh', 'Chicago', 'San Francisco', [412, 312, 415], 'New York', 'Boston']\n"
     ]
    }
   ],
   "source": [
    "our_list = our_list + [\"New York\", \"Boston\"]\n",
    "print(\"Our list after adding concatenating two lists:\", our_list)"
   ]
  },
  {
   "cell_type": "markdown",
   "metadata": {},
   "source": [
    "Can also use **`append`**"
   ]
  },
  {
   "cell_type": "code",
   "execution_count": 23,
   "metadata": {},
   "outputs": [
    {
     "name": "stdout",
     "output_type": "stream",
     "text": [
      "Our list after adding an element: ['Pittsburgh', 'Chicago', 'San Francisco', [412, 312, 415], 'New York', 'Boston', 'London']\n"
     ]
    }
   ],
   "source": [
    "our_list.append(\"London\")\n",
    "print(\"Our list after adding an element:\", our_list)"
   ]
  },
  {
   "cell_type": "code",
   "execution_count": 24,
   "metadata": {},
   "outputs": [
    {
     "data": {
      "text/plain": [
       "['Pittsburgh',\n",
       " 'Chicago',\n",
       " 'San Francisco',\n",
       " [412, 312, 415],\n",
       " 'New York',\n",
       " 'Boston',\n",
       " 'London']"
      ]
     },
     "execution_count": 24,
     "metadata": {},
     "output_type": "execute_result"
    }
   ],
   "source": [
    "our_list"
   ]
  },
  {
   "cell_type": "markdown",
   "metadata": {},
   "source": [
    "#### Gotchas"
   ]
  },
  {
   "cell_type": "code",
   "execution_count": 25,
   "metadata": {},
   "outputs": [
    {
     "data": {
      "text/plain": [
       "['Pittsburgh',\n",
       " 'Chicago',\n",
       " 'San Francisco',\n",
       " [412, 312, 415],\n",
       " 'New York',\n",
       " 'Boston',\n",
       " 'London',\n",
       " ['New York', 'Boston']]"
      ]
     },
     "execution_count": 25,
     "metadata": {},
     "output_type": "execute_result"
    }
   ],
   "source": [
    "our_list.append([\"New York\", \"Boston\"])\n",
    "our_list # Not what we expected!"
   ]
  },
  {
   "cell_type": "code",
   "execution_count": 26,
   "metadata": {},
   "outputs": [
    {
     "data": {
      "text/plain": [
       "['Pittsburgh',\n",
       " 'Chicago',\n",
       " 'San Francisco',\n",
       " [412, 312, 415],\n",
       " 'New York',\n",
       " 'Boston',\n",
       " 'London',\n",
       " ['New York', 'Boston'],\n",
       " 'New York']"
      ]
     },
     "execution_count": 26,
     "metadata": {},
     "output_type": "execute_result"
    }
   ],
   "source": [
    "our_list + ['New York']"
   ]
  },
  {
   "cell_type": "markdown",
   "metadata": {},
   "source": [
    "Append just appends one element. "
   ]
  },
  {
   "cell_type": "markdown",
   "metadata": {},
   "source": [
    "### Repeating lists"
   ]
  },
  {
   "cell_type": "code",
   "execution_count": 27,
   "metadata": {},
   "outputs": [
    {
     "name": "stdout",
     "output_type": "stream",
     "text": [
      "['Seth', 1, 'a', 'Seth', 1, 'a', 'Seth', 1, 'a']\n"
     ]
    }
   ],
   "source": [
    "list_1 = [\"Seth\", 1, \"a\"]\n",
    "print(list_1 * 3)"
   ]
  },
  {
   "cell_type": "markdown",
   "metadata": {},
   "source": [
    "### Built-in list functions:\n"
   ]
  },
  {
   "cell_type": "code",
   "execution_count": 28,
   "metadata": {},
   "outputs": [],
   "source": [
    "my_list = [1, 36.3, 5, 4, 36.3]"
   ]
  },
  {
   "cell_type": "code",
   "execution_count": 29,
   "metadata": {},
   "outputs": [
    {
     "data": {
      "text/plain": [
       "5"
      ]
     },
     "execution_count": 29,
     "metadata": {},
     "output_type": "execute_result"
    }
   ],
   "source": [
    "# find the length of the list (number of elements in the list)\n",
    "len(my_list)"
   ]
  },
  {
   "cell_type": "code",
   "execution_count": 30,
   "metadata": {},
   "outputs": [
    {
     "data": {
      "text/plain": [
       "1"
      ]
     },
     "execution_count": 30,
     "metadata": {},
     "output_type": "execute_result"
    }
   ],
   "source": [
    "# find the minimum value of the list (smallest element in the list)\n",
    "min(my_list)"
   ]
  },
  {
   "cell_type": "code",
   "execution_count": 31,
   "metadata": {},
   "outputs": [
    {
     "data": {
      "text/plain": [
       "36.3"
      ]
     },
     "execution_count": 31,
     "metadata": {},
     "output_type": "execute_result"
    }
   ],
   "source": [
    "# find the maximum value of the list (largest element in the list)\n",
    "max(my_list)"
   ]
  },
  {
   "cell_type": "code",
   "execution_count": 32,
   "metadata": {},
   "outputs": [
    {
     "data": {
      "text/plain": [
       "0"
      ]
     },
     "execution_count": 32,
     "metadata": {},
     "output_type": "execute_result"
    }
   ],
   "source": [
    "# find the index of the first occurrence of 1 in my_list\n",
    "my_list.index(1)"
   ]
  },
  {
   "cell_type": "code",
   "execution_count": 33,
   "metadata": {},
   "outputs": [
    {
     "data": {
      "text/plain": [
       "2"
      ]
     },
     "execution_count": 33,
     "metadata": {},
     "output_type": "execute_result"
    }
   ],
   "source": [
    "# find the total number of occurrences of 36.3 in my_list\n",
    "my_list.count(36.3)"
   ]
  },
  {
   "cell_type": "markdown",
   "metadata": {},
   "source": [
    "### Exercise:\n",
    "\n",
    "Create 2 lists: the first list with your first name and the second list with your last name. Combine the two lists to make a list that contains your entire name. Repeat your name as many times as letters in your full name. \n",
    "\n",
    "Try adding your last name to your first name using both list concatenation and a built-in list function."
   ]
  },
  {
   "cell_type": "code",
   "execution_count": null,
   "metadata": {},
   "outputs": [],
   "source": [
    "# Your code here"
   ]
  },
  {
   "cell_type": "markdown",
   "metadata": {},
   "source": [
    "## Indexing and Slicing"
   ]
  },
  {
   "cell_type": "markdown",
   "metadata": {},
   "source": [
    "Lists' _ordering_ lets us select specific elements from them:"
   ]
  },
  {
   "cell_type": "code",
   "execution_count": 39,
   "metadata": {
    "ExecuteTime": {
     "end_time": "2018-03-26T22:53:33.934957Z",
     "start_time": "2018-03-26T22:53:33.930565Z"
    }
   },
   "outputs": [],
   "source": [
    "a_list = ['a', 'b', 'c', 'd', 'e']"
   ]
  },
  {
   "cell_type": "code",
   "execution_count": 40,
   "metadata": {
    "ExecuteTime": {
     "end_time": "2018-03-26T22:53:34.713746Z",
     "start_time": "2018-03-26T22:53:34.703932Z"
    }
   },
   "outputs": [
    {
     "name": "stdout",
     "output_type": "stream",
     "text": [
      "a_list: ['a', 'b', 'c', 'd', 'e']\n",
      "Second element: b\n"
     ]
    }
   ],
   "source": [
    "# Second element\n",
    "print(\"a_list:\", a_list)\n",
    "print(\"Second element:\", a_list[1])"
   ]
  },
  {
   "cell_type": "markdown",
   "metadata": {},
   "source": [
    "**Slices**:"
   ]
  },
  {
   "cell_type": "markdown",
   "metadata": {},
   "source": [
    "To select the elements from element `start` to element `stop` _excluding `stop`_, use:\n",
    "\n",
    "> `a_list[start:stop]`"
   ]
  },
  {
   "cell_type": "code",
   "execution_count": 41,
   "metadata": {
    "ExecuteTime": {
     "end_time": "2018-03-26T22:53:37.283080Z",
     "start_time": "2018-03-26T22:53:37.275017Z"
    }
   },
   "outputs": [
    {
     "name": "stdout",
     "output_type": "stream",
     "text": [
      "a_list: ['a', 'b', 'c', 'd', 'e']\n",
      "Element with index '1' to element with index '3' (exclusive): ['a', 'b']\n"
     ]
    }
   ],
   "source": [
    "print(\"a_list:\", a_list)\n",
    "# Slice illustration\n",
    "print(\"Element with index '1' to element with index '3' (exclusive):\", a_list[0:2])"
   ]
  },
  {
   "cell_type": "markdown",
   "metadata": {},
   "source": [
    "Python makes is easy to select everything from the beginning of a string to an element and vice versa:"
   ]
  },
  {
   "cell_type": "code",
   "execution_count": 42,
   "metadata": {
    "ExecuteTime": {
     "end_time": "2018-03-26T22:54:38.943182Z",
     "start_time": "2018-03-26T22:54:38.932667Z"
    }
   },
   "outputs": [
    {
     "name": "stdout",
     "output_type": "stream",
     "text": [
      "a_list: ['a', 'b', 'c', 'd', 'e']\n",
      "\n",
      "Beginning of list to element with index '2' (exclusive): ['a', 'b']\n",
      "\n",
      "Element with index '2' to end of list: ['c', 'd', 'e']\n"
     ]
    }
   ],
   "source": [
    "print(\"a_list:\", a_list)\n",
    "print()\n",
    "print(\"Beginning of list to element with index '2' (exclusive):\", a_list[:2])\n",
    "print()\n",
    "print(\"Element with index '2' to end of list:\", a_list[2:])"
   ]
  },
  {
   "cell_type": "markdown",
   "metadata": {},
   "source": [
    "Python also lets you step over elements as you're selecting with the following syntax:\n",
    "\n",
    "> `a_list[start:stop:step]`"
   ]
  },
  {
   "cell_type": "code",
   "execution_count": 43,
   "metadata": {
    "ExecuteTime": {
     "end_time": "2018-03-26T22:55:36.475642Z",
     "start_time": "2018-03-26T22:55:36.467484Z"
    }
   },
   "outputs": [
    {
     "name": "stdout",
     "output_type": "stream",
     "text": [
      "a_list: ['a', 'b', 'c', 'd', 'e']\n",
      "Every second element starting with the second one ['b', 'd']\n"
     ]
    }
   ],
   "source": [
    "# Every second element starting with the second one\n",
    "print(\"a_list:\", a_list)\n",
    "print(\"Every second element starting with the second one\", a_list[1::2])"
   ]
  },
  {
   "cell_type": "markdown",
   "metadata": {},
   "source": [
    "### Exercise:\n",
    "> Print `a_list` in reverse using bracket notation"
   ]
  },
  {
   "cell_type": "code",
   "execution_count": 2,
   "metadata": {
    "ExecuteTime": {
     "end_time": "2018-03-26T22:55:37.864862Z",
     "start_time": "2018-03-26T22:55:37.860656Z"
    }
   },
   "outputs": [],
   "source": [
    "# your code here\n",
    "# Hint: what should the \"step size\" be?\n"
   ]
  },
  {
   "cell_type": "markdown",
   "metadata": {},
   "source": [
    "Sometimes you want to select an element at the end of a long list, but you don't know exactly how long the list is. Python provides a \"reverse indexing\" syntax that makes this easy:"
   ]
  },
  {
   "cell_type": "markdown",
   "metadata": {},
   "source": [
    "**Reverse indexing**"
   ]
  },
  {
   "cell_type": "code",
   "execution_count": 45,
   "metadata": {
    "ExecuteTime": {
     "end_time": "2018-03-26T22:55:39.631727Z",
     "start_time": "2018-03-26T22:55:39.616943Z"
    }
   },
   "outputs": [
    {
     "name": "stdout",
     "output_type": "stream",
     "text": [
      "Last element: e\n",
      "Second to last element: d\n",
      "Third to last element: c\n",
      "Fourth to last element: b\n",
      "Fifth to last element: a\n"
     ]
    }
   ],
   "source": [
    "print(\"Last element:\", a_list[-1])\n",
    "print(\"Second to last element:\", a_list[-2])\n",
    "print(\"Third to last element:\", a_list[-3])\n",
    "print(\"Fourth to last element:\", a_list[-4])\n",
    "print(\"Fifth to last element:\", a_list[-5])"
   ]
  },
  {
   "cell_type": "markdown",
   "metadata": {},
   "source": [
    "### Strings have a lot in common with lists!"
   ]
  },
  {
   "cell_type": "markdown",
   "metadata": {},
   "source": [
    "We mentioned earlier that everything in Python boils down to simple data types - such as numbers and characters - and simple data structures, such as lists. As an illustration of this: strings in Python are simply lists of characters, and all of the slicing operations we just learned for lists work on strings:"
   ]
  },
  {
   "cell_type": "code",
   "execution_count": 46,
   "metadata": {
    "ExecuteTime": {
     "end_time": "2018-03-26T22:55:42.453509Z",
     "start_time": "2018-03-26T22:55:42.443086Z"
    }
   },
   "outputs": [
    {
     "name": "stdout",
     "output_type": "stream",
     "text": [
      "First two characters: ab\n",
      "Third character: c\n",
      "Second to last character: d\n"
     ]
    }
   ],
   "source": [
    "a_string = 'abcde'\n",
    "print(\"First two characters:\", a_string[:2])\n",
    "print(\"Third character:\", a_string[2])\n",
    "print(\"Second to last character:\", a_string[-2])"
   ]
  },
  {
   "cell_type": "markdown",
   "metadata": {},
   "source": [
    "Concatenation works as well:"
   ]
  },
  {
   "cell_type": "code",
   "execution_count": 47,
   "metadata": {},
   "outputs": [
    {
     "data": {
      "text/plain": [
       "'ab'"
      ]
     },
     "execution_count": 47,
     "metadata": {},
     "output_type": "execute_result"
    }
   ],
   "source": [
    "string1 = 'a'\n",
    "string2 = 'b'\n",
    "string1 + string2"
   ]
  },
  {
   "cell_type": "code",
   "execution_count": 48,
   "metadata": {
    "scrolled": true
   },
   "outputs": [
    {
     "name": "stdout",
     "output_type": "stream",
     "text": [
      "ab\n"
     ]
    }
   ],
   "source": [
    "# With a new variable\n",
    "s = 'a' + 'b'\n",
    "print(s)"
   ]
  },
  {
   "cell_type": "code",
   "execution_count": 49,
   "metadata": {},
   "outputs": [],
   "source": [
    "# Printing with format\n",
    "# print('{}'.format(s))"
   ]
  },
  {
   "cell_type": "markdown",
   "metadata": {
    "ExecuteTime": {
     "end_time": "2018-03-26T22:52:58.530563Z",
     "start_time": "2018-03-26T22:52:58.525592Z"
    },
    "run_control": {
     "frozen": false,
     "read_only": false
    }
   },
   "source": [
    "### `for` loops"
   ]
  },
  {
   "cell_type": "markdown",
   "metadata": {
    "run_control": {
     "frozen": false,
     "read_only": false
    }
   },
   "source": [
    "Alright! We can do some manipulations of our data with indexing. But, there's gotta be a better way of using all the elements in a list than manually typing each index in, right? There is, they're called `for` loops. Let's take a look at an example:"
   ]
  },
  {
   "cell_type": "code",
   "execution_count": 50,
   "metadata": {},
   "outputs": [
    {
     "name": "stdout",
     "output_type": "stream",
     "text": [
      "element: 1\n",
      "<class 'int'>\n",
      "element: 2\n",
      "<class 'int'>\n",
      "element: 3\n",
      "<class 'int'>\n",
      "element: 4\n",
      "<class 'int'>\n",
      "element: 5\n",
      "<class 'int'>\n"
     ]
    }
   ],
   "source": [
    "values = [1,2,3,4,5]\n",
    "for element in values:\n",
    "    print(\"element:\", element)\n",
    "    print(type(element))"
   ]
  },
  {
   "cell_type": "code",
   "execution_count": 51,
   "metadata": {
    "ExecuteTime": {
     "end_time": "2018-03-26T22:53:00.190542Z",
     "start_time": "2018-03-26T22:53:00.179729Z"
    },
    "run_control": {
     "frozen": false,
     "read_only": false
    }
   },
   "outputs": [
    {
     "name": "stdout",
     "output_type": "stream",
     "text": [
      "element: 1\n",
      "element: 2\n",
      "element: 3\n",
      "element: 4\n",
      "element: 5\n",
      "We're done!\n"
     ]
    }
   ],
   "source": [
    "values = [1,2,3,4,5]\n",
    "for abc in values:\n",
    "    print(\"element:\", abc)\n",
    "print(\"We're done!\")"
   ]
  },
  {
   "cell_type": "markdown",
   "metadata": {
    "run_control": {
     "frozen": false,
     "read_only": false
    }
   },
   "source": [
    "We told Python, \"I want you to grab each element in the `values` list and then do something with it one at a time.\" There's nothing special about it being numbers, we could do that with a list of strings as well. All that Python knows is, \"This user said 'get everything in this list and give it back to me one at a time' and I'm going to do that now.\"\n",
    "\n",
    "Notice that the code that happens inside the `for` loop is defined as the code that is indented after the `for` statement. As you can see below, as soon as we \"un-indent\", the code is no longer executed as if we are inside the `for` loop."
   ]
  },
  {
   "cell_type": "code",
   "execution_count": 52,
   "metadata": {},
   "outputs": [
    {
     "name": "stdout",
     "output_type": "stream",
     "text": [
      "alice\n",
      "alice\n",
      "alice\n",
      "alice\n",
      "alice\n",
      "bob\n"
     ]
    }
   ],
   "source": [
    "values = [1,2,3,4,5]\n",
    "for element in values:\n",
    "    print('alice')\n",
    "print('bob')"
   ]
  },
  {
   "cell_type": "code",
   "execution_count": 53,
   "metadata": {
    "ExecuteTime": {
     "end_time": "2018-03-26T22:53:02.288509Z",
     "start_time": "2018-03-26T22:53:02.269330Z"
    },
    "run_control": {
     "frozen": false,
     "read_only": false
    }
   },
   "outputs": [
    {
     "name": "stdout",
     "output_type": "stream",
     "text": [
      "element: 1\n",
      "alice\n",
      "element: 2\n",
      "alice\n",
      "element: 3\n",
      "alice\n",
      "element: 4\n",
      "alice\n",
      "element: 5\n",
      "alice\n",
      "bob\n"
     ]
    }
   ],
   "source": [
    "values = [1,2,3,4,5]\n",
    "for element in values:\n",
    "    print(\"element:\", element)\n",
    "    print('alice')\n",
    "print('bob')"
   ]
  },
  {
   "cell_type": "markdown",
   "metadata": {
    "run_control": {
     "frozen": false,
     "read_only": false
    }
   },
   "source": [
    "Be careful about indentation. What is going on below?"
   ]
  },
  {
   "cell_type": "code",
   "execution_count": 54,
   "metadata": {},
   "outputs": [
    {
     "ename": "IndentationError",
     "evalue": "unexpected indent (<ipython-input-54-47d7505c9bad>, line 6)",
     "output_type": "error",
     "traceback": [
      "\u001b[0;36m  File \u001b[0;32m\"<ipython-input-54-47d7505c9bad>\"\u001b[0;36m, line \u001b[0;32m6\u001b[0m\n\u001b[0;31m    print(\"cathy\")\u001b[0m\n\u001b[0m    ^\u001b[0m\n\u001b[0;31mIndentationError\u001b[0m\u001b[0;31m:\u001b[0m unexpected indent\n"
     ]
    }
   ],
   "source": [
    "values = [1,2,3,4,5]\n",
    "for element in values:\n",
    "    print(\"element:\", element)\n",
    "    print('alice')\n",
    "print('bob')\n",
    "    print(\"cathy\")"
   ]
  },
  {
   "cell_type": "code",
   "execution_count": 55,
   "metadata": {
    "ExecuteTime": {
     "end_time": "2018-03-26T22:53:08.117477Z",
     "start_time": "2018-03-26T22:53:08.105418Z"
    },
    "run_control": {
     "frozen": false,
     "read_only": false
    }
   },
   "outputs": [
    {
     "ename": "IndentationError",
     "evalue": "unexpected indent (<ipython-input-55-2a23916f1cc4>, line 5)",
     "output_type": "error",
     "traceback": [
      "\u001b[0;36m  File \u001b[0;32m\"<ipython-input-55-2a23916f1cc4>\"\u001b[0;36m, line \u001b[0;32m5\u001b[0m\n\u001b[0;31m    x = element\u001b[0m\n\u001b[0m    ^\u001b[0m\n\u001b[0;31mIndentationError\u001b[0m\u001b[0;31m:\u001b[0m unexpected indent\n"
     ]
    }
   ],
   "source": [
    "x = 0\n",
    "for element in [1,2,3,4]:\n",
    "    print(\"element:\", element)\n",
    "print(x)\n",
    "    x = element\n",
    "    print(x)"
   ]
  },
  {
   "cell_type": "markdown",
   "metadata": {
    "run_control": {
     "frozen": false,
     "read_only": false
    }
   },
   "source": [
    "Fixed:"
   ]
  },
  {
   "cell_type": "code",
   "execution_count": 56,
   "metadata": {
    "ExecuteTime": {
     "end_time": "2018-03-26T22:53:13.383881Z",
     "start_time": "2018-03-26T22:53:13.364093Z"
    },
    "run_control": {
     "frozen": false,
     "read_only": false
    }
   },
   "outputs": [
    {
     "name": "stdout",
     "output_type": "stream",
     "text": [
      "element: 1\n",
      "x: 0\n",
      "element: 2\n",
      "x: 1\n",
      "element: 3\n",
      "x: 2\n",
      "element: 4\n",
      "x: 3\n",
      "x (at the end): 4\n"
     ]
    }
   ],
   "source": [
    "x = 0\n",
    "for element in [1,2,3,4]:\n",
    "    print(\"element:\", element)\n",
    "    print(\"x:\", x)\n",
    "    x = element\n",
    "print(\"x (at the end):\", x)"
   ]
  },
  {
   "cell_type": "markdown",
   "metadata": {},
   "source": [
    "### The `range` function:"
   ]
  },
  {
   "cell_type": "code",
   "execution_count": 57,
   "metadata": {
    "scrolled": true
   },
   "outputs": [
    {
     "name": "stdout",
     "output_type": "stream",
     "text": [
      "z\n",
      "z\n",
      "z\n",
      "z\n",
      "z\n"
     ]
    }
   ],
   "source": [
    "for z in range(5):\n",
    "    print(\"z\")"
   ]
  },
  {
   "cell_type": "code",
   "execution_count": 58,
   "metadata": {
    "ExecuteTime": {
     "end_time": "2018-03-26T22:53:18.451360Z",
     "start_time": "2018-03-26T22:53:18.431981Z"
    },
    "run_control": {
     "frozen": false,
     "read_only": false
    }
   },
   "outputs": [
    {
     "name": "stdout",
     "output_type": "stream",
     "text": [
      "x: 0\n",
      "x: 1\n",
      "x: 2\n",
      "x: 3\n",
      "x: 4\n"
     ]
    }
   ],
   "source": [
    "for x in range(5):\n",
    "    print(\"x:\", x)"
   ]
  },
  {
   "cell_type": "markdown",
   "metadata": {
    "run_control": {
     "frozen": false,
     "read_only": false
    }
   },
   "source": [
    "Now let's use this to create a nested `for` loop."
   ]
  },
  {
   "cell_type": "code",
   "execution_count": 59,
   "metadata": {
    "ExecuteTime": {
     "end_time": "2018-03-26T22:53:20.903252Z",
     "start_time": "2018-03-26T22:53:20.880475Z"
    },
    "run_control": {
     "frozen": false,
     "read_only": false
    }
   },
   "outputs": [
    {
     "name": "stdout",
     "output_type": "stream",
     "text": [
      "**Starting iteration of outer loop**\n",
      "i = 0\n",
      "j = 0\n",
      "j = 1\n",
      "j = 2\n",
      "**Starting iteration of outer loop**\n",
      "i = 1\n",
      "j = 0\n",
      "j = 1\n",
      "j = 2\n",
      "**Starting iteration of outer loop**\n",
      "i = 2\n",
      "j = 0\n",
      "j = 1\n",
      "j = 2\n",
      "**Starting iteration of outer loop**\n",
      "i = 3\n",
      "j = 0\n",
      "j = 1\n",
      "j = 2\n",
      "**Starting iteration of outer loop**\n",
      "i = 4\n",
      "j = 0\n",
      "j = 1\n",
      "j = 2\n"
     ]
    }
   ],
   "source": [
    "for i in range(5):\n",
    "    print(\"**Starting iteration of outer loop**\")\n",
    "    print(\"i =\",i)\n",
    "    for j in range(3):\n",
    "        print(\"j =\",j)"
   ]
  },
  {
   "cell_type": "markdown",
   "metadata": {
    "run_control": {
     "frozen": false,
     "read_only": false
    }
   },
   "source": [
    "The idea here is that the outer `for` loop only repeats when it gets to the bottom of its indented stuff. Since there's a `for` loop inside, it runs all the way through EVERYTIME for the outer `for`. We can see that for every `i` all the `j`'s get a chance to show up."
   ]
  },
  {
   "cell_type": "markdown",
   "metadata": {},
   "source": [
    "### Exercise:\n",
    "\n",
    "Write code to print the numbers from 10 to 1 and then print \"Blast off!\" once. Hint: pull up the documentation for the `range` function using `range?`. You'll see that `range` has the same \"start-stop-step\" logic as list indexing does. Use that in this problem!"
   ]
  },
  {
   "cell_type": "code",
   "execution_count": 3,
   "metadata": {},
   "outputs": [],
   "source": [
    "# Your code here"
   ]
  },
  {
   "cell_type": "markdown",
   "metadata": {},
   "source": [
    "### `if` statements"
   ]
  },
  {
   "cell_type": "markdown",
   "metadata": {},
   "source": [
    "### Basic syntax:"
   ]
  },
  {
   "cell_type": "markdown",
   "metadata": {},
   "source": [
    "```python\n",
    "if <boolean expression>:\n",
    "    <code block to run>\n",
    "```"
   ]
  },
  {
   "cell_type": "code",
   "execution_count": 62,
   "metadata": {},
   "outputs": [
    {
     "name": "stdout",
     "output_type": "stream",
     "text": [
      "a is even\n"
     ]
    }
   ],
   "source": [
    "a = 6\n",
    "if a % 2 == 0:\n",
    "    print(\"a is even\")"
   ]
  },
  {
   "cell_type": "code",
   "execution_count": 63,
   "metadata": {},
   "outputs": [],
   "source": [
    "a = 5\n",
    "if a % 2 == 0:\n",
    "    print(\"a is even\")"
   ]
  },
  {
   "cell_type": "code",
   "execution_count": 64,
   "metadata": {},
   "outputs": [
    {
     "name": "stdout",
     "output_type": "stream",
     "text": [
      "a is odd\n"
     ]
    }
   ],
   "source": [
    "a = 5\n",
    "if a % 2 == 0:\n",
    "    print(\"a is even\")\n",
    "else:\n",
    "    print(\"a is odd\")"
   ]
  },
  {
   "cell_type": "code",
   "execution_count": 65,
   "metadata": {},
   "outputs": [
    {
     "name": "stdout",
     "output_type": "stream",
     "text": [
      "a is less than or equal to 2\n"
     ]
    }
   ],
   "source": [
    "a = 2\n",
    "if a >= 3:\n",
    "    print(\"a is greater than or equal to 3\")\n",
    "elif a > 2:\n",
    "    print(\"a is greater than 2 but not greater than or equal to 3\")\n",
    "else:\n",
    "    print(\"a is less than or equal to 2\")"
   ]
  },
  {
   "cell_type": "markdown",
   "metadata": {},
   "source": [
    "### Exercise 1:\n",
    "\n",
    "Take the list values. Sum the numbers in the list using a `for` loop. \n",
    "\n",
    "As you're going through the `for` loop, check if each element is an integer using\n",
    "\n",
    "```python\n",
    "isinstance(num, int)\n",
    "```\n",
    "\n",
    "For the elements that are not integers, simply ignore them."
   ]
  },
  {
   "cell_type": "code",
   "execution_count": 66,
   "metadata": {},
   "outputs": [],
   "source": [
    "values = [1, 2, 3, \"square\", 16, \"beethoven\", None, \"don't sum me!\", \"me neither\", 784]"
   ]
  },
  {
   "cell_type": "code",
   "execution_count": 67,
   "metadata": {},
   "outputs": [
    {
     "name": "stdout",
     "output_type": "stream",
     "text": [
      "True\n",
      "True\n"
     ]
    }
   ],
   "source": [
    "# \"isinstance\" illustration:\n",
    "print(isinstance(3, int))\n",
    "print(isinstance(3.5, float))"
   ]
  },
  {
   "cell_type": "code",
   "execution_count": 4,
   "metadata": {},
   "outputs": [],
   "source": [
    "# Your code here"
   ]
  },
  {
   "cell_type": "markdown",
   "metadata": {},
   "source": [
    "### Exercise 2:\n",
    "\n",
    "Take the list below and use a similar structure as above - `if` statements inside of a `for` loop - to determine which is greater: the sum of the _even_ numbers in the list below or the sum of the _odd_ numbers in the list below."
   ]
  },
  {
   "cell_type": "code",
   "execution_count": 5,
   "metadata": {},
   "outputs": [],
   "source": [
    "values_2 = [3, 1, 3, 789, 1465, 2444, 90, 87, 731]\n",
    "# Your code here"
   ]
  },
  {
   "cell_type": "markdown",
   "metadata": {},
   "source": [
    "**Question**: How could we check this using our solution to Exercise 1?"
   ]
  },
  {
   "cell_type": "markdown",
   "metadata": {},
   "source": [
    "**Answer**: Check that sum of even numbers and odd numbers gives sum of all numbers. Suggests that it would be useful to have the sum of all numbers in a list as a function (see more below)."
   ]
  },
  {
   "cell_type": "markdown",
   "metadata": {
    "run_control": {
     "frozen": false,
     "read_only": false
    }
   },
   "source": [
    "## Dictionaries - A complement to lists"
   ]
  },
  {
   "cell_type": "markdown",
   "metadata": {},
   "source": [
    "Lists are an ideal data structure when you have an ordered collection of objects.\n",
    "\n",
    "Dictionaries are an ideal data structure for creating a \"lookup\". For example, if we wanted to associate the area codes shown earlier with the cities they are associated with, a dictionary would be the thing to use. Here's how we'd do it:"
   ]
  },
  {
   "cell_type": "code",
   "execution_count": 70,
   "metadata": {
    "ExecuteTime": {
     "end_time": "2018-03-26T22:55:57.978857Z",
     "start_time": "2018-03-26T22:55:57.971200Z"
    }
   },
   "outputs": [
    {
     "name": "stdout",
     "output_type": "stream",
     "text": [
      "Type of 'cities': <class 'dict'>\n"
     ]
    }
   ],
   "source": [
    "cities = {'Pittsburgh': 412, 'Chicago': 312, 'San Francisco': 415}\n",
    "print(\"Type of 'cities':\", type(cities))"
   ]
  },
  {
   "cell_type": "markdown",
   "metadata": {},
   "source": [
    "What does this data structure allow us to do? It allows us to look things up quickly, just like we'd do in a dictionary:"
   ]
  },
  {
   "cell_type": "code",
   "execution_count": 71,
   "metadata": {},
   "outputs": [
    {
     "data": {
      "text/plain": [
       "412"
      ]
     },
     "execution_count": 71,
     "metadata": {},
     "output_type": "execute_result"
    }
   ],
   "source": [
    "cities['Pittsburgh']"
   ]
  },
  {
   "cell_type": "code",
   "execution_count": 72,
   "metadata": {
    "ExecuteTime": {
     "end_time": "2018-03-26T22:56:00.040280Z",
     "start_time": "2018-03-26T22:56:00.032467Z"
    }
   },
   "outputs": [
    {
     "name": "stdout",
     "output_type": "stream",
     "text": [
      "Looking up 'Pittsburgh' in 'cities': 412\n"
     ]
    }
   ],
   "source": [
    "print(\"Looking up 'Pittsburgh' in 'cities':\", cities['Pittsburgh'])"
   ]
  },
  {
   "cell_type": "markdown",
   "metadata": {},
   "source": [
    "Notice that unlike with lists, the following will _not_ work: "
   ]
  },
  {
   "cell_type": "code",
   "execution_count": 73,
   "metadata": {
    "ExecuteTime": {
     "end_time": "2018-03-26T22:56:04.169709Z",
     "start_time": "2018-03-26T22:56:04.155082Z"
    }
   },
   "outputs": [
    {
     "ename": "KeyError",
     "evalue": "0",
     "output_type": "error",
     "traceback": [
      "\u001b[0;31m---------------------------------------------------------------------------\u001b[0m",
      "\u001b[0;31mKeyError\u001b[0m                                  Traceback (most recent call last)",
      "\u001b[0;32m<ipython-input-73-8e277aba1488>\u001b[0m in \u001b[0;36m<module>\u001b[0;34m\u001b[0m\n\u001b[0;32m----> 1\u001b[0;31m \u001b[0mcities\u001b[0m\u001b[0;34m[\u001b[0m\u001b[0;36m0\u001b[0m\u001b[0;34m]\u001b[0m\u001b[0;34m\u001b[0m\u001b[0;34m\u001b[0m\u001b[0m\n\u001b[0m",
      "\u001b[0;31mKeyError\u001b[0m: 0"
     ]
    }
   ],
   "source": [
    "cities[0]"
   ]
  },
  {
   "cell_type": "markdown",
   "metadata": {},
   "source": [
    "That is because dictionaries are _not_ ordered, unlike lists - there is no \"first element\" of a dictionary."
   ]
  },
  {
   "cell_type": "markdown",
   "metadata": {},
   "source": [
    "Some terminology: \n",
    "* The elements `'Pittsburgh'`, `'Chicago`', and `'San Francisco`' are called the **keys** of the dictionary\n",
    "* The values `412`, `312`, and `415` are called the **values** of the dictionary."
   ]
  },
  {
   "cell_type": "markdown",
   "metadata": {},
   "source": [
    "Dictionaries can also quickly tell us if an element is \"in\" the dictionary:"
   ]
  },
  {
   "cell_type": "code",
   "execution_count": 74,
   "metadata": {
    "ExecuteTime": {
     "end_time": "2018-03-26T22:56:06.621890Z",
     "start_time": "2018-03-26T22:56:06.613751Z"
    }
   },
   "outputs": [
    {
     "name": "stdout",
     "output_type": "stream",
     "text": [
      "'Pittsburgh' in 'cities': True\n",
      "'London' in 'cities': False\n"
     ]
    }
   ],
   "source": [
    "print(\"'Pittsburgh' in 'cities':\", 'Pittsburgh' in cities)\n",
    "print(\"'London' in 'cities':\", 'London' in cities)"
   ]
  },
  {
   "cell_type": "markdown",
   "metadata": {},
   "source": [
    "Note that this does _not_ work for values:"
   ]
  },
  {
   "cell_type": "code",
   "execution_count": 75,
   "metadata": {
    "ExecuteTime": {
     "end_time": "2018-03-26T22:56:08.362973Z",
     "start_time": "2018-03-26T22:56:08.352865Z"
    }
   },
   "outputs": [
    {
     "name": "stdout",
     "output_type": "stream",
     "text": [
      "412 in 'cities': False\n"
     ]
    }
   ],
   "source": [
    "print(\"412 in 'cities':\", 412 in cities)"
   ]
  },
  {
   "cell_type": "code",
   "execution_count": 76,
   "metadata": {},
   "outputs": [
    {
     "data": {
      "text/plain": [
       "312"
      ]
     },
     "execution_count": 76,
     "metadata": {},
     "output_type": "execute_result"
    }
   ],
   "source": [
    "cities['Chicago']"
   ]
  },
  {
   "cell_type": "code",
   "execution_count": 77,
   "metadata": {},
   "outputs": [],
   "source": [
    "cities['London'] = 1"
   ]
  },
  {
   "cell_type": "code",
   "execution_count": 78,
   "metadata": {},
   "outputs": [
    {
     "data": {
      "text/plain": [
       "{'Pittsburgh': 412, 'Chicago': 312, 'San Francisco': 415, 'London': 1}"
      ]
     },
     "execution_count": 78,
     "metadata": {},
     "output_type": "execute_result"
    }
   ],
   "source": [
    "cities"
   ]
  },
  {
   "cell_type": "markdown",
   "metadata": {},
   "source": [
    "Despite the fact that dictionaries are not ordered, we can iterate through either the keys or the values, which is very handy:"
   ]
  },
  {
   "cell_type": "code",
   "execution_count": 79,
   "metadata": {
    "ExecuteTime": {
     "end_time": "2018-03-26T22:56:09.797177Z",
     "start_time": "2018-03-26T22:56:09.780060Z"
    }
   },
   "outputs": [
    {
     "name": "stdout",
     "output_type": "stream",
     "text": [
      "Iterating through the keys:\n",
      "'cities' key: Pittsburgh\n",
      "'cities' key: Chicago\n",
      "'cities' key: San Francisco\n",
      "'cities' key: London\n",
      "\n",
      "Iterating through the values:\n",
      "'cities' value: 412\n",
      "'cities' value: 312\n",
      "'cities' value: 415\n",
      "'cities' value: 1\n"
     ]
    }
   ],
   "source": [
    "print(\"Iterating through the keys:\")\n",
    "for key in cities.keys():\n",
    "    print(\"'cities' key:\", key)\n",
    "print()\n",
    "print(\"Iterating through the values:\")\n",
    "for value in cities.values():\n",
    "    print(\"'cities' value:\", value)"
   ]
  },
  {
   "cell_type": "markdown",
   "metadata": {},
   "source": [
    "We can also use the handy `.items()` function to iterate through the keys and the values at the same time."
   ]
  },
  {
   "cell_type": "code",
   "execution_count": 80,
   "metadata": {
    "ExecuteTime": {
     "end_time": "2018-03-26T22:56:11.633243Z",
     "start_time": "2018-03-26T22:56:11.617813Z"
    }
   },
   "outputs": [
    {
     "name": "stdout",
     "output_type": "stream",
     "text": [
      "'cities' key: Pittsburgh\n",
      "'cities' value: 412\n",
      "'cities' key: Chicago\n",
      "'cities' value: 312\n",
      "'cities' key: San Francisco\n",
      "'cities' value: 415\n",
      "'cities' key: London\n",
      "'cities' value: 1\n"
     ]
    }
   ],
   "source": [
    "for key, value in cities.items():\n",
    "    print(\"'cities' key:\", key)\n",
    "    print(\"'cities' value:\", value)"
   ]
  },
  {
   "cell_type": "markdown",
   "metadata": {
    "run_control": {
     "frozen": false,
     "read_only": false
    }
   },
   "source": [
    "Dictionaries can also have sub-dictionaries. For instance, let's look at how we might store information about some baseball players."
   ]
  },
  {
   "cell_type": "code",
   "execution_count": 81,
   "metadata": {
    "ExecuteTime": {
     "end_time": "2018-03-26T22:56:12.974472Z",
     "start_time": "2018-03-26T22:56:12.964534Z"
    },
    "run_control": {
     "frozen": false,
     "read_only": false
    }
   },
   "outputs": [
    {
     "name": "stdout",
     "output_type": "stream",
     "text": [
      "career_stats['babe_ruth'] = {1914: ['Red Sox', 5, 10, 0], 1915: ['Red Sox', 43, 104, 4]}\n"
     ]
    }
   ],
   "source": [
    "# Let's assume a format like [Team, Games, Plate Apperance, Home Runs]\n",
    "career_stats = {'babe_ruth': {1914: [\"Red Sox\",5,10,0], \n",
    "                              1915:['Red Sox', 43, 104, 4]},\n",
    "                'gavvy_cravath': {1914: \n",
    "                                  ['Phillies',149,604,14]}} # Yes, that's a real baseball player's name\n",
    "print(\"career_stats['babe_ruth'] =\", career_stats['babe_ruth'])"
   ]
  },
  {
   "cell_type": "markdown",
   "metadata": {},
   "source": [
    "Adding elements to dictionaries is done using the `[]` notation as follows:"
   ]
  },
  {
   "cell_type": "code",
   "execution_count": 82,
   "metadata": {},
   "outputs": [
    {
     "name": "stdout",
     "output_type": "stream",
     "text": [
      "{'first': ['Seth'], 'last': ['Weidman']}\n"
     ]
    }
   ],
   "source": [
    "d = {}\n",
    "d['first'] = ['Seth']\n",
    "d['last'] = ['Weidman']\n",
    "print(d)"
   ]
  },
  {
   "cell_type": "markdown",
   "metadata": {},
   "source": [
    "### Problem 3\n",
    "\n",
    "Create a dictionary that contains key-value pairs corresponding to your: \n",
    "\n",
    "* City of birth\n",
    "* Country of birth\n",
    "* Current city \n",
    "\n",
    "In addition, add another key of **`cities_lived`** to this dictionary with a _list_ of all the cities you've lived in as a value."
   ]
  },
  {
   "cell_type": "code",
   "execution_count": 83,
   "metadata": {},
   "outputs": [
    {
     "name": "stdout",
     "output_type": "stream",
     "text": [
      "{'city_birth': 'New Rochelle', 'country_birth': 'USA', 'current_city': 'NYC'}\n",
      "{'city_birth': 'New Rochelle', 'country_birth': 'USA', 'current_city': 'NYC', 'cities_lived': ['NYC', 'Boston', 'Cambridge (UK)', 'Cambridge (MA)']}\n"
     ]
    }
   ],
   "source": [
    "# your code here\n",
    "my_dict = {'city_birth': 'New Rochelle', 'country_birth': 'USA', 'current_city': 'NYC'}\n",
    "print(my_dict)\n",
    "\n",
    "my_dict['cities_lived']=['NYC', 'Boston', 'Cambridge (UK)', 'Cambridge (MA)']\n",
    "print(my_dict)"
   ]
  },
  {
   "cell_type": "markdown",
   "metadata": {},
   "source": [
    "## Functions"
   ]
  },
  {
   "cell_type": "markdown",
   "metadata": {},
   "source": [
    "Functions are an essential part of programming well. They:\n",
    "\n",
    "* Make your code more readable\n",
    "* Allow you to avoid repetition\n",
    "* Make your code more flexible"
   ]
  },
  {
   "cell_type": "markdown",
   "metadata": {},
   "source": [
    "Let's first review the syntax of defining functions and then show how we can make code we've already written in this notebook more reusable using functions."
   ]
  },
  {
   "cell_type": "markdown",
   "metadata": {},
   "source": [
    "### Function syntax review"
   ]
  },
  {
   "cell_type": "code",
   "execution_count": 84,
   "metadata": {},
   "outputs": [],
   "source": [
    "# simple function to calculate the nth power of any number\n",
    "def my_nth_power(num, n):\n",
    "    return num ** n"
   ]
  },
  {
   "cell_type": "code",
   "execution_count": 85,
   "metadata": {},
   "outputs": [
    {
     "data": {
      "text/plain": [
       "16"
      ]
     },
     "execution_count": 85,
     "metadata": {},
     "output_type": "execute_result"
    }
   ],
   "source": [
    "my_nth_power(4, 2)"
   ]
  },
  {
   "cell_type": "code",
   "execution_count": 86,
   "metadata": {},
   "outputs": [
    {
     "data": {
      "text/plain": [
       "400"
      ]
     },
     "execution_count": 86,
     "metadata": {},
     "output_type": "execute_result"
    }
   ],
   "source": [
    "my_nth_power(20, 2)"
   ]
  },
  {
   "cell_type": "markdown",
   "metadata": {},
   "source": [
    "Variables defined within functions are local to that function:"
   ]
  },
  {
   "cell_type": "code",
   "execution_count": 87,
   "metadata": {},
   "outputs": [],
   "source": [
    "# simple function to calculate the nth power of any number\n",
    "def my_nth_power(num, n):\n",
    "    return num ** n"
   ]
  },
  {
   "cell_type": "code",
   "execution_count": 88,
   "metadata": {},
   "outputs": [
    {
     "ename": "NameError",
     "evalue": "name 'num' is not defined",
     "output_type": "error",
     "traceback": [
      "\u001b[0;31m---------------------------------------------------------------------------\u001b[0m",
      "\u001b[0;31mNameError\u001b[0m                                 Traceback (most recent call last)",
      "\u001b[0;32m<ipython-input-88-c774dac2b598>\u001b[0m in \u001b[0;36m<module>\u001b[0;34m\u001b[0m\n\u001b[0;32m----> 1\u001b[0;31m \u001b[0mnum\u001b[0m\u001b[0;34m\u001b[0m\u001b[0;34m\u001b[0m\u001b[0m\n\u001b[0m",
      "\u001b[0;31mNameError\u001b[0m: name 'num' is not defined"
     ]
    }
   ],
   "source": [
    "num"
   ]
  },
  {
   "cell_type": "code",
   "execution_count": 89,
   "metadata": {},
   "outputs": [
    {
     "data": {
      "text/plain": [
       "4"
      ]
     },
     "execution_count": 89,
     "metadata": {},
     "output_type": "execute_result"
    }
   ],
   "source": [
    "my_nth_power(2, 2)"
   ]
  },
  {
   "cell_type": "code",
   "execution_count": 90,
   "metadata": {},
   "outputs": [
    {
     "data": {
      "text/plain": [
       "25"
      ]
     },
     "execution_count": 90,
     "metadata": {},
     "output_type": "execute_result"
    }
   ],
   "source": [
    "my_nth_power(5, 2)"
   ]
  },
  {
   "cell_type": "markdown",
   "metadata": {},
   "source": [
    "#### Printing vs. returning"
   ]
  },
  {
   "cell_type": "markdown",
   "metadata": {},
   "source": [
    "Functions can be used to print things in addition to returning their results:"
   ]
  },
  {
   "cell_type": "code",
   "execution_count": 91,
   "metadata": {},
   "outputs": [],
   "source": [
    "# simple function to calculate the nth power of any number\n",
    "def nth_power_no_return(num, n):\n",
    "    print(\"The result of the calculation within the function is:\", num ** n)\n",
    "    return \"hello\""
   ]
  },
  {
   "cell_type": "code",
   "execution_count": 92,
   "metadata": {},
   "outputs": [
    {
     "name": "stdout",
     "output_type": "stream",
     "text": [
      "The result of the calculation within the function is: 625\n",
      "hello\n"
     ]
    }
   ],
   "source": [
    "a = nth_power_no_return(5, 4)\n",
    "print(a)"
   ]
  },
  {
   "cell_type": "markdown",
   "metadata": {},
   "source": [
    "# Default arguments\n",
    "\n",
    "In the function above, all arguments were required; the function would error if you gave it just one argument (try it!).\n",
    "\n",
    "Below, we show that you can use \"default\" arguments to allow the user to omit certain arguments."
   ]
  },
  {
   "cell_type": "code",
   "execution_count": 93,
   "metadata": {},
   "outputs": [],
   "source": [
    "# function defauls to having power=2 if none is specified\n",
    "def nth_power(num, n=2):\n",
    "    return num ** n"
   ]
  },
  {
   "cell_type": "code",
   "execution_count": 94,
   "metadata": {},
   "outputs": [
    {
     "data": {
      "text/plain": [
       "64"
      ]
     },
     "execution_count": 94,
     "metadata": {},
     "output_type": "execute_result"
    }
   ],
   "source": [
    "nth_power(8)"
   ]
  },
  {
   "cell_type": "code",
   "execution_count": 95,
   "metadata": {},
   "outputs": [
    {
     "data": {
      "text/plain": [
       "4"
      ]
     },
     "execution_count": 95,
     "metadata": {},
     "output_type": "execute_result"
    }
   ],
   "source": [
    "nth_power(2, 2) # no problem with doing this"
   ]
  },
  {
   "cell_type": "code",
   "execution_count": 96,
   "metadata": {
    "scrolled": true
   },
   "outputs": [
    {
     "data": {
      "text/plain": [
       "8"
      ]
     },
     "execution_count": 96,
     "metadata": {},
     "output_type": "execute_result"
    }
   ],
   "source": [
    "nth_power(2, 3)"
   ]
  },
  {
   "cell_type": "markdown",
   "metadata": {},
   "source": [
    "Must have all \"positional\" arguments before keyword arguments:"
   ]
  },
  {
   "cell_type": "code",
   "execution_count": 97,
   "metadata": {
    "scrolled": true
   },
   "outputs": [
    {
     "ename": "SyntaxError",
     "evalue": "positional argument follows keyword argument (<ipython-input-97-1ac448b64ed2>, line 1)",
     "output_type": "error",
     "traceback": [
      "\u001b[0;36m  File \u001b[0;32m\"<ipython-input-97-1ac448b64ed2>\"\u001b[0;36m, line \u001b[0;32m1\u001b[0m\n\u001b[0;31m    nth_power(n=2, 3) # error: what does the message say?\u001b[0m\n\u001b[0m                  ^\u001b[0m\n\u001b[0;31mSyntaxError\u001b[0m\u001b[0;31m:\u001b[0m positional argument follows keyword argument\n"
     ]
    }
   ],
   "source": [
    "nth_power(n=2, 3) # error: what does the message say?"
   ]
  },
  {
   "cell_type": "markdown",
   "metadata": {},
   "source": [
    "As the message says: all positional arguments must come before \"keyword arguments\" (arguments to functions specified with a label)."
   ]
  },
  {
   "cell_type": "markdown",
   "metadata": {},
   "source": [
    "#### `return` keyword\n",
    "\n",
    "The `return` keyword is so-called because it \"returns\" control to the function calling it. \n",
    "\n",
    "As we mentioned: if there is no `return` statement in a function, it just returns `None`. A common mistake beginniners make is to write functions that look like this:"
   ]
  },
  {
   "cell_type": "code",
   "execution_count": 98,
   "metadata": {},
   "outputs": [],
   "source": [
    "# function defauls to having power=2 if none is specified\n",
    "def nth_power_no_return(num, n):\n",
    "    ans = num ** n"
   ]
  },
  {
   "cell_type": "code",
   "execution_count": 99,
   "metadata": {},
   "outputs": [
    {
     "name": "stdout",
     "output_type": "stream",
     "text": [
      "None\n"
     ]
    }
   ],
   "source": [
    "print(nth_power_no_return(3, 3)) # no result!"
   ]
  },
  {
   "cell_type": "markdown",
   "metadata": {},
   "source": [
    "#### `returning` early\n",
    "\n",
    "There can be multiple return statements in a function, but be careful: once the function hits a return statement, it is done, as it has \"returned\" control to whatever program called it.\n",
    "\n",
    "Let's say we have a function that computes the square root of a number, but we know that the most frequent arguments it gets are 0, 1, and 4, so we \"hard code\" those answers so that we don't actually have to do the computation in those cases. \n",
    "\n",
    "We could write such a function like this:\n",
    "\n"
   ]
  },
  {
   "cell_type": "code",
   "execution_count": 100,
   "metadata": {},
   "outputs": [],
   "source": [
    "import math\n",
    "\n",
    "def square_root(num):\n",
    "    if num == 0:\n",
    "        return 0\n",
    "    elif num == 1:\n",
    "        return 1\n",
    "    elif num == 4:\n",
    "        print('I am here!')\n",
    "        return 2\n",
    "    else: \n",
    "        return math.sqrt(num)"
   ]
  },
  {
   "cell_type": "code",
   "execution_count": 101,
   "metadata": {},
   "outputs": [
    {
     "name": "stdout",
     "output_type": "stream",
     "text": [
      "I am here!\n"
     ]
    },
    {
     "data": {
      "text/plain": [
       "2"
      ]
     },
     "execution_count": 101,
     "metadata": {},
     "output_type": "execute_result"
    }
   ],
   "source": [
    "square_root(4)"
   ]
  },
  {
   "cell_type": "markdown",
   "metadata": {},
   "source": [
    "#### `return`ing multiple arguments"
   ]
  },
  {
   "cell_type": "code",
   "execution_count": 102,
   "metadata": {},
   "outputs": [],
   "source": [
    "def nth_power_multiple(num, n):\n",
    "    return num ** n, n# return the result AND the power (packing - packs the result and power into a tuple)  "
   ]
  },
  {
   "cell_type": "code",
   "execution_count": 103,
   "metadata": {},
   "outputs": [
    {
     "data": {
      "text/plain": [
       "(9, 2)"
      ]
     },
     "execution_count": 103,
     "metadata": {},
     "output_type": "execute_result"
    }
   ],
   "source": [
    "nth_power_multiple(3, 2) # returns a *tuple*"
   ]
  },
  {
   "cell_type": "code",
   "execution_count": 104,
   "metadata": {},
   "outputs": [
    {
     "name": "stdout",
     "output_type": "stream",
     "text": [
      "Result: 9\n",
      "Power: 2\n"
     ]
    }
   ],
   "source": [
    "# can access arguments like this:\n",
    "result, power = nth_power_multiple(3, 2)\n",
    "print(\"Result:\", result)\n",
    "print(\"Power:\", power)"
   ]
  },
  {
   "cell_type": "markdown",
   "metadata": {},
   "source": [
    "### Using functions as a data scientist"
   ]
  },
  {
   "cell_type": "markdown",
   "metadata": {},
   "source": [
    "A good practice is whenever you write a discrete chunk of code that does something, to wrap it in a function.\n",
    "\n",
    "This way it becomes a reusable _tool_ rather than simply something you did.\n",
    "\n",
    "For example, if I compute \n",
    "\n",
    "```python\n",
    "9 ** 2\n",
    "```\n",
    "\n",
    "I could wrap this is a function by writing:\n",
    "\n",
    "```python\n",
    "def raise_number_to_power(num, power):\n",
    "    return num ** power\n",
    "```\n",
    "\n",
    "And then write:\n",
    "\n",
    "```python\n",
    "raise_number_to_power(9, 2) # 81\n",
    "```"
   ]
  },
  {
   "cell_type": "markdown",
   "metadata": {},
   "source": [
    "### Function practice exercises\n",
    "\n",
    "#### Exercise 1\n",
    "\n",
    "Start by writing function called **`sum_with_strings`** for the code you already wrote above for summing all the numbers in a list that may have strings.\n",
    "\n",
    "**Note:** This should require very little new code; just \"wrapping\" `def` and `return` around the code you wrote above."
   ]
  },
  {
   "cell_type": "code",
   "execution_count": 2,
   "metadata": {},
   "outputs": [],
   "source": [
    "values = [1,2,3,800]"
   ]
  },
  {
   "cell_type": "code",
   "execution_count": 10,
   "metadata": {},
   "outputs": [],
   "source": [
    "# your code here\n"
   ]
  },
  {
   "cell_type": "markdown",
   "metadata": {},
   "source": [
    "#### Exercise 2\n",
    "\n",
    "Write a function called **`evens_over_odds`** that takes in a list and returns `True` if the sum of evens is greater than the sum of the odds and `False` otherwise.\n"
   ]
  },
  {
   "cell_type": "code",
   "execution_count": 12,
   "metadata": {},
   "outputs": [],
   "source": [
    "# your code here\n"
   ]
  },
  {
   "cell_type": "markdown",
   "metadata": {},
   "source": [
    "#### Exercise 3 \n",
    "\n",
    "Write a function called **`globetrotter`** that takes in the dictionary of information about a person of the same structure you defined in Problem 3 and `return`s the number of cities they have lived in. \n",
    "\n",
    "In addition, if the dictionary does not have the form you expect, `return` -1. For example, if the function expects the input dictionary to have a key called `cities_lived`, but it does not, use a separate `if` check to ensure the function `return`s -1."
   ]
  },
  {
   "cell_type": "code",
   "execution_count": 15,
   "metadata": {},
   "outputs": [],
   "source": [
    "# your code here"
   ]
  },
  {
   "cell_type": "markdown",
   "metadata": {},
   "source": [
    "#### Exercise 4 (challenge)\n",
    "\n",
    "Write a function called **`min_and_max`** that takes in a list and returns both the min and the max of the list.\n",
    "\n",
    "Do **not** use the built-in `min` and `max` functions. Use a `for` loop to iterate through the list and check whatever you need to check for each element using an `if` statement, "
   ]
  },
  {
   "cell_type": "code",
   "execution_count": 49,
   "metadata": {},
   "outputs": [],
   "source": [
    "# your code here"
   ]
  },
  {
   "cell_type": "code",
   "execution_count": null,
   "metadata": {},
   "outputs": [],
   "source": []
  }
 ],
 "metadata": {
  "kernelspec": {
   "display_name": "Python 3",
   "language": "python",
   "name": "python3"
  },
  "language_info": {
   "codemirror_mode": {
    "name": "ipython",
    "version": 3
   },
   "file_extension": ".py",
   "mimetype": "text/x-python",
   "name": "python",
   "nbconvert_exporter": "python",
   "pygments_lexer": "ipython3",
   "version": "3.7.3"
  }
 },
 "nbformat": 4,
 "nbformat_minor": 2
}
