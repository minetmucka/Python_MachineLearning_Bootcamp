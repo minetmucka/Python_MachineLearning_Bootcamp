{
 "cells": [
  {
   "cell_type": "markdown",
   "metadata": {},
   "source": [
    "## Learning objectives\n",
    "\n",
    "* Explain the Pandas data structures of DataFrames and Series\n",
    "* Perform basic manipulations of data structures in Pandas.\n",
    "\t* Creating new columns\n",
    "\t* Selecting rows based on conditions\n",
    "* Practice reading in files from CSVs and dealing with common issues that arise."
   ]
  },
  {
   "cell_type": "markdown",
   "metadata": {},
   "source": [
    "## Pandas Introduction and Uses"
   ]
  },
  {
   "cell_type": "markdown",
   "metadata": {},
   "source": [
    "### What is Pandas?"
   ]
  },
  {
   "cell_type": "markdown",
   "metadata": {},
   "source": [
    "__Overview:__\n",
    "- __[Pandas](http://pandas.pydata.org/pandas-docs/stable/index.html):__ Pandas is a Python package that provides fast and flexible data structures that are designed to make working with [relational](https://en.wikipedia.org/wiki/Relational_database) or \"labeled\" data easy and intuitive\n",
    "- In the words of [Wes McKinney](https://en.wikipedia.org/wiki/Wes_McKinney), who created Pandas in 2008, and published [this](http://www.dlr.de/sc/Portaldata/15/Resources/dokumente/pyhpc2011/submissions/pyhpc2011_submission_9.pdf) paper in 2011 at PyHPC describing the usefulness and need for Pandas (which was a play on [__Pan__ el __Da__ ta](https://en.wikipedia.org/wiki/Panel_data) )\n",
    "\n",
    "_\"Pandas enables people to analyze and work with data who are not expert computer scientists...the code is intuitive and accessible. Pandas helps people move beyond just using Excel for data analysis\"_ \n",
    "\n",
    "- When Python was first developed, it was very difficult to perform tasks such as importing CSV files, dealing with spreadsheet-like datasets with rows and columns and merging tables \n",
    "- Therefore, Pandas was developed to solve these problems and with the introduction of the DataFrame, Pandas made it possible to do intuitive analysis and exploration in Python that was not possible and still not possible in other languages \n",
    "- In recent years, the Pandas Package has become a staple in the Data Scientist's toolbox for some of the following reasons. In fact, Python is one of the most popular programming languages for Data Scientists specifically because of packages such as Pandas, Numpy, and Matplotlib.\n",
    "> 1. As a Data Scientist, it is common to work with tabular data where the data in each column is different, known as __hetereogenously-typed data__ (similar to a SQL table or Excel spreadsheet). Pandas DataFrame replicates tabular data and allows you to do everything you would in a spreadsheet, but better and faster \n",
    "> 2. As a Data Scientist, it is common to work with time series data that may be ordered or unordered and Pandas has extensive capabilities to treat dates, times, etc. \n",
    "> 3. The most time-consuming part of any Data Scientist's job is __[Data Munging](https://en.wikipedia.org/wiki/Data_wrangling)__ (Data Cleaning/Wrangling) and Pandas provides all the necessary tools at your fingertips to do this quicker and cleaner \n",
    "> 4. Exploratory Data Analysis is often overlooked in Data Science, but remains one of the most important tasks of a Data Scientist and Pandas provides many easy and intuitive methods to perform data manipulation \n",
    "\n",
    "- Now you understand why Data Scientists use the Pandas Package, but what is it about the Pandas Package that allow us, as users of the Pandas Package, to realize these benefits? \n",
    "> 1. __Missing Data:__ Pandas handles missing data well (represented as NaN type from Numpy)\n",
    "> 2. __Size Mutability:__ Pandas DataFrames are size mutable which means columns and rows can be inserted and deleted \n",
    "> 3. __Data Aligment:__ Pandas allows you to align an object to a specific set of labels OR allow Pandas align the data for you\n",
    "> 4. __Grouping Data:__ Pandas `pivot_table` function allows both aggregating and transforming of data \n",
    "> 5. __Data Access:__ Pandas has extensive capabilities of slicing, indexing and subsetting large data sets \n",
    "> 6. __Reshaping Data:__ Pandas has extensive capabilities of merging, joining, and reshaping data \n",
    "> 7. __Input/Output:__ Pandas allows easy import and export of flat files such as CSV \n",
    "> 8. __Time-Series:__ Pandas has specific Time-Series functionality to work with dates"
   ]
  },
  {
   "cell_type": "markdown",
   "metadata": {},
   "source": [
    "### Pandas Data Structures "
   ]
  },
  {
   "cell_type": "markdown",
   "metadata": {},
   "source": [
    "__Overview:__ \n",
    "- Recall that the usefulness of Pandas has to do with its fundamental data structures\n",
    "- There are 2 types of data structures in Pandas:\n",
    "> 1. [`Series`](http://pandas.pydata.org/pandas-docs/stable/generated/pandas.Series.html#pandas.Series): Series is a one-dimensional labeled array that is capable of holding any data type (i.e. `int`, `str`, `float`, etc.), but every element is of this same type. The axis labels of a Series are referred to as the __Index__ of the Series\n",
    "> 2. [`DataFrame`](https://pandas.pydata.org/pandas-docs/stable/generated/pandas.DataFrame.html): Dataframe is a two-dimensional labeled data structure with columns of potentially different types. It largely resembles a spreadsheet or SQL table. The first axis labels of a Dataframe (rows) are referred to as the __Index__ of the Series, whereas the second axis labels labels of a Dataframe (columns) are referred to as the __Columns__ of the Series"
   ]
  },
  {
   "cell_type": "markdown",
   "metadata": {},
   "source": [
    "![](img/dataframe.png)"
   ]
  },
  {
   "cell_type": "code",
   "execution_count": 1,
   "metadata": {},
   "outputs": [],
   "source": [
    "# ignore warnings\n",
    "import warnings\n",
    "warnings.filterwarnings('ignore')\n",
    "\n",
    "# imports\n",
    "import pandas as pd\n",
    "import numpy as np "
   ]
  },
  {
   "cell_type": "markdown",
   "metadata": {},
   "source": [
    "## Creating DataFrames"
   ]
  },
  {
   "cell_type": "markdown",
   "metadata": {},
   "source": [
    "There are several ways to create DataFrames. The way you'll work with most commonly is via a CSV or Excel file:"
   ]
  },
  {
   "cell_type": "markdown",
   "metadata": {},
   "source": [
    "### Reading from CSV"
   ]
  },
  {
   "cell_type": "markdown",
   "metadata": {},
   "source": [
    "Let's look at the CSV file (we can even use Excel for this!)\n",
    "\n",
    "```\n",
    ",First,Last,Age\n",
    "Employee_1,Maya,Midzik,50\n",
    "Employee_2,Jonathan,Balaban,25\n",
    "Employee_3,Jerod,Rubalcava,31\n",
    "```"
   ]
  },
  {
   "cell_type": "code",
   "execution_count": 2,
   "metadata": {},
   "outputs": [
    {
     "data": {
      "text/html": [
       "<div>\n",
       "<style scoped>\n",
       "    .dataframe tbody tr th:only-of-type {\n",
       "        vertical-align: middle;\n",
       "    }\n",
       "\n",
       "    .dataframe tbody tr th {\n",
       "        vertical-align: top;\n",
       "    }\n",
       "\n",
       "    .dataframe thead th {\n",
       "        text-align: right;\n",
       "    }\n",
       "</style>\n",
       "<table border=\"1\" class=\"dataframe\">\n",
       "  <thead>\n",
       "    <tr style=\"text-align: right;\">\n",
       "      <th></th>\n",
       "      <th>Unnamed: 0</th>\n",
       "      <th>First</th>\n",
       "      <th>Last</th>\n",
       "      <th>Age</th>\n",
       "    </tr>\n",
       "  </thead>\n",
       "  <tbody>\n",
       "    <tr>\n",
       "      <th>0</th>\n",
       "      <td>Employee_1</td>\n",
       "      <td>Maya</td>\n",
       "      <td>Midzik</td>\n",
       "      <td>50</td>\n",
       "    </tr>\n",
       "    <tr>\n",
       "      <th>1</th>\n",
       "      <td>Employee_2</td>\n",
       "      <td>Jonathan</td>\n",
       "      <td>Balaban</td>\n",
       "      <td>25</td>\n",
       "    </tr>\n",
       "    <tr>\n",
       "      <th>2</th>\n",
       "      <td>Employee_3</td>\n",
       "      <td>Jerod</td>\n",
       "      <td>Rubalcava</td>\n",
       "      <td>31</td>\n",
       "    </tr>\n",
       "  </tbody>\n",
       "</table>\n",
       "</div>"
      ],
      "text/plain": [
       "   Unnamed: 0     First       Last  Age\n",
       "0  Employee_1      Maya     Midzik   50\n",
       "1  Employee_2  Jonathan    Balaban   25\n",
       "2  Employee_3     Jerod  Rubalcava   31"
      ]
     },
     "execution_count": 2,
     "metadata": {},
     "output_type": "execute_result"
    }
   ],
   "source": [
    "df = pd.read_csv(\"resources/csv_file_for_pandas.csv\") \n",
    "df"
   ]
  },
  {
   "cell_type": "markdown",
   "metadata": {},
   "source": [
    "That \"Unnamed: 0\" column isn't what we want - we want _that_ to be our index!"
   ]
  },
  {
   "cell_type": "markdown",
   "metadata": {},
   "source": [
    "#### Mini-exercise\n",
    "\n",
    "Use \"?\" to look up the documentation of the Pandas `read_csv` file and see which argument could help us deal with that \"Unnamed: 0\" column."
   ]
  },
  {
   "cell_type": "code",
   "execution_count": 3,
   "metadata": {},
   "outputs": [],
   "source": [
    "pd.read_csv?"
   ]
  },
  {
   "cell_type": "code",
   "execution_count": 24,
   "metadata": {},
   "outputs": [],
   "source": [
    "df = pd.read_csv(\"resources/csv_file_for_pandas.csv\",index_col = 0)"
   ]
  },
  {
   "cell_type": "code",
   "execution_count": 25,
   "metadata": {},
   "outputs": [
    {
     "data": {
      "text/html": [
       "<div>\n",
       "<style scoped>\n",
       "    .dataframe tbody tr th:only-of-type {\n",
       "        vertical-align: middle;\n",
       "    }\n",
       "\n",
       "    .dataframe tbody tr th {\n",
       "        vertical-align: top;\n",
       "    }\n",
       "\n",
       "    .dataframe thead th {\n",
       "        text-align: right;\n",
       "    }\n",
       "</style>\n",
       "<table border=\"1\" class=\"dataframe\">\n",
       "  <thead>\n",
       "    <tr style=\"text-align: right;\">\n",
       "      <th></th>\n",
       "      <th>First</th>\n",
       "      <th>Last</th>\n",
       "      <th>Age</th>\n",
       "    </tr>\n",
       "  </thead>\n",
       "  <tbody>\n",
       "    <tr>\n",
       "      <th>Employee_1</th>\n",
       "      <td>Maya</td>\n",
       "      <td>Midzik</td>\n",
       "      <td>50</td>\n",
       "    </tr>\n",
       "    <tr>\n",
       "      <th>Employee_2</th>\n",
       "      <td>Jonathan</td>\n",
       "      <td>Balaban</td>\n",
       "      <td>25</td>\n",
       "    </tr>\n",
       "    <tr>\n",
       "      <th>Employee_3</th>\n",
       "      <td>Jerod</td>\n",
       "      <td>Rubalcava</td>\n",
       "      <td>31</td>\n",
       "    </tr>\n",
       "  </tbody>\n",
       "</table>\n",
       "</div>"
      ],
      "text/plain": [
       "               First       Last  Age\n",
       "Employee_1      Maya     Midzik   50\n",
       "Employee_2  Jonathan    Balaban   25\n",
       "Employee_3     Jerod  Rubalcava   31"
      ]
     },
     "execution_count": 25,
     "metadata": {},
     "output_type": "execute_result"
    }
   ],
   "source": [
    "df"
   ]
  },
  {
   "cell_type": "markdown",
   "metadata": {},
   "source": [
    "### Columns = `Series`"
   ]
  },
  {
   "cell_type": "markdown",
   "metadata": {},
   "source": [
    "Individual DataFrame columns are Pandas `Series`:"
   ]
  },
  {
   "cell_type": "code",
   "execution_count": 26,
   "metadata": {},
   "outputs": [
    {
     "data": {
      "text/plain": [
       "Employee_1        Maya\n",
       "Employee_2    Jonathan\n",
       "Employee_3       Jerod\n",
       "Name: First, dtype: object"
      ]
     },
     "execution_count": 26,
     "metadata": {},
     "output_type": "execute_result"
    }
   ],
   "source": [
    "df['First']"
   ]
  },
  {
   "cell_type": "code",
   "execution_count": 8,
   "metadata": {},
   "outputs": [
    {
     "data": {
      "text/plain": [
       "pandas.core.series.Series"
      ]
     },
     "execution_count": 8,
     "metadata": {},
     "output_type": "execute_result"
    }
   ],
   "source": [
    "type(df['First'])"
   ]
  },
  {
   "cell_type": "markdown",
   "metadata": {},
   "source": [
    "You might notice that this syntax is similar to dictionary syntax. That is because DataFrames are really fancy wrappers around dictionaries.\n",
    "\n",
    "In fact, you can initialize DataFrames using dictionary syntax:"
   ]
  },
  {
   "cell_type": "markdown",
   "metadata": {},
   "source": [
    "### DataFrame from dictionary"
   ]
  },
  {
   "cell_type": "code",
   "execution_count": 27,
   "metadata": {},
   "outputs": [
    {
     "data": {
      "text/plain": [
       "{'ndarray': array([0, 1, 2, 3]), 'List': [10, 12, 1, 2], 'Series': row_1    a\n",
       " row_2    a\n",
       " row_3    a\n",
       " row_4    a\n",
       " dtype: object}"
      ]
     },
     "execution_count": 27,
     "metadata": {},
     "output_type": "execute_result"
    }
   ],
   "source": [
    "# This example also shows that each \"type\" in a dictionary. \n",
    "my_dict = {\"ndarray\":np.arange(4),\n",
    "           \"List\":[10,12,1,2],\n",
    "           \"Series\":pd.Series('a', index = [\"row_1\", \"row_2\", \"row_3\", \"row_4\"])}\n",
    "my_dict"
   ]
  },
  {
   "cell_type": "code",
   "execution_count": 28,
   "metadata": {},
   "outputs": [
    {
     "data": {
      "text/html": [
       "<div>\n",
       "<style scoped>\n",
       "    .dataframe tbody tr th:only-of-type {\n",
       "        vertical-align: middle;\n",
       "    }\n",
       "\n",
       "    .dataframe tbody tr th {\n",
       "        vertical-align: top;\n",
       "    }\n",
       "\n",
       "    .dataframe thead th {\n",
       "        text-align: right;\n",
       "    }\n",
       "</style>\n",
       "<table border=\"1\" class=\"dataframe\">\n",
       "  <thead>\n",
       "    <tr style=\"text-align: right;\">\n",
       "      <th></th>\n",
       "      <th>ndarray</th>\n",
       "      <th>List</th>\n",
       "      <th>Series</th>\n",
       "    </tr>\n",
       "  </thead>\n",
       "  <tbody>\n",
       "    <tr>\n",
       "      <th>row_1</th>\n",
       "      <td>0</td>\n",
       "      <td>10</td>\n",
       "      <td>a</td>\n",
       "    </tr>\n",
       "    <tr>\n",
       "      <th>row_2</th>\n",
       "      <td>1</td>\n",
       "      <td>12</td>\n",
       "      <td>a</td>\n",
       "    </tr>\n",
       "    <tr>\n",
       "      <th>row_3</th>\n",
       "      <td>2</td>\n",
       "      <td>1</td>\n",
       "      <td>a</td>\n",
       "    </tr>\n",
       "    <tr>\n",
       "      <th>row_4</th>\n",
       "      <td>3</td>\n",
       "      <td>2</td>\n",
       "      <td>a</td>\n",
       "    </tr>\n",
       "  </tbody>\n",
       "</table>\n",
       "</div>"
      ],
      "text/plain": [
       "       ndarray  List Series\n",
       "row_1        0    10      a\n",
       "row_2        1    12      a\n",
       "row_3        2     1      a\n",
       "row_4        3     2      a"
      ]
     },
     "execution_count": 28,
     "metadata": {},
     "output_type": "execute_result"
    }
   ],
   "source": [
    "pd.DataFrame(my_dict)"
   ]
  },
  {
   "cell_type": "markdown",
   "metadata": {},
   "source": [
    "Now let's inspect DataFrames in more detail:"
   ]
  },
  {
   "cell_type": "markdown",
   "metadata": {},
   "source": [
    "### \"Inspection functions\" for DataFrames"
   ]
  },
  {
   "cell_type": "code",
   "execution_count": 29,
   "metadata": {},
   "outputs": [
    {
     "data": {
      "text/html": [
       "<div>\n",
       "<style scoped>\n",
       "    .dataframe tbody tr th:only-of-type {\n",
       "        vertical-align: middle;\n",
       "    }\n",
       "\n",
       "    .dataframe tbody tr th {\n",
       "        vertical-align: top;\n",
       "    }\n",
       "\n",
       "    .dataframe thead th {\n",
       "        text-align: right;\n",
       "    }\n",
       "</style>\n",
       "<table border=\"1\" class=\"dataframe\">\n",
       "  <thead>\n",
       "    <tr style=\"text-align: right;\">\n",
       "      <th></th>\n",
       "      <th>First</th>\n",
       "      <th>Last</th>\n",
       "      <th>Age</th>\n",
       "    </tr>\n",
       "  </thead>\n",
       "  <tbody>\n",
       "    <tr>\n",
       "      <th>Employee_1</th>\n",
       "      <td>Maya</td>\n",
       "      <td>Midzik</td>\n",
       "      <td>50</td>\n",
       "    </tr>\n",
       "    <tr>\n",
       "      <th>Employee_2</th>\n",
       "      <td>Jonathan</td>\n",
       "      <td>Balaban</td>\n",
       "      <td>25</td>\n",
       "    </tr>\n",
       "    <tr>\n",
       "      <th>Employee_3</th>\n",
       "      <td>Jerod</td>\n",
       "      <td>Rubalcava</td>\n",
       "      <td>31</td>\n",
       "    </tr>\n",
       "  </tbody>\n",
       "</table>\n",
       "</div>"
      ],
      "text/plain": [
       "               First       Last  Age\n",
       "Employee_1      Maya     Midzik   50\n",
       "Employee_2  Jonathan    Balaban   25\n",
       "Employee_3     Jerod  Rubalcava   31"
      ]
     },
     "execution_count": 29,
     "metadata": {},
     "output_type": "execute_result"
    }
   ],
   "source": [
    "my_df = pd.read_csv(\"resources/csv_file_for_pandas.csv\", index_col = 0)\n",
    "my_df"
   ]
  },
  {
   "cell_type": "markdown",
   "metadata": {},
   "source": [
    "### Dimensions:"
   ]
  },
  {
   "cell_type": "code",
   "execution_count": 30,
   "metadata": {
    "scrolled": true
   },
   "outputs": [
    {
     "data": {
      "text/plain": [
       "3"
      ]
     },
     "execution_count": 30,
     "metadata": {},
     "output_type": "execute_result"
    }
   ],
   "source": [
    "len(my_df)"
   ]
  },
  {
   "cell_type": "code",
   "execution_count": 31,
   "metadata": {},
   "outputs": [
    {
     "data": {
      "text/plain": [
       "(3, 3)"
      ]
     },
     "execution_count": 31,
     "metadata": {},
     "output_type": "execute_result"
    }
   ],
   "source": [
    "my_df.shape"
   ]
  },
  {
   "cell_type": "code",
   "execution_count": 32,
   "metadata": {},
   "outputs": [
    {
     "data": {
      "text/plain": [
       "9"
      ]
     },
     "execution_count": 32,
     "metadata": {},
     "output_type": "execute_result"
    }
   ],
   "source": [
    "my_df.size"
   ]
  },
  {
   "cell_type": "markdown",
   "metadata": {},
   "source": [
    "### Row Labels:"
   ]
  },
  {
   "cell_type": "code",
   "execution_count": 33,
   "metadata": {},
   "outputs": [
    {
     "data": {
      "text/plain": [
       "Index(['Employee_1', 'Employee_2', 'Employee_3'], dtype='object')"
      ]
     },
     "execution_count": 33,
     "metadata": {},
     "output_type": "execute_result"
    }
   ],
   "source": [
    "my_df.index"
   ]
  },
  {
   "cell_type": "code",
   "execution_count": 34,
   "metadata": {},
   "outputs": [
    {
     "data": {
      "text/plain": [
       "['Employee_1', 'Employee_2', 'Employee_3']"
      ]
     },
     "execution_count": 34,
     "metadata": {},
     "output_type": "execute_result"
    }
   ],
   "source": [
    "my_df.index.tolist()"
   ]
  },
  {
   "cell_type": "markdown",
   "metadata": {},
   "source": [
    "### Column Labels:"
   ]
  },
  {
   "cell_type": "code",
   "execution_count": 35,
   "metadata": {},
   "outputs": [
    {
     "name": "stdout",
     "output_type": "stream",
     "text": [
      "Index(['First', 'Last', 'Age'], dtype='object')\n",
      "\n",
      "data type:  <class 'pandas.core.indexes.base.Index'>\n"
     ]
    }
   ],
   "source": [
    "print(my_df.columns)\n",
    "print(\"\\ndata type: \",type(my_df.columns))"
   ]
  },
  {
   "cell_type": "code",
   "execution_count": 36,
   "metadata": {},
   "outputs": [
    {
     "name": "stdout",
     "output_type": "stream",
     "text": [
      "['First' 'Last' 'Age']\n",
      "\n",
      "data type:  <class 'numpy.ndarray'>\n"
     ]
    }
   ],
   "source": [
    "print(my_df.columns.values)\n",
    "print(\"\\ndata type: \",type(my_df.columns.values))"
   ]
  },
  {
   "cell_type": "code",
   "execution_count": 37,
   "metadata": {},
   "outputs": [
    {
     "data": {
      "text/plain": [
       "['First', 'Last', 'Age']"
      ]
     },
     "execution_count": 37,
     "metadata": {},
     "output_type": "execute_result"
    }
   ],
   "source": [
    "my_df.columns.values.tolist()"
   ]
  },
  {
   "cell_type": "code",
   "execution_count": 38,
   "metadata": {},
   "outputs": [
    {
     "name": "stdout",
     "output_type": "stream",
     "text": [
      "['First', 'Last', 'Age']\n",
      "\n",
      "data type:  <class 'list'>\n"
     ]
    }
   ],
   "source": [
    "print(my_df.columns.tolist())\n",
    "\n",
    "print(\"\\ndata type: \",type(my_df.columns.tolist()))"
   ]
  },
  {
   "cell_type": "markdown",
   "metadata": {},
   "source": [
    "Note: Useful to remember that what can be done with a Python object depends on the datatype"
   ]
  },
  {
   "cell_type": "code",
   "execution_count": 39,
   "metadata": {},
   "outputs": [
    {
     "data": {
      "text/html": [
       "<div>\n",
       "<style scoped>\n",
       "    .dataframe tbody tr th:only-of-type {\n",
       "        vertical-align: middle;\n",
       "    }\n",
       "\n",
       "    .dataframe tbody tr th {\n",
       "        vertical-align: top;\n",
       "    }\n",
       "\n",
       "    .dataframe thead th {\n",
       "        text-align: right;\n",
       "    }\n",
       "</style>\n",
       "<table border=\"1\" class=\"dataframe\">\n",
       "  <thead>\n",
       "    <tr style=\"text-align: right;\">\n",
       "      <th></th>\n",
       "      <th>First</th>\n",
       "      <th>Last</th>\n",
       "      <th>Age</th>\n",
       "    </tr>\n",
       "  </thead>\n",
       "  <tbody>\n",
       "    <tr>\n",
       "      <th>Employee_1</th>\n",
       "      <td>Maya</td>\n",
       "      <td>Midzik</td>\n",
       "      <td>50</td>\n",
       "    </tr>\n",
       "    <tr>\n",
       "      <th>Employee_2</th>\n",
       "      <td>Jonathan</td>\n",
       "      <td>Balaban</td>\n",
       "      <td>25</td>\n",
       "    </tr>\n",
       "    <tr>\n",
       "      <th>Employee_3</th>\n",
       "      <td>Jerod</td>\n",
       "      <td>Rubalcava</td>\n",
       "      <td>31</td>\n",
       "    </tr>\n",
       "  </tbody>\n",
       "</table>\n",
       "</div>"
      ],
      "text/plain": [
       "               First       Last  Age\n",
       "Employee_1      Maya     Midzik   50\n",
       "Employee_2  Jonathan    Balaban   25\n",
       "Employee_3     Jerod  Rubalcava   31"
      ]
     },
     "execution_count": 39,
     "metadata": {},
     "output_type": "execute_result"
    }
   ],
   "source": [
    "my_df"
   ]
  },
  {
   "cell_type": "code",
   "execution_count": 40,
   "metadata": {},
   "outputs": [
    {
     "ename": "TypeError",
     "evalue": "Index does not support mutable operations",
     "output_type": "error",
     "traceback": [
      "\u001b[0;31m---------------------------------------------------------------------------\u001b[0m",
      "\u001b[0;31mTypeError\u001b[0m                                 Traceback (most recent call last)",
      "\u001b[0;32m<ipython-input-40-6199f652a828>\u001b[0m in \u001b[0;36m<module>\u001b[0;34m\u001b[0m\n\u001b[1;32m      1\u001b[0m \u001b[0;31m# For example, the pandas index is immutable, so you cannot directly replace an item\u001b[0m\u001b[0;34m\u001b[0m\u001b[0;34m\u001b[0m\u001b[0;34m\u001b[0m\u001b[0m\n\u001b[0;32m----> 2\u001b[0;31m \u001b[0mmy_df\u001b[0m\u001b[0;34m.\u001b[0m\u001b[0mcolumns\u001b[0m\u001b[0;34m[\u001b[0m\u001b[0;36m0\u001b[0m\u001b[0;34m]\u001b[0m \u001b[0;34m=\u001b[0m \u001b[0;34m'first_old'\u001b[0m\u001b[0;34m\u001b[0m\u001b[0;34m\u001b[0m\u001b[0m\n\u001b[0m",
      "\u001b[0;32m//anaconda3/lib/python3.7/site-packages/pandas/core/indexes/base.py\u001b[0m in \u001b[0;36m__setitem__\u001b[0;34m(self, key, value)\u001b[0m\n\u001b[1;32m   4258\u001b[0m \u001b[0;34m\u001b[0m\u001b[0m\n\u001b[1;32m   4259\u001b[0m     \u001b[0;32mdef\u001b[0m \u001b[0m__setitem__\u001b[0m\u001b[0;34m(\u001b[0m\u001b[0mself\u001b[0m\u001b[0;34m,\u001b[0m \u001b[0mkey\u001b[0m\u001b[0;34m,\u001b[0m \u001b[0mvalue\u001b[0m\u001b[0;34m)\u001b[0m\u001b[0;34m:\u001b[0m\u001b[0;34m\u001b[0m\u001b[0;34m\u001b[0m\u001b[0m\n\u001b[0;32m-> 4260\u001b[0;31m         \u001b[0;32mraise\u001b[0m \u001b[0mTypeError\u001b[0m\u001b[0;34m(\u001b[0m\u001b[0;34m\"Index does not support mutable operations\"\u001b[0m\u001b[0;34m)\u001b[0m\u001b[0;34m\u001b[0m\u001b[0;34m\u001b[0m\u001b[0m\n\u001b[0m\u001b[1;32m   4261\u001b[0m \u001b[0;34m\u001b[0m\u001b[0m\n\u001b[1;32m   4262\u001b[0m     \u001b[0;32mdef\u001b[0m \u001b[0m__getitem__\u001b[0m\u001b[0;34m(\u001b[0m\u001b[0mself\u001b[0m\u001b[0;34m,\u001b[0m \u001b[0mkey\u001b[0m\u001b[0;34m)\u001b[0m\u001b[0;34m:\u001b[0m\u001b[0;34m\u001b[0m\u001b[0;34m\u001b[0m\u001b[0m\n",
      "\u001b[0;31mTypeError\u001b[0m: Index does not support mutable operations"
     ]
    }
   ],
   "source": [
    "# For example, the pandas index is immutable, so you cannot directly replace an item\n",
    "my_df.columns[0] = 'first_old'"
   ]
  },
  {
   "cell_type": "code",
   "execution_count": 41,
   "metadata": {},
   "outputs": [],
   "source": [
    "# If you use the values attribute, you will be able to actually change a value inplace\n",
    "my_df.columns.values[0] = 'first_old'\n",
    "#my_df.columns.values[1] = ['a','b']"
   ]
  },
  {
   "cell_type": "code",
   "execution_count": 42,
   "metadata": {},
   "outputs": [
    {
     "data": {
      "text/html": [
       "<div>\n",
       "<style scoped>\n",
       "    .dataframe tbody tr th:only-of-type {\n",
       "        vertical-align: middle;\n",
       "    }\n",
       "\n",
       "    .dataframe tbody tr th {\n",
       "        vertical-align: top;\n",
       "    }\n",
       "\n",
       "    .dataframe thead th {\n",
       "        text-align: right;\n",
       "    }\n",
       "</style>\n",
       "<table border=\"1\" class=\"dataframe\">\n",
       "  <thead>\n",
       "    <tr style=\"text-align: right;\">\n",
       "      <th></th>\n",
       "      <th>first_old</th>\n",
       "      <th>Last</th>\n",
       "      <th>Age</th>\n",
       "    </tr>\n",
       "  </thead>\n",
       "  <tbody>\n",
       "    <tr>\n",
       "      <th>Employee_1</th>\n",
       "      <td>Maya</td>\n",
       "      <td>Midzik</td>\n",
       "      <td>50</td>\n",
       "    </tr>\n",
       "    <tr>\n",
       "      <th>Employee_2</th>\n",
       "      <td>Jonathan</td>\n",
       "      <td>Balaban</td>\n",
       "      <td>25</td>\n",
       "    </tr>\n",
       "    <tr>\n",
       "      <th>Employee_3</th>\n",
       "      <td>Jerod</td>\n",
       "      <td>Rubalcava</td>\n",
       "      <td>31</td>\n",
       "    </tr>\n",
       "  </tbody>\n",
       "</table>\n",
       "</div>"
      ],
      "text/plain": [
       "           first_old       Last  Age\n",
       "Employee_1      Maya     Midzik   50\n",
       "Employee_2  Jonathan    Balaban   25\n",
       "Employee_3     Jerod  Rubalcava   31"
      ]
     },
     "execution_count": 42,
     "metadata": {},
     "output_type": "execute_result"
    }
   ],
   "source": [
    "my_df"
   ]
  },
  {
   "cell_type": "code",
   "execution_count": 43,
   "metadata": {},
   "outputs": [
    {
     "name": "stdout",
     "output_type": "stream",
     "text": [
      "['first_old', 'last_old', 'Age']\n"
     ]
    }
   ],
   "source": [
    "# Whereas changing to list will not allow you to change anything in place\n",
    "# but would be a useful way to work with the column names using the \n",
    "# data manipulations available for the list data structure\n",
    "col_list = my_df.columns.tolist()\n",
    "col_list[1] = 'last_old'\n",
    "print(col_list)"
   ]
  },
  {
   "cell_type": "code",
   "execution_count": 44,
   "metadata": {},
   "outputs": [
    {
     "data": {
      "text/html": [
       "<div>\n",
       "<style scoped>\n",
       "    .dataframe tbody tr th:only-of-type {\n",
       "        vertical-align: middle;\n",
       "    }\n",
       "\n",
       "    .dataframe tbody tr th {\n",
       "        vertical-align: top;\n",
       "    }\n",
       "\n",
       "    .dataframe thead th {\n",
       "        text-align: right;\n",
       "    }\n",
       "</style>\n",
       "<table border=\"1\" class=\"dataframe\">\n",
       "  <thead>\n",
       "    <tr style=\"text-align: right;\">\n",
       "      <th></th>\n",
       "      <th>first_old</th>\n",
       "      <th>Last</th>\n",
       "      <th>Age</th>\n",
       "    </tr>\n",
       "  </thead>\n",
       "  <tbody>\n",
       "    <tr>\n",
       "      <th>Employee_1</th>\n",
       "      <td>Maya</td>\n",
       "      <td>Midzik</td>\n",
       "      <td>50</td>\n",
       "    </tr>\n",
       "    <tr>\n",
       "      <th>Employee_2</th>\n",
       "      <td>Jonathan</td>\n",
       "      <td>Balaban</td>\n",
       "      <td>25</td>\n",
       "    </tr>\n",
       "    <tr>\n",
       "      <th>Employee_3</th>\n",
       "      <td>Jerod</td>\n",
       "      <td>Rubalcava</td>\n",
       "      <td>31</td>\n",
       "    </tr>\n",
       "  </tbody>\n",
       "</table>\n",
       "</div>"
      ],
      "text/plain": [
       "           first_old       Last  Age\n",
       "Employee_1      Maya     Midzik   50\n",
       "Employee_2  Jonathan    Balaban   25\n",
       "Employee_3     Jerod  Rubalcava   31"
      ]
     },
     "execution_count": 44,
     "metadata": {},
     "output_type": "execute_result"
    }
   ],
   "source": [
    "my_df.head()"
   ]
  },
  {
   "cell_type": "code",
   "execution_count": 45,
   "metadata": {},
   "outputs": [],
   "source": [
    "my_df.rename(columns = {'first_old':'First'},inplace=True)"
   ]
  },
  {
   "cell_type": "markdown",
   "metadata": {},
   "source": [
    "### Data Types:"
   ]
  },
  {
   "cell_type": "code",
   "execution_count": 46,
   "metadata": {},
   "outputs": [
    {
     "data": {
      "text/plain": [
       "First    object\n",
       "Last     object\n",
       "Age       int64\n",
       "dtype: object"
      ]
     },
     "execution_count": 46,
     "metadata": {},
     "output_type": "execute_result"
    }
   ],
   "source": [
    "my_df.dtypes"
   ]
  },
  {
   "cell_type": "markdown",
   "metadata": {},
   "source": [
    "### Data Quick Look:"
   ]
  },
  {
   "cell_type": "code",
   "execution_count": 47,
   "metadata": {
    "scrolled": false
   },
   "outputs": [
    {
     "data": {
      "text/html": [
       "<div>\n",
       "<style scoped>\n",
       "    .dataframe tbody tr th:only-of-type {\n",
       "        vertical-align: middle;\n",
       "    }\n",
       "\n",
       "    .dataframe tbody tr th {\n",
       "        vertical-align: top;\n",
       "    }\n",
       "\n",
       "    .dataframe thead th {\n",
       "        text-align: right;\n",
       "    }\n",
       "</style>\n",
       "<table border=\"1\" class=\"dataframe\">\n",
       "  <thead>\n",
       "    <tr style=\"text-align: right;\">\n",
       "      <th></th>\n",
       "      <th>First</th>\n",
       "      <th>Last</th>\n",
       "      <th>Age</th>\n",
       "    </tr>\n",
       "  </thead>\n",
       "  <tbody>\n",
       "    <tr>\n",
       "      <th>Employee_1</th>\n",
       "      <td>Maya</td>\n",
       "      <td>Midzik</td>\n",
       "      <td>50</td>\n",
       "    </tr>\n",
       "    <tr>\n",
       "      <th>Employee_2</th>\n",
       "      <td>Jonathan</td>\n",
       "      <td>Balaban</td>\n",
       "      <td>25</td>\n",
       "    </tr>\n",
       "  </tbody>\n",
       "</table>\n",
       "</div>"
      ],
      "text/plain": [
       "               First     Last  Age\n",
       "Employee_1      Maya   Midzik   50\n",
       "Employee_2  Jonathan  Balaban   25"
      ]
     },
     "execution_count": 47,
     "metadata": {},
     "output_type": "execute_result"
    }
   ],
   "source": [
    "my_df.head(2)"
   ]
  },
  {
   "cell_type": "code",
   "execution_count": 48,
   "metadata": {},
   "outputs": [
    {
     "data": {
      "text/html": [
       "<div>\n",
       "<style scoped>\n",
       "    .dataframe tbody tr th:only-of-type {\n",
       "        vertical-align: middle;\n",
       "    }\n",
       "\n",
       "    .dataframe tbody tr th {\n",
       "        vertical-align: top;\n",
       "    }\n",
       "\n",
       "    .dataframe thead th {\n",
       "        text-align: right;\n",
       "    }\n",
       "</style>\n",
       "<table border=\"1\" class=\"dataframe\">\n",
       "  <thead>\n",
       "    <tr style=\"text-align: right;\">\n",
       "      <th></th>\n",
       "      <th>First</th>\n",
       "      <th>Last</th>\n",
       "      <th>Age</th>\n",
       "    </tr>\n",
       "  </thead>\n",
       "  <tbody>\n",
       "    <tr>\n",
       "      <th>Employee_3</th>\n",
       "      <td>Jerod</td>\n",
       "      <td>Rubalcava</td>\n",
       "      <td>31</td>\n",
       "    </tr>\n",
       "  </tbody>\n",
       "</table>\n",
       "</div>"
      ],
      "text/plain": [
       "            First       Last  Age\n",
       "Employee_3  Jerod  Rubalcava   31"
      ]
     },
     "execution_count": 48,
     "metadata": {},
     "output_type": "execute_result"
    }
   ],
   "source": [
    "my_df.tail(1)"
   ]
  },
  {
   "cell_type": "code",
   "execution_count": 49,
   "metadata": {
    "scrolled": true
   },
   "outputs": [
    {
     "data": {
      "text/html": [
       "<div>\n",
       "<style scoped>\n",
       "    .dataframe tbody tr th:only-of-type {\n",
       "        vertical-align: middle;\n",
       "    }\n",
       "\n",
       "    .dataframe tbody tr th {\n",
       "        vertical-align: top;\n",
       "    }\n",
       "\n",
       "    .dataframe thead th {\n",
       "        text-align: right;\n",
       "    }\n",
       "</style>\n",
       "<table border=\"1\" class=\"dataframe\">\n",
       "  <thead>\n",
       "    <tr style=\"text-align: right;\">\n",
       "      <th></th>\n",
       "      <th>First</th>\n",
       "      <th>Last</th>\n",
       "      <th>Age</th>\n",
       "    </tr>\n",
       "  </thead>\n",
       "  <tbody>\n",
       "    <tr>\n",
       "      <th>Employee_2</th>\n",
       "      <td>Jonathan</td>\n",
       "      <td>Balaban</td>\n",
       "      <td>25</td>\n",
       "    </tr>\n",
       "    <tr>\n",
       "      <th>Employee_3</th>\n",
       "      <td>Jerod</td>\n",
       "      <td>Rubalcava</td>\n",
       "      <td>31</td>\n",
       "    </tr>\n",
       "  </tbody>\n",
       "</table>\n",
       "</div>"
      ],
      "text/plain": [
       "               First       Last  Age\n",
       "Employee_2  Jonathan    Balaban   25\n",
       "Employee_3     Jerod  Rubalcava   31"
      ]
     },
     "execution_count": 49,
     "metadata": {},
     "output_type": "execute_result"
    }
   ],
   "source": [
    "my_df.sample(2)"
   ]
  },
  {
   "cell_type": "markdown",
   "metadata": {},
   "source": [
    "### Data Summary:\n",
    "\n",
    "Only summarizes the numeric variables."
   ]
  },
  {
   "cell_type": "code",
   "execution_count": 50,
   "metadata": {
    "scrolled": false
   },
   "outputs": [
    {
     "data": {
      "text/html": [
       "<div>\n",
       "<style scoped>\n",
       "    .dataframe tbody tr th:only-of-type {\n",
       "        vertical-align: middle;\n",
       "    }\n",
       "\n",
       "    .dataframe tbody tr th {\n",
       "        vertical-align: top;\n",
       "    }\n",
       "\n",
       "    .dataframe thead th {\n",
       "        text-align: right;\n",
       "    }\n",
       "</style>\n",
       "<table border=\"1\" class=\"dataframe\">\n",
       "  <thead>\n",
       "    <tr style=\"text-align: right;\">\n",
       "      <th></th>\n",
       "      <th>Age</th>\n",
       "    </tr>\n",
       "  </thead>\n",
       "  <tbody>\n",
       "    <tr>\n",
       "      <th>count</th>\n",
       "      <td>3.000000</td>\n",
       "    </tr>\n",
       "    <tr>\n",
       "      <th>mean</th>\n",
       "      <td>35.333333</td>\n",
       "    </tr>\n",
       "    <tr>\n",
       "      <th>std</th>\n",
       "      <td>13.051181</td>\n",
       "    </tr>\n",
       "    <tr>\n",
       "      <th>min</th>\n",
       "      <td>25.000000</td>\n",
       "    </tr>\n",
       "    <tr>\n",
       "      <th>25%</th>\n",
       "      <td>28.000000</td>\n",
       "    </tr>\n",
       "    <tr>\n",
       "      <th>50%</th>\n",
       "      <td>31.000000</td>\n",
       "    </tr>\n",
       "    <tr>\n",
       "      <th>75%</th>\n",
       "      <td>40.500000</td>\n",
       "    </tr>\n",
       "    <tr>\n",
       "      <th>max</th>\n",
       "      <td>50.000000</td>\n",
       "    </tr>\n",
       "  </tbody>\n",
       "</table>\n",
       "</div>"
      ],
      "text/plain": [
       "             Age\n",
       "count   3.000000\n",
       "mean   35.333333\n",
       "std    13.051181\n",
       "min    25.000000\n",
       "25%    28.000000\n",
       "50%    31.000000\n",
       "75%    40.500000\n",
       "max    50.000000"
      ]
     },
     "execution_count": 50,
     "metadata": {},
     "output_type": "execute_result"
    }
   ],
   "source": [
    "my_df.describe()"
   ]
  },
  {
   "cell_type": "markdown",
   "metadata": {},
   "source": [
    "### Info:"
   ]
  },
  {
   "cell_type": "code",
   "execution_count": 51,
   "metadata": {},
   "outputs": [
    {
     "name": "stdout",
     "output_type": "stream",
     "text": [
      "<class 'pandas.core.frame.DataFrame'>\n",
      "Index: 3 entries, Employee_1 to Employee_3\n",
      "Data columns (total 3 columns):\n",
      "First    3 non-null object\n",
      "Last     3 non-null object\n",
      "Age      3 non-null int64\n",
      "dtypes: int64(1), object(2)\n",
      "memory usage: 96.0+ bytes\n"
     ]
    }
   ],
   "source": [
    "my_df.info()"
   ]
  },
  {
   "cell_type": "markdown",
   "metadata": {},
   "source": [
    "### Mini-exercise"
   ]
  },
  {
   "cell_type": "markdown",
   "metadata": {},
   "source": [
    "Read in the data in the `population_data.csv` CSV file into a DataFrame called *prob2_df*. Print out the:\n",
    "    \n",
    "* Number of rows and columns\n",
    "* Column Names\n",
    "* A sample of 2 rows\n",
    "* A summary of the values"
   ]
  },
  {
   "cell_type": "code",
   "execution_count": 52,
   "metadata": {},
   "outputs": [],
   "source": [
    "prob2_df = pd.read_csv(\"resources/population_data.csv\")\n"
   ]
  },
  {
   "cell_type": "code",
   "execution_count": 53,
   "metadata": {},
   "outputs": [
    {
     "data": {
      "text/html": [
       "<div>\n",
       "<style scoped>\n",
       "    .dataframe tbody tr th:only-of-type {\n",
       "        vertical-align: middle;\n",
       "    }\n",
       "\n",
       "    .dataframe tbody tr th {\n",
       "        vertical-align: top;\n",
       "    }\n",
       "\n",
       "    .dataframe thead th {\n",
       "        text-align: right;\n",
       "    }\n",
       "</style>\n",
       "<table border=\"1\" class=\"dataframe\">\n",
       "  <thead>\n",
       "    <tr style=\"text-align: right;\">\n",
       "      <th></th>\n",
       "      <th>Country Name</th>\n",
       "      <th>Population</th>\n",
       "      <th>Size</th>\n",
       "    </tr>\n",
       "  </thead>\n",
       "  <tbody>\n",
       "    <tr>\n",
       "      <th>0</th>\n",
       "      <td>China</td>\n",
       "      <td>1409517397</td>\n",
       "      <td>9572900</td>\n",
       "    </tr>\n",
       "    <tr>\n",
       "      <th>1</th>\n",
       "      <td>India</td>\n",
       "      <td>1339180127</td>\n",
       "      <td>3287263</td>\n",
       "    </tr>\n",
       "    <tr>\n",
       "      <th>2</th>\n",
       "      <td>USA</td>\n",
       "      <td>324459463</td>\n",
       "      <td>9629091</td>\n",
       "    </tr>\n",
       "  </tbody>\n",
       "</table>\n",
       "</div>"
      ],
      "text/plain": [
       "  Country Name  Population     Size\n",
       "0        China  1409517397  9572900\n",
       "1        India  1339180127  3287263\n",
       "2          USA   324459463  9629091"
      ]
     },
     "execution_count": 53,
     "metadata": {},
     "output_type": "execute_result"
    }
   ],
   "source": [
    "prob2_df.head(3)"
   ]
  },
  {
   "cell_type": "code",
   "execution_count": null,
   "metadata": {},
   "outputs": [],
   "source": [
    "(prob2_df).shape"
   ]
  },
  {
   "cell_type": "code",
   "execution_count": null,
   "metadata": {},
   "outputs": [],
   "source": [
    "prob2_df.columns\n"
   ]
  },
  {
   "cell_type": "code",
   "execution_count": 55,
   "metadata": {},
   "outputs": [
    {
     "data": {
      "text/html": [
       "<div>\n",
       "<style scoped>\n",
       "    .dataframe tbody tr th:only-of-type {\n",
       "        vertical-align: middle;\n",
       "    }\n",
       "\n",
       "    .dataframe tbody tr th {\n",
       "        vertical-align: top;\n",
       "    }\n",
       "\n",
       "    .dataframe thead th {\n",
       "        text-align: right;\n",
       "    }\n",
       "</style>\n",
       "<table border=\"1\" class=\"dataframe\">\n",
       "  <thead>\n",
       "    <tr style=\"text-align: right;\">\n",
       "      <th></th>\n",
       "      <th>Country Name</th>\n",
       "      <th>Population</th>\n",
       "      <th>Size</th>\n",
       "    </tr>\n",
       "  </thead>\n",
       "  <tbody>\n",
       "    <tr>\n",
       "      <th>3</th>\n",
       "      <td>Indonesia</td>\n",
       "      <td>263991379</td>\n",
       "      <td>1904556</td>\n",
       "    </tr>\n",
       "    <tr>\n",
       "      <th>0</th>\n",
       "      <td>China</td>\n",
       "      <td>1409517397</td>\n",
       "      <td>9572900</td>\n",
       "    </tr>\n",
       "  </tbody>\n",
       "</table>\n",
       "</div>"
      ],
      "text/plain": [
       "  Country Name  Population     Size\n",
       "3    Indonesia   263991379  1904556\n",
       "0        China  1409517397  9572900"
      ]
     },
     "execution_count": 55,
     "metadata": {},
     "output_type": "execute_result"
    }
   ],
   "source": [
    "prob2_df.sample(2)\n"
   ]
  },
  {
   "cell_type": "code",
   "execution_count": 56,
   "metadata": {},
   "outputs": [
    {
     "data": {
      "text/html": [
       "<div>\n",
       "<style scoped>\n",
       "    .dataframe tbody tr th:only-of-type {\n",
       "        vertical-align: middle;\n",
       "    }\n",
       "\n",
       "    .dataframe tbody tr th {\n",
       "        vertical-align: top;\n",
       "    }\n",
       "\n",
       "    .dataframe thead th {\n",
       "        text-align: right;\n",
       "    }\n",
       "</style>\n",
       "<table border=\"1\" class=\"dataframe\">\n",
       "  <thead>\n",
       "    <tr style=\"text-align: right;\">\n",
       "      <th></th>\n",
       "      <th>Population</th>\n",
       "      <th>Size</th>\n",
       "    </tr>\n",
       "  </thead>\n",
       "  <tbody>\n",
       "    <tr>\n",
       "      <th>count</th>\n",
       "      <td>5.000000e+00</td>\n",
       "      <td>5.000000e+00</td>\n",
       "    </tr>\n",
       "    <tr>\n",
       "      <th>mean</th>\n",
       "      <td>7.092873e+08</td>\n",
       "      <td>6.581155e+06</td>\n",
       "    </tr>\n",
       "    <tr>\n",
       "      <th>std</th>\n",
       "      <td>6.089883e+08</td>\n",
       "      <td>3.697593e+06</td>\n",
       "    </tr>\n",
       "    <tr>\n",
       "      <th>min</th>\n",
       "      <td>2.092883e+08</td>\n",
       "      <td>1.904556e+06</td>\n",
       "    </tr>\n",
       "    <tr>\n",
       "      <th>25%</th>\n",
       "      <td>2.639914e+08</td>\n",
       "      <td>3.287263e+06</td>\n",
       "    </tr>\n",
       "    <tr>\n",
       "      <th>50%</th>\n",
       "      <td>3.244595e+08</td>\n",
       "      <td>8.511965e+06</td>\n",
       "    </tr>\n",
       "    <tr>\n",
       "      <th>75%</th>\n",
       "      <td>1.339180e+09</td>\n",
       "      <td>9.572900e+06</td>\n",
       "    </tr>\n",
       "    <tr>\n",
       "      <th>max</th>\n",
       "      <td>1.409517e+09</td>\n",
       "      <td>9.629091e+06</td>\n",
       "    </tr>\n",
       "  </tbody>\n",
       "</table>\n",
       "</div>"
      ],
      "text/plain": [
       "         Population          Size\n",
       "count  5.000000e+00  5.000000e+00\n",
       "mean   7.092873e+08  6.581155e+06\n",
       "std    6.089883e+08  3.697593e+06\n",
       "min    2.092883e+08  1.904556e+06\n",
       "25%    2.639914e+08  3.287263e+06\n",
       "50%    3.244595e+08  8.511965e+06\n",
       "75%    1.339180e+09  9.572900e+06\n",
       "max    1.409517e+09  9.629091e+06"
      ]
     },
     "execution_count": 56,
     "metadata": {},
     "output_type": "execute_result"
    }
   ],
   "source": [
    "\n",
    "prob2_df.describe()"
   ]
  },
  {
   "cell_type": "markdown",
   "metadata": {},
   "source": [
    "### Creating new columns"
   ]
  },
  {
   "cell_type": "markdown",
   "metadata": {},
   "source": [
    "We create new columns in a DataFrame similarly to how we create new entries in a dictionary:"
   ]
  },
  {
   "cell_type": "code",
   "execution_count": 57,
   "metadata": {},
   "outputs": [
    {
     "data": {
      "text/html": [
       "<div>\n",
       "<style scoped>\n",
       "    .dataframe tbody tr th:only-of-type {\n",
       "        vertical-align: middle;\n",
       "    }\n",
       "\n",
       "    .dataframe tbody tr th {\n",
       "        vertical-align: top;\n",
       "    }\n",
       "\n",
       "    .dataframe thead th {\n",
       "        text-align: right;\n",
       "    }\n",
       "</style>\n",
       "<table border=\"1\" class=\"dataframe\">\n",
       "  <thead>\n",
       "    <tr style=\"text-align: right;\">\n",
       "      <th></th>\n",
       "      <th>First</th>\n",
       "      <th>Last</th>\n",
       "      <th>Age</th>\n",
       "    </tr>\n",
       "  </thead>\n",
       "  <tbody>\n",
       "    <tr>\n",
       "      <th>Employee_1</th>\n",
       "      <td>Maya</td>\n",
       "      <td>Midzik</td>\n",
       "      <td>50</td>\n",
       "    </tr>\n",
       "    <tr>\n",
       "      <th>Employee_2</th>\n",
       "      <td>Jonathan</td>\n",
       "      <td>Balaban</td>\n",
       "      <td>25</td>\n",
       "    </tr>\n",
       "    <tr>\n",
       "      <th>Employee_3</th>\n",
       "      <td>Jerod</td>\n",
       "      <td>Rubalcava</td>\n",
       "      <td>31</td>\n",
       "    </tr>\n",
       "  </tbody>\n",
       "</table>\n",
       "</div>"
      ],
      "text/plain": [
       "               First       Last  Age\n",
       "Employee_1      Maya     Midzik   50\n",
       "Employee_2  Jonathan    Balaban   25\n",
       "Employee_3     Jerod  Rubalcava   31"
      ]
     },
     "execution_count": 57,
     "metadata": {},
     "output_type": "execute_result"
    }
   ],
   "source": [
    "my_df"
   ]
  },
  {
   "cell_type": "code",
   "execution_count": 58,
   "metadata": {},
   "outputs": [
    {
     "data": {
      "text/html": [
       "<div>\n",
       "<style scoped>\n",
       "    .dataframe tbody tr th:only-of-type {\n",
       "        vertical-align: middle;\n",
       "    }\n",
       "\n",
       "    .dataframe tbody tr th {\n",
       "        vertical-align: top;\n",
       "    }\n",
       "\n",
       "    .dataframe thead th {\n",
       "        text-align: right;\n",
       "    }\n",
       "</style>\n",
       "<table border=\"1\" class=\"dataframe\">\n",
       "  <thead>\n",
       "    <tr style=\"text-align: right;\">\n",
       "      <th></th>\n",
       "      <th>First</th>\n",
       "      <th>Last</th>\n",
       "      <th>Age</th>\n",
       "      <th>Salary_000s</th>\n",
       "    </tr>\n",
       "  </thead>\n",
       "  <tbody>\n",
       "    <tr>\n",
       "      <th>Employee_1</th>\n",
       "      <td>Maya</td>\n",
       "      <td>Midzik</td>\n",
       "      <td>50</td>\n",
       "      <td>80</td>\n",
       "    </tr>\n",
       "    <tr>\n",
       "      <th>Employee_2</th>\n",
       "      <td>Jonathan</td>\n",
       "      <td>Balaban</td>\n",
       "      <td>25</td>\n",
       "      <td>70</td>\n",
       "    </tr>\n",
       "    <tr>\n",
       "      <th>Employee_3</th>\n",
       "      <td>Jerod</td>\n",
       "      <td>Rubalcava</td>\n",
       "      <td>31</td>\n",
       "      <td>60</td>\n",
       "    </tr>\n",
       "  </tbody>\n",
       "</table>\n",
       "</div>"
      ],
      "text/plain": [
       "               First       Last  Age  Salary_000s\n",
       "Employee_1      Maya     Midzik   50           80\n",
       "Employee_2  Jonathan    Balaban   25           70\n",
       "Employee_3     Jerod  Rubalcava   31           60"
      ]
     },
     "execution_count": 58,
     "metadata": {},
     "output_type": "execute_result"
    }
   ],
   "source": [
    "my_df['Salary_000s'] = [80, 70, 60]\n",
    "my_df"
   ]
  },
  {
   "cell_type": "markdown",
   "metadata": {},
   "source": [
    "We can also create new columns as functions of individual DataFrame columns:"
   ]
  },
  {
   "cell_type": "code",
   "execution_count": 59,
   "metadata": {},
   "outputs": [
    {
     "data": {
      "text/html": [
       "<div>\n",
       "<style scoped>\n",
       "    .dataframe tbody tr th:only-of-type {\n",
       "        vertical-align: middle;\n",
       "    }\n",
       "\n",
       "    .dataframe tbody tr th {\n",
       "        vertical-align: top;\n",
       "    }\n",
       "\n",
       "    .dataframe thead th {\n",
       "        text-align: right;\n",
       "    }\n",
       "</style>\n",
       "<table border=\"1\" class=\"dataframe\">\n",
       "  <thead>\n",
       "    <tr style=\"text-align: right;\">\n",
       "      <th></th>\n",
       "      <th>First</th>\n",
       "      <th>Last</th>\n",
       "      <th>Age</th>\n",
       "      <th>Salary_000s</th>\n",
       "      <th>Salary</th>\n",
       "    </tr>\n",
       "  </thead>\n",
       "  <tbody>\n",
       "    <tr>\n",
       "      <th>Employee_1</th>\n",
       "      <td>Maya</td>\n",
       "      <td>Midzik</td>\n",
       "      <td>50</td>\n",
       "      <td>80</td>\n",
       "      <td>80000</td>\n",
       "    </tr>\n",
       "    <tr>\n",
       "      <th>Employee_2</th>\n",
       "      <td>Jonathan</td>\n",
       "      <td>Balaban</td>\n",
       "      <td>25</td>\n",
       "      <td>70</td>\n",
       "      <td>70000</td>\n",
       "    </tr>\n",
       "    <tr>\n",
       "      <th>Employee_3</th>\n",
       "      <td>Jerod</td>\n",
       "      <td>Rubalcava</td>\n",
       "      <td>31</td>\n",
       "      <td>60</td>\n",
       "      <td>60000</td>\n",
       "    </tr>\n",
       "  </tbody>\n",
       "</table>\n",
       "</div>"
      ],
      "text/plain": [
       "               First       Last  Age  Salary_000s  Salary\n",
       "Employee_1      Maya     Midzik   50           80   80000\n",
       "Employee_2  Jonathan    Balaban   25           70   70000\n",
       "Employee_3     Jerod  Rubalcava   31           60   60000"
      ]
     },
     "execution_count": 59,
     "metadata": {},
     "output_type": "execute_result"
    }
   ],
   "source": [
    "my_df['Salary'] = my_df['Salary_000s'] * 1000\n",
    "my_df"
   ]
  },
  {
   "cell_type": "markdown",
   "metadata": {},
   "source": [
    "Side note: we can easily create columns as functions of other columns because \"under the hood\" Pandas is using Numpy arrays to store its data."
   ]
  },
  {
   "cell_type": "markdown",
   "metadata": {},
   "source": [
    "#### Creating columns as functions of multiple columns\n",
    "\n",
    "Just like you can with Excel formulas, you can create columns in Pandas DataFrames that are functions of multiple columns of the original Dataframe, rather than just one. The way to do it is to:\n",
    "\n",
    "1. Define a function that operates on a \"row\"\n",
    "2. Apply that function to every row in the DataFrame\n",
    "\n",
    "#### Example:"
   ]
  },
  {
   "cell_type": "code",
   "execution_count": 60,
   "metadata": {},
   "outputs": [],
   "source": [
    "def young_and_rich(row):\n",
    "    if row['Age'] < 28 and row['Salary_000s'] > 65:\n",
    "        return True\n",
    "    else:\n",
    "        return False\n"
   ]
  },
  {
   "cell_type": "code",
   "execution_count": 61,
   "metadata": {},
   "outputs": [],
   "source": [
    "\n",
    "my_df['young_and_rich'] = my_df.apply(young_and_rich, axis=1)    "
   ]
  },
  {
   "cell_type": "code",
   "execution_count": 62,
   "metadata": {
    "scrolled": true
   },
   "outputs": [],
   "source": [
    "my_df['age_squared'] = my_df['Age'].apply(lambda x: x**2 if x > 30 else x)"
   ]
  },
  {
   "cell_type": "code",
   "execution_count": 63,
   "metadata": {},
   "outputs": [
    {
     "data": {
      "text/html": [
       "<div>\n",
       "<style scoped>\n",
       "    .dataframe tbody tr th:only-of-type {\n",
       "        vertical-align: middle;\n",
       "    }\n",
       "\n",
       "    .dataframe tbody tr th {\n",
       "        vertical-align: top;\n",
       "    }\n",
       "\n",
       "    .dataframe thead th {\n",
       "        text-align: right;\n",
       "    }\n",
       "</style>\n",
       "<table border=\"1\" class=\"dataframe\">\n",
       "  <thead>\n",
       "    <tr style=\"text-align: right;\">\n",
       "      <th></th>\n",
       "      <th>First</th>\n",
       "      <th>Last</th>\n",
       "      <th>Age</th>\n",
       "      <th>Salary_000s</th>\n",
       "      <th>Salary</th>\n",
       "      <th>young_and_rich</th>\n",
       "      <th>age_squared</th>\n",
       "    </tr>\n",
       "  </thead>\n",
       "  <tbody>\n",
       "    <tr>\n",
       "      <th>Employee_1</th>\n",
       "      <td>Maya</td>\n",
       "      <td>Midzik</td>\n",
       "      <td>50</td>\n",
       "      <td>80</td>\n",
       "      <td>80000</td>\n",
       "      <td>False</td>\n",
       "      <td>2500</td>\n",
       "    </tr>\n",
       "    <tr>\n",
       "      <th>Employee_2</th>\n",
       "      <td>Jonathan</td>\n",
       "      <td>Balaban</td>\n",
       "      <td>25</td>\n",
       "      <td>70</td>\n",
       "      <td>70000</td>\n",
       "      <td>True</td>\n",
       "      <td>25</td>\n",
       "    </tr>\n",
       "    <tr>\n",
       "      <th>Employee_3</th>\n",
       "      <td>Jerod</td>\n",
       "      <td>Rubalcava</td>\n",
       "      <td>31</td>\n",
       "      <td>60</td>\n",
       "      <td>60000</td>\n",
       "      <td>False</td>\n",
       "      <td>961</td>\n",
       "    </tr>\n",
       "  </tbody>\n",
       "</table>\n",
       "</div>"
      ],
      "text/plain": [
       "               First       Last  Age  Salary_000s  Salary  young_and_rich  \\\n",
       "Employee_1      Maya     Midzik   50           80   80000           False   \n",
       "Employee_2  Jonathan    Balaban   25           70   70000            True   \n",
       "Employee_3     Jerod  Rubalcava   31           60   60000           False   \n",
       "\n",
       "            age_squared  \n",
       "Employee_1         2500  \n",
       "Employee_2           25  \n",
       "Employee_3          961  "
      ]
     },
     "execution_count": 63,
     "metadata": {},
     "output_type": "execute_result"
    }
   ],
   "source": [
    "my_df"
   ]
  },
  {
   "cell_type": "markdown",
   "metadata": {},
   "source": [
    "For an explanation of `apply` see\n",
    "https://pandas.pydata.org/pandas-docs/stable/reference/api/pandas.DataFrame.apply.html"
   ]
  },
  {
   "cell_type": "markdown",
   "metadata": {},
   "source": [
    "### Aside on Python functions: `lambda`, `map`, `filter`, `zip`"
   ]
  },
  {
   "cell_type": "markdown",
   "metadata": {},
   "source": [
    "__Overview:__\n",
    "- __[Lambda Expressions](https://docs.python.org/3/tutorial/controlflow.html#lambda-expressions):__ Lambda Expressions are small, anonymous functions that can be created with the `lambda` keyword  \n",
    "- Lambda Expressions are just another tool for building functions. In summary, we can build a function in Python using one of the following methods:\n",
    "> 1. `def` keyword as we saw in last lecture\n",
    "> 2. `lambda` keyword as explained here\n",
    "- Functions built using Lambda Expressions have a few dominating characteristics:\n",
    "> 1. __Anonymous:__ Lambda Functions are __[Anonymous Functions](https://en.wikipedia.org/wiki/Anonymous_function)__ which means they do not require a name to be used immediately and can be developed without a proper definition (like we needed with `def` earlier)\n",
    "> 2. __Ad-Hoc:__ Lambda Functions are used in an \"ad-hoc\" fashion. This means that we only create the function when we need it, use it immediately, and never use it again\n",
    "> 3. __Short:__ Lambda Functions support only minimal input, requiring that the body of the function is short\n",
    "- Lambda Expressions are NOT mandatory and we can definitely do without them, but in some scenarios they can be useful for writing cleaner and more efficient code \n",
    "\n",
    "__Helpful Points:__\n",
    "1. Lambdas are restrictive because, strictly speaking, they can take only a single __[expression](https://docs.python.org/3/reference/expressions.html)__ (expressions \"represent\" something like a number or string and any value is an expression vs. a __[statement](https://docs.python.org/2/reference/simple_stmts.html)__ which is \"doing\" something like assigning a value to some variable)\n",
    "2. Lambda Functions can also take multiple inputs (just like tradtional functions) in the following way: `lambda input_1, input_2: <expression>`\n",
    "\n",
    "__Practice:__ Examples of Lambda Expressions in Python"
   ]
  },
  {
   "cell_type": "code",
   "execution_count": 64,
   "metadata": {},
   "outputs": [
    {
     "name": "stdout",
     "output_type": "stream",
     "text": [
      "18\n"
     ]
    }
   ],
   "source": [
    "# Example of lambda\n",
    "special = lambda x, y : x + y**2 \n",
    "sum = special(2, 4)\n",
    "print(sum)\n",
    "\n"
   ]
  },
  {
   "cell_type": "markdown",
   "metadata": {},
   "source": [
    "__Overview:__\n",
    "- __[Map Function](https://docs.python.org/2/library/functions.html#map):__ Map is a built-in Python function and is useful for applying a function to every item of an `iterable` (i.e. sequence such as `list`, `str`, etc.) and returns a list of the results \n",
    "- The general form of the `map()` function is the following: `map(function, iterable, ...)`\n",
    "- Map functions make it easier to perform a function on every element of a sequence as opposed to wrapping this in a `for` loop and then applying the function on every iteration, for example (see Part 1 examples below) \n",
    "\n",
    "__Helpful Points:__\n",
    "1. The `map()` function can have more than one `iterable` passed into as long as the `function` requires this many arguments\n",
    "2. If the `function` argument is `None`, the __[Identity Function](https://en.wikipedia.org/wiki/Identity_function)__ is assumed which returns the `iterable` as is (doesn't change its elements) \n",
    "3. Map Functions are commonly used in conjunction with Lambda Expressions\n",
    "\n",
    "__Practice:__ Example of Map Functions in Python "
   ]
  },
  {
   "cell_type": "code",
   "execution_count": 65,
   "metadata": {},
   "outputs": [
    {
     "name": "stdout",
     "output_type": "stream",
     "text": [
      "[1, 4, 9, 16]\n",
      "[1, 1.0, 3, 2.0]\n"
     ]
    }
   ],
   "source": [
    "# Example of map\n",
    "# Apply function to each element in list\n",
    "square = map(lambda x : x**2, [1, 2, 3, 4]) \n",
    "print(list(square))\n",
    "\n",
    "# Example with two inputs\n",
    "mult = map(lambda x, y : x*y, [1, 2, 3, 4],[1,0.5,1,0.5]) \n",
    "print(list(mult))\n",
    "\n"
   ]
  },
  {
   "cell_type": "markdown",
   "metadata": {},
   "source": [
    "__Overview:__\n",
    "- __[Filter Function](https://docs.python.org/2/library/functions.html#filter):__ Filter is a built-in function and is useful for a constructing a list of elements from the `iterable` argument for which the `function` returned `True` (it filters out all the elements of the `iterable` that were evaluated as `False`)  \n",
    "- The general form of the `filter()` function is the following: `filter(function, iterable)`\n",
    "- The `function` used in the first argument must return a Boolean Value (`True` or `False`) \n",
    "- Similar to Map functions, Filter functions make it easier to perform a function on every element of a sequence as opposed to wrapping this in a `for` loop and then applying the function on every iteration, for example (see Part 1 examples below) \n",
    "\n",
    "__Helpful Points:__\n",
    "1. Similar to the Map function, if the `function` argument is `None`, the __[Identity Function](https://en.wikipedia.org/wiki/Identity_function)__ is assumed which returns the `iterable` as is (doesn't change its elements) \n",
    "2. Remember, Filter Functions are commonly used in conjunction with Lambda Expressions\n",
    "\n",
    "__Practice:__ Example of Filter Functions in Python "
   ]
  },
  {
   "cell_type": "code",
   "execution_count": 66,
   "metadata": {},
   "outputs": [
    {
     "name": "stdout",
     "output_type": "stream",
     "text": [
      "[2, 4, 6]\n"
     ]
    }
   ],
   "source": [
    "# Example of filter\n",
    "# Output results for which condition is true\n",
    "evens = filter(lambda x : x % 2 == 0, [1, 2, 3, 4, 5, 6]) \n",
    "print(list(evens))\n",
    "\n"
   ]
  },
  {
   "cell_type": "markdown",
   "metadata": {},
   "source": [
    "__Overview:__\n",
    "- __[Zipping](http://python-reference.readthedocs.io/en/latest/docs/functions/zip.html)__: Zipping is a convenient feature in Python that allows you to combine 2 or more sequences, into a single sequence\n",
    "- The new sequence consists of a list of `n-tuples` (where the i-th tuple contains the i-th element from each of the argument sequences) and `n` is the number of sequences which corresponds to the length of the list\n",
    "- For example, 2 objects that are of type `list`, can be \"zipped\" together and the resulting list will be a `tuple` looking like this: `[(element 0 of list 1, element 0 of list 2), (element 1 of list 1, element 1 of list 2), ...]`\n",
    "- __Unzipping:__ Unzipping is the opposite of the __Zipping__ feature and is performed by using the `*` operator \n",
    "\n",
    "__Helpful Points:__\n",
    "1. The term \"zipping\" is most commonly used to __[\"zip\"](https://en.wikipedia.org/wiki/Zip_(file_format))__ files which means to \"compress\" a series of files. In Python, the interpretation is the same (but we are compressing sequences, not files)\n",
    "2. If the sequences that are passed in are not of equal length, the returned list is truncated to the length of the shortest sequence\n",
    "3. When using the `zip()` function directly, the result will not automatically be a `list`, this is something you need to force by using the `list()` function\n",
    "4. Zipping is very useful (and common) for iterating over multiple sequences at once (see Part 3 in examples below)\n",
    "\n",
    "__Practice:__ Examples of Zipping and Unzipping in Python "
   ]
  },
  {
   "cell_type": "code",
   "execution_count": 67,
   "metadata": {},
   "outputs": [
    {
     "name": "stdout",
     "output_type": "stream",
     "text": [
      "[(1, 3), (2, 5), (3, 7), (10, 9)]\n"
     ]
    }
   ],
   "source": [
    "# Example of zip\n",
    "# Pair elements in list\n",
    "list_1 = [1, 2, 3, 10]\n",
    "list_2 = [3, 5, 7, 9]\n",
    "pairs = list(zip(list_1, list_2))\n",
    "print(pairs)"
   ]
  },
  {
   "cell_type": "code",
   "execution_count": null,
   "metadata": {},
   "outputs": [],
   "source": []
  },
  {
   "cell_type": "code",
   "execution_count": 68,
   "metadata": {},
   "outputs": [
    {
     "name": "stdout",
     "output_type": "stream",
     "text": [
      "First_list = (1, 2, 3, 10)\n",
      "Second_list = (3, 5, 7, 9)\n"
     ]
    }
   ],
   "source": [
    "# Example of unzip: zip in reverse\n",
    "first_list, second_list =  zip(*pairs)\n",
    "print('First_list =', first_list)\n",
    "print('Second_list =', second_list)"
   ]
  },
  {
   "cell_type": "code",
   "execution_count": 69,
   "metadata": {},
   "outputs": [
    {
     "data": {
      "text/plain": [
       "[3, 5, 7, 10]"
      ]
     },
     "execution_count": 69,
     "metadata": {},
     "output_type": "execute_result"
    }
   ],
   "source": [
    "# More advanced example---putting it all together\n",
    "# Find maximum in each pair of numbers\n",
    "list(map(lambda pair: max(pair), zip(list_1, list_2)))"
   ]
  },
  {
   "cell_type": "markdown",
   "metadata": {},
   "source": [
    "### Boolean Indexing - DataFrames:"
   ]
  },
  {
   "cell_type": "markdown",
   "metadata": {},
   "source": [
    "Boolean indexing lets you select a subset of rows from a DataFrame based on some condition. It relies on the fact that you can test on conditions of a Pandas Series element-wise, resulting in a series of Booleans:"
   ]
  },
  {
   "cell_type": "code",
   "execution_count": 70,
   "metadata": {},
   "outputs": [
    {
     "data": {
      "text/html": [
       "<div>\n",
       "<style scoped>\n",
       "    .dataframe tbody tr th:only-of-type {\n",
       "        vertical-align: middle;\n",
       "    }\n",
       "\n",
       "    .dataframe tbody tr th {\n",
       "        vertical-align: top;\n",
       "    }\n",
       "\n",
       "    .dataframe thead th {\n",
       "        text-align: right;\n",
       "    }\n",
       "</style>\n",
       "<table border=\"1\" class=\"dataframe\">\n",
       "  <thead>\n",
       "    <tr style=\"text-align: right;\">\n",
       "      <th></th>\n",
       "      <th>First</th>\n",
       "      <th>Last</th>\n",
       "      <th>Age</th>\n",
       "      <th>Salary_000s</th>\n",
       "      <th>Salary</th>\n",
       "      <th>young_and_rich</th>\n",
       "      <th>age_squared</th>\n",
       "    </tr>\n",
       "  </thead>\n",
       "  <tbody>\n",
       "    <tr>\n",
       "      <th>Employee_1</th>\n",
       "      <td>Maya</td>\n",
       "      <td>Midzik</td>\n",
       "      <td>50</td>\n",
       "      <td>80</td>\n",
       "      <td>80000</td>\n",
       "      <td>False</td>\n",
       "      <td>2500</td>\n",
       "    </tr>\n",
       "    <tr>\n",
       "      <th>Employee_2</th>\n",
       "      <td>Jonathan</td>\n",
       "      <td>Balaban</td>\n",
       "      <td>25</td>\n",
       "      <td>70</td>\n",
       "      <td>70000</td>\n",
       "      <td>True</td>\n",
       "      <td>25</td>\n",
       "    </tr>\n",
       "    <tr>\n",
       "      <th>Employee_3</th>\n",
       "      <td>Jerod</td>\n",
       "      <td>Rubalcava</td>\n",
       "      <td>31</td>\n",
       "      <td>60</td>\n",
       "      <td>60000</td>\n",
       "      <td>False</td>\n",
       "      <td>961</td>\n",
       "    </tr>\n",
       "  </tbody>\n",
       "</table>\n",
       "</div>"
      ],
      "text/plain": [
       "               First       Last  Age  Salary_000s  Salary  young_and_rich  \\\n",
       "Employee_1      Maya     Midzik   50           80   80000           False   \n",
       "Employee_2  Jonathan    Balaban   25           70   70000            True   \n",
       "Employee_3     Jerod  Rubalcava   31           60   60000           False   \n",
       "\n",
       "            age_squared  \n",
       "Employee_1         2500  \n",
       "Employee_2           25  \n",
       "Employee_3          961  "
      ]
     },
     "execution_count": 70,
     "metadata": {},
     "output_type": "execute_result"
    }
   ],
   "source": [
    "my_df"
   ]
  },
  {
   "cell_type": "code",
   "execution_count": 71,
   "metadata": {},
   "outputs": [
    {
     "data": {
      "text/plain": [
       "Employee_1     True\n",
       "Employee_2    False\n",
       "Employee_3     True\n",
       "Name: Age, dtype: bool"
      ]
     },
     "execution_count": 71,
     "metadata": {},
     "output_type": "execute_result"
    }
   ],
   "source": [
    "my_df[\"Age\"] > 30"
   ]
  },
  {
   "cell_type": "markdown",
   "metadata": {},
   "source": [
    "Then, you can use that to subset:"
   ]
  },
  {
   "cell_type": "code",
   "execution_count": 72,
   "metadata": {
    "scrolled": true
   },
   "outputs": [
    {
     "data": {
      "text/html": [
       "<div>\n",
       "<style scoped>\n",
       "    .dataframe tbody tr th:only-of-type {\n",
       "        vertical-align: middle;\n",
       "    }\n",
       "\n",
       "    .dataframe tbody tr th {\n",
       "        vertical-align: top;\n",
       "    }\n",
       "\n",
       "    .dataframe thead th {\n",
       "        text-align: right;\n",
       "    }\n",
       "</style>\n",
       "<table border=\"1\" class=\"dataframe\">\n",
       "  <thead>\n",
       "    <tr style=\"text-align: right;\">\n",
       "      <th></th>\n",
       "      <th>First</th>\n",
       "      <th>Last</th>\n",
       "      <th>Age</th>\n",
       "      <th>Salary_000s</th>\n",
       "      <th>Salary</th>\n",
       "      <th>young_and_rich</th>\n",
       "      <th>age_squared</th>\n",
       "    </tr>\n",
       "  </thead>\n",
       "  <tbody>\n",
       "    <tr>\n",
       "      <th>Employee_1</th>\n",
       "      <td>Maya</td>\n",
       "      <td>Midzik</td>\n",
       "      <td>50</td>\n",
       "      <td>80</td>\n",
       "      <td>80000</td>\n",
       "      <td>False</td>\n",
       "      <td>2500</td>\n",
       "    </tr>\n",
       "    <tr>\n",
       "      <th>Employee_3</th>\n",
       "      <td>Jerod</td>\n",
       "      <td>Rubalcava</td>\n",
       "      <td>31</td>\n",
       "      <td>60</td>\n",
       "      <td>60000</td>\n",
       "      <td>False</td>\n",
       "      <td>961</td>\n",
       "    </tr>\n",
       "  </tbody>\n",
       "</table>\n",
       "</div>"
      ],
      "text/plain": [
       "            First       Last  Age  Salary_000s  Salary  young_and_rich  \\\n",
       "Employee_1   Maya     Midzik   50           80   80000           False   \n",
       "Employee_3  Jerod  Rubalcava   31           60   60000           False   \n",
       "\n",
       "            age_squared  \n",
       "Employee_1         2500  \n",
       "Employee_3          961  "
      ]
     },
     "execution_count": 72,
     "metadata": {},
     "output_type": "execute_result"
    }
   ],
   "source": [
    "my_df[my_df[\"Age\"] > 30] # all rows with age greater than 30"
   ]
  },
  {
   "cell_type": "code",
   "execution_count": 73,
   "metadata": {},
   "outputs": [
    {
     "data": {
      "text/plain": [
       "Employee_1    False\n",
       "Employee_2    False\n",
       "Employee_3     True\n",
       "Name: Age, dtype: bool"
      ]
     },
     "execution_count": 73,
     "metadata": {},
     "output_type": "execute_result"
    }
   ],
   "source": [
    "(my_df[\"Age\"] > 30) & (my_df[\"Age\"] < 50)"
   ]
  },
  {
   "cell_type": "code",
   "execution_count": 74,
   "metadata": {},
   "outputs": [
    {
     "data": {
      "text/html": [
       "<div>\n",
       "<style scoped>\n",
       "    .dataframe tbody tr th:only-of-type {\n",
       "        vertical-align: middle;\n",
       "    }\n",
       "\n",
       "    .dataframe tbody tr th {\n",
       "        vertical-align: top;\n",
       "    }\n",
       "\n",
       "    .dataframe thead th {\n",
       "        text-align: right;\n",
       "    }\n",
       "</style>\n",
       "<table border=\"1\" class=\"dataframe\">\n",
       "  <thead>\n",
       "    <tr style=\"text-align: right;\">\n",
       "      <th></th>\n",
       "      <th>First</th>\n",
       "      <th>Last</th>\n",
       "      <th>Age</th>\n",
       "      <th>Salary_000s</th>\n",
       "      <th>Salary</th>\n",
       "      <th>young_and_rich</th>\n",
       "      <th>age_squared</th>\n",
       "    </tr>\n",
       "  </thead>\n",
       "  <tbody>\n",
       "    <tr>\n",
       "      <th>Employee_1</th>\n",
       "      <td>Maya</td>\n",
       "      <td>Midzik</td>\n",
       "      <td>50</td>\n",
       "      <td>80</td>\n",
       "      <td>80000</td>\n",
       "      <td>False</td>\n",
       "      <td>2500</td>\n",
       "    </tr>\n",
       "    <tr>\n",
       "      <th>Employee_2</th>\n",
       "      <td>Jonathan</td>\n",
       "      <td>Balaban</td>\n",
       "      <td>25</td>\n",
       "      <td>70</td>\n",
       "      <td>70000</td>\n",
       "      <td>True</td>\n",
       "      <td>25</td>\n",
       "    </tr>\n",
       "    <tr>\n",
       "      <th>Employee_3</th>\n",
       "      <td>Jerod</td>\n",
       "      <td>Rubalcava</td>\n",
       "      <td>31</td>\n",
       "      <td>60</td>\n",
       "      <td>60000</td>\n",
       "      <td>False</td>\n",
       "      <td>961</td>\n",
       "    </tr>\n",
       "  </tbody>\n",
       "</table>\n",
       "</div>"
      ],
      "text/plain": [
       "               First       Last  Age  Salary_000s  Salary  young_and_rich  \\\n",
       "Employee_1      Maya     Midzik   50           80   80000           False   \n",
       "Employee_2  Jonathan    Balaban   25           70   70000            True   \n",
       "Employee_3     Jerod  Rubalcava   31           60   60000           False   \n",
       "\n",
       "            age_squared  \n",
       "Employee_1         2500  \n",
       "Employee_2           25  \n",
       "Employee_3          961  "
      ]
     },
     "execution_count": 74,
     "metadata": {},
     "output_type": "execute_result"
    }
   ],
   "source": [
    "my_df"
   ]
  },
  {
   "cell_type": "code",
   "execution_count": 75,
   "metadata": {},
   "outputs": [
    {
     "data": {
      "text/html": [
       "<div>\n",
       "<style scoped>\n",
       "    .dataframe tbody tr th:only-of-type {\n",
       "        vertical-align: middle;\n",
       "    }\n",
       "\n",
       "    .dataframe tbody tr th {\n",
       "        vertical-align: top;\n",
       "    }\n",
       "\n",
       "    .dataframe thead th {\n",
       "        text-align: right;\n",
       "    }\n",
       "</style>\n",
       "<table border=\"1\" class=\"dataframe\">\n",
       "  <thead>\n",
       "    <tr style=\"text-align: right;\">\n",
       "      <th></th>\n",
       "      <th>First</th>\n",
       "      <th>Last</th>\n",
       "      <th>Age</th>\n",
       "      <th>Salary_000s</th>\n",
       "      <th>Salary</th>\n",
       "      <th>young_and_rich</th>\n",
       "      <th>age_squared</th>\n",
       "    </tr>\n",
       "  </thead>\n",
       "  <tbody>\n",
       "    <tr>\n",
       "      <th>Employee_1</th>\n",
       "      <td>Maya</td>\n",
       "      <td>Midzik</td>\n",
       "      <td>50</td>\n",
       "      <td>80</td>\n",
       "      <td>80000</td>\n",
       "      <td>False</td>\n",
       "      <td>2500</td>\n",
       "    </tr>\n",
       "    <tr>\n",
       "      <th>Employee_2</th>\n",
       "      <td>Jonathan</td>\n",
       "      <td>Balaban</td>\n",
       "      <td>25</td>\n",
       "      <td>70</td>\n",
       "      <td>70000</td>\n",
       "      <td>True</td>\n",
       "      <td>25</td>\n",
       "    </tr>\n",
       "  </tbody>\n",
       "</table>\n",
       "</div>"
      ],
      "text/plain": [
       "               First     Last  Age  Salary_000s  Salary  young_and_rich  \\\n",
       "Employee_1      Maya   Midzik   50           80   80000           False   \n",
       "Employee_2  Jonathan  Balaban   25           70   70000            True   \n",
       "\n",
       "            age_squared  \n",
       "Employee_1         2500  \n",
       "Employee_2           25  "
      ]
     },
     "execution_count": 75,
     "metadata": {},
     "output_type": "execute_result"
    }
   ],
   "source": [
    "# all rows with age greater than 30 and less than 50\n",
    "my_df[(my_df[\"Age\"] > 49) | (my_df[\"Salary\"] ==70000)] "
   ]
  },
  {
   "cell_type": "code",
   "execution_count": 76,
   "metadata": {},
   "outputs": [
    {
     "data": {
      "text/html": [
       "<div>\n",
       "<style scoped>\n",
       "    .dataframe tbody tr th:only-of-type {\n",
       "        vertical-align: middle;\n",
       "    }\n",
       "\n",
       "    .dataframe tbody tr th {\n",
       "        vertical-align: top;\n",
       "    }\n",
       "\n",
       "    .dataframe thead th {\n",
       "        text-align: right;\n",
       "    }\n",
       "</style>\n",
       "<table border=\"1\" class=\"dataframe\">\n",
       "  <thead>\n",
       "    <tr style=\"text-align: right;\">\n",
       "      <th></th>\n",
       "      <th>First</th>\n",
       "      <th>Last</th>\n",
       "      <th>Age</th>\n",
       "      <th>Salary_000s</th>\n",
       "      <th>Salary</th>\n",
       "      <th>young_and_rich</th>\n",
       "      <th>age_squared</th>\n",
       "    </tr>\n",
       "  </thead>\n",
       "  <tbody>\n",
       "    <tr>\n",
       "      <th>Employee_1</th>\n",
       "      <td>Maya</td>\n",
       "      <td>Midzik</td>\n",
       "      <td>50</td>\n",
       "      <td>80</td>\n",
       "      <td>80000</td>\n",
       "      <td>False</td>\n",
       "      <td>2500</td>\n",
       "    </tr>\n",
       "    <tr>\n",
       "      <th>Employee_2</th>\n",
       "      <td>Jonathan</td>\n",
       "      <td>Balaban</td>\n",
       "      <td>25</td>\n",
       "      <td>70</td>\n",
       "      <td>70000</td>\n",
       "      <td>True</td>\n",
       "      <td>25</td>\n",
       "    </tr>\n",
       "    <tr>\n",
       "      <th>Employee_3</th>\n",
       "      <td>Jerod</td>\n",
       "      <td>Rubalcava</td>\n",
       "      <td>31</td>\n",
       "      <td>60</td>\n",
       "      <td>60000</td>\n",
       "      <td>False</td>\n",
       "      <td>961</td>\n",
       "    </tr>\n",
       "  </tbody>\n",
       "</table>\n",
       "</div>"
      ],
      "text/plain": [
       "               First       Last  Age  Salary_000s  Salary  young_and_rich  \\\n",
       "Employee_1      Maya     Midzik   50           80   80000           False   \n",
       "Employee_2  Jonathan    Balaban   25           70   70000            True   \n",
       "Employee_3     Jerod  Rubalcava   31           60   60000           False   \n",
       "\n",
       "            age_squared  \n",
       "Employee_1         2500  \n",
       "Employee_2           25  \n",
       "Employee_3          961  "
      ]
     },
     "execution_count": 76,
     "metadata": {},
     "output_type": "execute_result"
    }
   ],
   "source": [
    "my_df"
   ]
  },
  {
   "cell_type": "code",
   "execution_count": 77,
   "metadata": {},
   "outputs": [
    {
     "data": {
      "text/html": [
       "<div>\n",
       "<style scoped>\n",
       "    .dataframe tbody tr th:only-of-type {\n",
       "        vertical-align: middle;\n",
       "    }\n",
       "\n",
       "    .dataframe tbody tr th {\n",
       "        vertical-align: top;\n",
       "    }\n",
       "\n",
       "    .dataframe thead th {\n",
       "        text-align: right;\n",
       "    }\n",
       "</style>\n",
       "<table border=\"1\" class=\"dataframe\">\n",
       "  <thead>\n",
       "    <tr style=\"text-align: right;\">\n",
       "      <th></th>\n",
       "      <th>First</th>\n",
       "      <th>Last</th>\n",
       "      <th>Age</th>\n",
       "      <th>Salary_000s</th>\n",
       "      <th>Salary</th>\n",
       "      <th>young_and_rich</th>\n",
       "      <th>age_squared</th>\n",
       "    </tr>\n",
       "  </thead>\n",
       "  <tbody>\n",
       "    <tr>\n",
       "      <th>Employee_1</th>\n",
       "      <td>Maya</td>\n",
       "      <td>Midzik</td>\n",
       "      <td>50</td>\n",
       "      <td>80</td>\n",
       "      <td>80000</td>\n",
       "      <td>False</td>\n",
       "      <td>2500</td>\n",
       "    </tr>\n",
       "    <tr>\n",
       "      <th>Employee_2</th>\n",
       "      <td>Jonathan</td>\n",
       "      <td>Balaban</td>\n",
       "      <td>25</td>\n",
       "      <td>70</td>\n",
       "      <td>70000</td>\n",
       "      <td>True</td>\n",
       "      <td>25</td>\n",
       "    </tr>\n",
       "  </tbody>\n",
       "</table>\n",
       "</div>"
      ],
      "text/plain": [
       "               First     Last  Age  Salary_000s  Salary  young_and_rich  \\\n",
       "Employee_1      Maya   Midzik   50           80   80000           False   \n",
       "Employee_2  Jonathan  Balaban   25           70   70000            True   \n",
       "\n",
       "            age_squared  \n",
       "Employee_1         2500  \n",
       "Employee_2           25  "
      ]
     },
     "execution_count": 77,
     "metadata": {},
     "output_type": "execute_result"
    }
   ],
   "source": [
    "# all rows where first name is not equal to Jerod \n",
    "my_df[~(my_df[\"First\"] == \"Jerod\")] "
   ]
  },
  {
   "cell_type": "code",
   "execution_count": 78,
   "metadata": {
    "scrolled": true
   },
   "outputs": [
    {
     "data": {
      "text/html": [
       "<div>\n",
       "<style scoped>\n",
       "    .dataframe tbody tr th:only-of-type {\n",
       "        vertical-align: middle;\n",
       "    }\n",
       "\n",
       "    .dataframe tbody tr th {\n",
       "        vertical-align: top;\n",
       "    }\n",
       "\n",
       "    .dataframe thead th {\n",
       "        text-align: right;\n",
       "    }\n",
       "</style>\n",
       "<table border=\"1\" class=\"dataframe\">\n",
       "  <thead>\n",
       "    <tr style=\"text-align: right;\">\n",
       "      <th></th>\n",
       "      <th>First</th>\n",
       "      <th>Last</th>\n",
       "      <th>Age</th>\n",
       "      <th>Salary_000s</th>\n",
       "      <th>Salary</th>\n",
       "      <th>young_and_rich</th>\n",
       "      <th>age_squared</th>\n",
       "    </tr>\n",
       "  </thead>\n",
       "  <tbody>\n",
       "    <tr>\n",
       "      <th>Employee_1</th>\n",
       "      <td>Maya</td>\n",
       "      <td>Midzik</td>\n",
       "      <td>50</td>\n",
       "      <td>80</td>\n",
       "      <td>80000</td>\n",
       "      <td>False</td>\n",
       "      <td>2500</td>\n",
       "    </tr>\n",
       "    <tr>\n",
       "      <th>Employee_2</th>\n",
       "      <td>Jonathan</td>\n",
       "      <td>Balaban</td>\n",
       "      <td>25</td>\n",
       "      <td>70</td>\n",
       "      <td>70000</td>\n",
       "      <td>True</td>\n",
       "      <td>25</td>\n",
       "    </tr>\n",
       "  </tbody>\n",
       "</table>\n",
       "</div>"
      ],
      "text/plain": [
       "               First     Last  Age  Salary_000s  Salary  young_and_rich  \\\n",
       "Employee_1      Maya   Midzik   50           80   80000           False   \n",
       "Employee_2  Jonathan  Balaban   25           70   70000            True   \n",
       "\n",
       "            age_squared  \n",
       "Employee_1         2500  \n",
       "Employee_2           25  "
      ]
     },
     "execution_count": 78,
     "metadata": {},
     "output_type": "execute_result"
    }
   ],
   "source": [
    "# all rows where first name is not equal to Jerod \n",
    "my_df[my_df[\"First\"] != \"Jerod\"] "
   ]
  },
  {
   "cell_type": "markdown",
   "metadata": {},
   "source": [
    "### Exercise"
   ]
  },
  {
   "cell_type": "markdown",
   "metadata": {},
   "source": [
    "Using the same data from the population dataframe below:\n",
    "\n",
    "* Create a new column \"density\", that is the population divided by the size\n",
    "* Filter the DataFrame to only include rows with population less than 1000000000.\n",
    "* Sort the countries from highest to lowest density\n",
    "    * For this second part: you'll have to Google how to do this. You'll get used to this quickly, and it isn't as bad as you might think. Try Googling \"sort pandas dataframe\" and I bet the first result you get will be a link to the documentation that you can use to show you how to do this. Once you realize you can \"just Google stuff\", a whole world opens up for you!"
   ]
  },
  {
   "cell_type": "code",
   "execution_count": 79,
   "metadata": {},
   "outputs": [
    {
     "data": {
      "text/html": [
       "<div>\n",
       "<style scoped>\n",
       "    .dataframe tbody tr th:only-of-type {\n",
       "        vertical-align: middle;\n",
       "    }\n",
       "\n",
       "    .dataframe tbody tr th {\n",
       "        vertical-align: top;\n",
       "    }\n",
       "\n",
       "    .dataframe thead th {\n",
       "        text-align: right;\n",
       "    }\n",
       "</style>\n",
       "<table border=\"1\" class=\"dataframe\">\n",
       "  <thead>\n",
       "    <tr style=\"text-align: right;\">\n",
       "      <th></th>\n",
       "      <th>Country Name</th>\n",
       "      <th>Population</th>\n",
       "      <th>Size</th>\n",
       "    </tr>\n",
       "  </thead>\n",
       "  <tbody>\n",
       "    <tr>\n",
       "      <th>0</th>\n",
       "      <td>China</td>\n",
       "      <td>1409517397</td>\n",
       "      <td>9572900</td>\n",
       "    </tr>\n",
       "    <tr>\n",
       "      <th>1</th>\n",
       "      <td>India</td>\n",
       "      <td>1339180127</td>\n",
       "      <td>3287263</td>\n",
       "    </tr>\n",
       "    <tr>\n",
       "      <th>2</th>\n",
       "      <td>USA</td>\n",
       "      <td>324459463</td>\n",
       "      <td>9629091</td>\n",
       "    </tr>\n",
       "    <tr>\n",
       "      <th>3</th>\n",
       "      <td>Indonesia</td>\n",
       "      <td>263991379</td>\n",
       "      <td>1904556</td>\n",
       "    </tr>\n",
       "    <tr>\n",
       "      <th>4</th>\n",
       "      <td>Brazil</td>\n",
       "      <td>209288278</td>\n",
       "      <td>8511965</td>\n",
       "    </tr>\n",
       "  </tbody>\n",
       "</table>\n",
       "</div>"
      ],
      "text/plain": [
       "  Country Name  Population     Size\n",
       "0        China  1409517397  9572900\n",
       "1        India  1339180127  3287263\n",
       "2          USA   324459463  9629091\n",
       "3    Indonesia   263991379  1904556\n",
       "4       Brazil   209288278  8511965"
      ]
     },
     "execution_count": 79,
     "metadata": {},
     "output_type": "execute_result"
    }
   ],
   "source": [
    "prob2_df"
   ]
  },
  {
   "cell_type": "code",
   "execution_count": 80,
   "metadata": {},
   "outputs": [
    {
     "data": {
      "text/html": [
       "<div>\n",
       "<style scoped>\n",
       "    .dataframe tbody tr th:only-of-type {\n",
       "        vertical-align: middle;\n",
       "    }\n",
       "\n",
       "    .dataframe tbody tr th {\n",
       "        vertical-align: top;\n",
       "    }\n",
       "\n",
       "    .dataframe thead th {\n",
       "        text-align: right;\n",
       "    }\n",
       "</style>\n",
       "<table border=\"1\" class=\"dataframe\">\n",
       "  <thead>\n",
       "    <tr style=\"text-align: right;\">\n",
       "      <th></th>\n",
       "      <th>Country Name</th>\n",
       "      <th>Population</th>\n",
       "      <th>Size</th>\n",
       "      <th>Density</th>\n",
       "    </tr>\n",
       "  </thead>\n",
       "  <tbody>\n",
       "    <tr>\n",
       "      <th>0</th>\n",
       "      <td>China</td>\n",
       "      <td>1409517397</td>\n",
       "      <td>9572900</td>\n",
       "      <td>147.240376</td>\n",
       "    </tr>\n",
       "    <tr>\n",
       "      <th>1</th>\n",
       "      <td>India</td>\n",
       "      <td>1339180127</td>\n",
       "      <td>3287263</td>\n",
       "      <td>407.384541</td>\n",
       "    </tr>\n",
       "    <tr>\n",
       "      <th>2</th>\n",
       "      <td>USA</td>\n",
       "      <td>324459463</td>\n",
       "      <td>9629091</td>\n",
       "      <td>33.695752</td>\n",
       "    </tr>\n",
       "    <tr>\n",
       "      <th>3</th>\n",
       "      <td>Indonesia</td>\n",
       "      <td>263991379</td>\n",
       "      <td>1904556</td>\n",
       "      <td>138.610458</td>\n",
       "    </tr>\n",
       "    <tr>\n",
       "      <th>4</th>\n",
       "      <td>Brazil</td>\n",
       "      <td>209288278</td>\n",
       "      <td>8511965</td>\n",
       "      <td>24.587540</td>\n",
       "    </tr>\n",
       "  </tbody>\n",
       "</table>\n",
       "</div>"
      ],
      "text/plain": [
       "  Country Name  Population     Size     Density\n",
       "0        China  1409517397  9572900  147.240376\n",
       "1        India  1339180127  3287263  407.384541\n",
       "2          USA   324459463  9629091   33.695752\n",
       "3    Indonesia   263991379  1904556  138.610458\n",
       "4       Brazil   209288278  8511965   24.587540"
      ]
     },
     "execution_count": 80,
     "metadata": {},
     "output_type": "execute_result"
    }
   ],
   "source": [
    "prob2_df['Density'] = prob2_df['Population'] / prob2_df['Size']\n",
    "prob2_df"
   ]
  },
  {
   "cell_type": "code",
   "execution_count": 81,
   "metadata": {},
   "outputs": [
    {
     "data": {
      "text/html": [
       "<div>\n",
       "<style scoped>\n",
       "    .dataframe tbody tr th:only-of-type {\n",
       "        vertical-align: middle;\n",
       "    }\n",
       "\n",
       "    .dataframe tbody tr th {\n",
       "        vertical-align: top;\n",
       "    }\n",
       "\n",
       "    .dataframe thead th {\n",
       "        text-align: right;\n",
       "    }\n",
       "</style>\n",
       "<table border=\"1\" class=\"dataframe\">\n",
       "  <thead>\n",
       "    <tr style=\"text-align: right;\">\n",
       "      <th></th>\n",
       "      <th>Country Name</th>\n",
       "      <th>Population</th>\n",
       "      <th>Size</th>\n",
       "      <th>Density</th>\n",
       "    </tr>\n",
       "  </thead>\n",
       "  <tbody>\n",
       "    <tr>\n",
       "      <th>2</th>\n",
       "      <td>USA</td>\n",
       "      <td>324459463</td>\n",
       "      <td>9629091</td>\n",
       "      <td>33.695752</td>\n",
       "    </tr>\n",
       "    <tr>\n",
       "      <th>3</th>\n",
       "      <td>Indonesia</td>\n",
       "      <td>263991379</td>\n",
       "      <td>1904556</td>\n",
       "      <td>138.610458</td>\n",
       "    </tr>\n",
       "    <tr>\n",
       "      <th>4</th>\n",
       "      <td>Brazil</td>\n",
       "      <td>209288278</td>\n",
       "      <td>8511965</td>\n",
       "      <td>24.587540</td>\n",
       "    </tr>\n",
       "  </tbody>\n",
       "</table>\n",
       "</div>"
      ],
      "text/plain": [
       "  Country Name  Population     Size     Density\n",
       "2          USA   324459463  9629091   33.695752\n",
       "3    Indonesia   263991379  1904556  138.610458\n",
       "4       Brazil   209288278  8511965   24.587540"
      ]
     },
     "execution_count": 81,
     "metadata": {},
     "output_type": "execute_result"
    }
   ],
   "source": [
    "prob2_df[prob2_df['Population'] < 1000000000]"
   ]
  },
  {
   "cell_type": "code",
   "execution_count": null,
   "metadata": {},
   "outputs": [],
   "source": []
  },
  {
   "cell_type": "code",
   "execution_count": 82,
   "metadata": {},
   "outputs": [],
   "source": [
    "prob2_df.sort_values(by='Density',ascending=False,inplace=True)"
   ]
  },
  {
   "cell_type": "code",
   "execution_count": 83,
   "metadata": {},
   "outputs": [
    {
     "data": {
      "text/html": [
       "<div>\n",
       "<style scoped>\n",
       "    .dataframe tbody tr th:only-of-type {\n",
       "        vertical-align: middle;\n",
       "    }\n",
       "\n",
       "    .dataframe tbody tr th {\n",
       "        vertical-align: top;\n",
       "    }\n",
       "\n",
       "    .dataframe thead th {\n",
       "        text-align: right;\n",
       "    }\n",
       "</style>\n",
       "<table border=\"1\" class=\"dataframe\">\n",
       "  <thead>\n",
       "    <tr style=\"text-align: right;\">\n",
       "      <th></th>\n",
       "      <th>Country Name</th>\n",
       "      <th>Population</th>\n",
       "      <th>Size</th>\n",
       "      <th>Density</th>\n",
       "    </tr>\n",
       "  </thead>\n",
       "  <tbody>\n",
       "    <tr>\n",
       "      <th>0</th>\n",
       "      <td>India</td>\n",
       "      <td>1339180127</td>\n",
       "      <td>3287263</td>\n",
       "      <td>407.384541</td>\n",
       "    </tr>\n",
       "    <tr>\n",
       "      <th>1</th>\n",
       "      <td>China</td>\n",
       "      <td>1409517397</td>\n",
       "      <td>9572900</td>\n",
       "      <td>147.240376</td>\n",
       "    </tr>\n",
       "    <tr>\n",
       "      <th>2</th>\n",
       "      <td>Indonesia</td>\n",
       "      <td>263991379</td>\n",
       "      <td>1904556</td>\n",
       "      <td>138.610458</td>\n",
       "    </tr>\n",
       "    <tr>\n",
       "      <th>3</th>\n",
       "      <td>USA</td>\n",
       "      <td>324459463</td>\n",
       "      <td>9629091</td>\n",
       "      <td>33.695752</td>\n",
       "    </tr>\n",
       "    <tr>\n",
       "      <th>4</th>\n",
       "      <td>Brazil</td>\n",
       "      <td>209288278</td>\n",
       "      <td>8511965</td>\n",
       "      <td>24.587540</td>\n",
       "    </tr>\n",
       "  </tbody>\n",
       "</table>\n",
       "</div>"
      ],
      "text/plain": [
       "  Country Name  Population     Size     Density\n",
       "0        India  1339180127  3287263  407.384541\n",
       "1        China  1409517397  9572900  147.240376\n",
       "2    Indonesia   263991379  1904556  138.610458\n",
       "3          USA   324459463  9629091   33.695752\n",
       "4       Brazil   209288278  8511965   24.587540"
      ]
     },
     "execution_count": 83,
     "metadata": {},
     "output_type": "execute_result"
    }
   ],
   "source": [
    "prob2_df.reset_index(drop=True)"
   ]
  },
  {
   "cell_type": "code",
   "execution_count": 84,
   "metadata": {},
   "outputs": [
    {
     "data": {
      "text/html": [
       "<div>\n",
       "<style scoped>\n",
       "    .dataframe tbody tr th:only-of-type {\n",
       "        vertical-align: middle;\n",
       "    }\n",
       "\n",
       "    .dataframe tbody tr th {\n",
       "        vertical-align: top;\n",
       "    }\n",
       "\n",
       "    .dataframe thead th {\n",
       "        text-align: right;\n",
       "    }\n",
       "</style>\n",
       "<table border=\"1\" class=\"dataframe\">\n",
       "  <thead>\n",
       "    <tr style=\"text-align: right;\">\n",
       "      <th></th>\n",
       "      <th>Country Name</th>\n",
       "      <th>Population</th>\n",
       "      <th>Size</th>\n",
       "      <th>Density</th>\n",
       "    </tr>\n",
       "  </thead>\n",
       "  <tbody>\n",
       "    <tr>\n",
       "      <th>1</th>\n",
       "      <td>India</td>\n",
       "      <td>1339180127</td>\n",
       "      <td>3287263</td>\n",
       "      <td>407.384541</td>\n",
       "    </tr>\n",
       "    <tr>\n",
       "      <th>0</th>\n",
       "      <td>China</td>\n",
       "      <td>1409517397</td>\n",
       "      <td>9572900</td>\n",
       "      <td>147.240376</td>\n",
       "    </tr>\n",
       "    <tr>\n",
       "      <th>3</th>\n",
       "      <td>Indonesia</td>\n",
       "      <td>263991379</td>\n",
       "      <td>1904556</td>\n",
       "      <td>138.610458</td>\n",
       "    </tr>\n",
       "    <tr>\n",
       "      <th>2</th>\n",
       "      <td>USA</td>\n",
       "      <td>324459463</td>\n",
       "      <td>9629091</td>\n",
       "      <td>33.695752</td>\n",
       "    </tr>\n",
       "    <tr>\n",
       "      <th>4</th>\n",
       "      <td>Brazil</td>\n",
       "      <td>209288278</td>\n",
       "      <td>8511965</td>\n",
       "      <td>24.587540</td>\n",
       "    </tr>\n",
       "  </tbody>\n",
       "</table>\n",
       "</div>"
      ],
      "text/plain": [
       "  Country Name  Population     Size     Density\n",
       "1        India  1339180127  3287263  407.384541\n",
       "0        China  1409517397  9572900  147.240376\n",
       "3    Indonesia   263991379  1904556  138.610458\n",
       "2          USA   324459463  9629091   33.695752\n",
       "4       Brazil   209288278  8511965   24.587540"
      ]
     },
     "execution_count": 84,
     "metadata": {},
     "output_type": "execute_result"
    }
   ],
   "source": [
    "# Sort on full data (not filtered by population)\n",
    "prob2_df.sort_values(by='Density', ascending=False)"
   ]
  },
  {
   "cell_type": "markdown",
   "metadata": {},
   "source": [
    "### Select by label (loc) and position (iloc)"
   ]
  },
  {
   "cell_type": "markdown",
   "metadata": {},
   "source": [
    "\n",
    "- __[Select by Label](http://pandas.pydata.org/pandas-docs/stable/indexing.html#indexing-label) (loc):__ This describes __purely label-based indexing__ which selects labels based on what is included in the index of the object. The syntax of this method (for DataFrames) is `df.loc[row_label, column_label]` and it returns a `Series` object. The following provides a list of the possible arguments for the `row_label` and/or `column_label`:\n",
    ">> a. A single label (i.e. `5` or `a`, but the number `5` is interpreted as the label and NOT as the index (use `.iloc` for this)<br>\n",
    ">> b. A list or array of labels (i.e. `['a', 'b', 'c']`)<br>\n",
    ">> c. A slice object with labels (i.e. `['a':'f']`, but unlike with other slices in Python, the `stop` argument is included in the slice)  \n",
    ">> d. A boolean array \n",
    "- __[Select by Integer Location (Position)](http://pandas.pydata.org/pandas-docs/stable/indexing.html#indexing-integer) (iloc):__ This describes __purely integer-based indexing__ which requires an integer (0-based indexing) for input. The syntax of this method is (for DataFrames) `df.iloc[row_number, column_number]` and it returns a `Series` object. The following provides a list of the possible arguments for `row_number` and/or `column_number`:\n",
    ">> a. An integer (i.e. `5`)<br>\n",
    ">> b. A list or array of integers (i.e. `[4, 3, 0]`<br>\n",
    ">> c. A slice object with integers (i.e. `[1:7]`<br>\n",
    ">> d. A boolean array "
   ]
  },
  {
   "cell_type": "code",
   "execution_count": 85,
   "metadata": {},
   "outputs": [
    {
     "data": {
      "text/html": [
       "<div>\n",
       "<style scoped>\n",
       "    .dataframe tbody tr th:only-of-type {\n",
       "        vertical-align: middle;\n",
       "    }\n",
       "\n",
       "    .dataframe tbody tr th {\n",
       "        vertical-align: top;\n",
       "    }\n",
       "\n",
       "    .dataframe thead th {\n",
       "        text-align: right;\n",
       "    }\n",
       "</style>\n",
       "<table border=\"1\" class=\"dataframe\">\n",
       "  <thead>\n",
       "    <tr style=\"text-align: right;\">\n",
       "      <th></th>\n",
       "      <th>First</th>\n",
       "      <th>Last</th>\n",
       "      <th>Age</th>\n",
       "      <th>Salary_000s</th>\n",
       "      <th>Salary</th>\n",
       "      <th>young_and_rich</th>\n",
       "      <th>age_squared</th>\n",
       "    </tr>\n",
       "  </thead>\n",
       "  <tbody>\n",
       "    <tr>\n",
       "      <th>Employee_1</th>\n",
       "      <td>Maya</td>\n",
       "      <td>Midzik</td>\n",
       "      <td>50</td>\n",
       "      <td>80</td>\n",
       "      <td>80000</td>\n",
       "      <td>False</td>\n",
       "      <td>2500</td>\n",
       "    </tr>\n",
       "    <tr>\n",
       "      <th>Employee_2</th>\n",
       "      <td>Jonathan</td>\n",
       "      <td>Balaban</td>\n",
       "      <td>25</td>\n",
       "      <td>70</td>\n",
       "      <td>70000</td>\n",
       "      <td>True</td>\n",
       "      <td>25</td>\n",
       "    </tr>\n",
       "    <tr>\n",
       "      <th>Employee_3</th>\n",
       "      <td>Jerod</td>\n",
       "      <td>Rubalcava</td>\n",
       "      <td>31</td>\n",
       "      <td>60</td>\n",
       "      <td>60000</td>\n",
       "      <td>False</td>\n",
       "      <td>961</td>\n",
       "    </tr>\n",
       "  </tbody>\n",
       "</table>\n",
       "</div>"
      ],
      "text/plain": [
       "               First       Last  Age  Salary_000s  Salary  young_and_rich  \\\n",
       "Employee_1      Maya     Midzik   50           80   80000           False   \n",
       "Employee_2  Jonathan    Balaban   25           70   70000            True   \n",
       "Employee_3     Jerod  Rubalcava   31           60   60000           False   \n",
       "\n",
       "            age_squared  \n",
       "Employee_1         2500  \n",
       "Employee_2           25  \n",
       "Employee_3          961  "
      ]
     },
     "execution_count": 85,
     "metadata": {},
     "output_type": "execute_result"
    }
   ],
   "source": [
    "# Let's go ahead and make another copy of my_df called new_df\n",
    "new_df = my_df.copy()\n",
    "new_df.head()"
   ]
  },
  {
   "cell_type": "markdown",
   "metadata": {},
   "source": [
    "### loc"
   ]
  },
  {
   "cell_type": "code",
   "execution_count": 86,
   "metadata": {},
   "outputs": [
    {
     "data": {
      "text/plain": [
       "'Balaban'"
      ]
     },
     "execution_count": 86,
     "metadata": {},
     "output_type": "execute_result"
    }
   ],
   "source": [
    "# loc method allows us to select rows and columns \n",
    "# by their label or boolean logic introduced above\n",
    "# select a specific value using row and column names\n",
    "new_df.loc['Employee_2','Last'] "
   ]
  },
  {
   "cell_type": "code",
   "execution_count": 87,
   "metadata": {},
   "outputs": [
    {
     "data": {
      "text/html": [
       "<div>\n",
       "<style scoped>\n",
       "    .dataframe tbody tr th:only-of-type {\n",
       "        vertical-align: middle;\n",
       "    }\n",
       "\n",
       "    .dataframe tbody tr th {\n",
       "        vertical-align: top;\n",
       "    }\n",
       "\n",
       "    .dataframe thead th {\n",
       "        text-align: right;\n",
       "    }\n",
       "</style>\n",
       "<table border=\"1\" class=\"dataframe\">\n",
       "  <thead>\n",
       "    <tr style=\"text-align: right;\">\n",
       "      <th></th>\n",
       "      <th>First</th>\n",
       "      <th>Last</th>\n",
       "      <th>Age</th>\n",
       "      <th>Salary_000s</th>\n",
       "      <th>Salary</th>\n",
       "      <th>young_and_rich</th>\n",
       "      <th>age_squared</th>\n",
       "    </tr>\n",
       "  </thead>\n",
       "  <tbody>\n",
       "    <tr>\n",
       "      <th>Employee_1</th>\n",
       "      <td>Maya</td>\n",
       "      <td>Midzik</td>\n",
       "      <td>50</td>\n",
       "      <td>80</td>\n",
       "      <td>80000</td>\n",
       "      <td>False</td>\n",
       "      <td>2500</td>\n",
       "    </tr>\n",
       "    <tr>\n",
       "      <th>Employee_2</th>\n",
       "      <td>Jonathan</td>\n",
       "      <td>Carlos</td>\n",
       "      <td>25</td>\n",
       "      <td>70</td>\n",
       "      <td>70000</td>\n",
       "      <td>True</td>\n",
       "      <td>25</td>\n",
       "    </tr>\n",
       "    <tr>\n",
       "      <th>Employee_3</th>\n",
       "      <td>Jerod</td>\n",
       "      <td>Rubalcava</td>\n",
       "      <td>31</td>\n",
       "      <td>60</td>\n",
       "      <td>60000</td>\n",
       "      <td>False</td>\n",
       "      <td>961</td>\n",
       "    </tr>\n",
       "  </tbody>\n",
       "</table>\n",
       "</div>"
      ],
      "text/plain": [
       "               First       Last  Age  Salary_000s  Salary  young_and_rich  \\\n",
       "Employee_1      Maya     Midzik   50           80   80000           False   \n",
       "Employee_2  Jonathan     Carlos   25           70   70000            True   \n",
       "Employee_3     Jerod  Rubalcava   31           60   60000           False   \n",
       "\n",
       "            age_squared  \n",
       "Employee_1         2500  \n",
       "Employee_2           25  \n",
       "Employee_3          961  "
      ]
     },
     "execution_count": 87,
     "metadata": {},
     "output_type": "execute_result"
    }
   ],
   "source": [
    "#change values for specific location\n",
    "new_df.loc['Employee_2','Last'] = 'Carlos' \n",
    "new_df"
   ]
  },
  {
   "cell_type": "code",
   "execution_count": 88,
   "metadata": {},
   "outputs": [
    {
     "data": {
      "text/html": [
       "<div>\n",
       "<style scoped>\n",
       "    .dataframe tbody tr th:only-of-type {\n",
       "        vertical-align: middle;\n",
       "    }\n",
       "\n",
       "    .dataframe tbody tr th {\n",
       "        vertical-align: top;\n",
       "    }\n",
       "\n",
       "    .dataframe thead th {\n",
       "        text-align: right;\n",
       "    }\n",
       "</style>\n",
       "<table border=\"1\" class=\"dataframe\">\n",
       "  <thead>\n",
       "    <tr style=\"text-align: right;\">\n",
       "      <th></th>\n",
       "      <th>First</th>\n",
       "      <th>young_and_rich</th>\n",
       "    </tr>\n",
       "  </thead>\n",
       "  <tbody>\n",
       "    <tr>\n",
       "      <th>Employee_1</th>\n",
       "      <td>Maya</td>\n",
       "      <td>False</td>\n",
       "    </tr>\n",
       "    <tr>\n",
       "      <th>Employee_2</th>\n",
       "      <td>Jonathan</td>\n",
       "      <td>True</td>\n",
       "    </tr>\n",
       "    <tr>\n",
       "      <th>Employee_3</th>\n",
       "      <td>Jerod</td>\n",
       "      <td>False</td>\n",
       "    </tr>\n",
       "  </tbody>\n",
       "</table>\n",
       "</div>"
      ],
      "text/plain": [
       "               First  young_and_rich\n",
       "Employee_1      Maya           False\n",
       "Employee_2  Jonathan            True\n",
       "Employee_3     Jerod           False"
      ]
     },
     "execution_count": 88,
     "metadata": {},
     "output_type": "execute_result"
    }
   ],
   "source": [
    "#select a subset of the rows and columns\n",
    "new_df.loc['Employee_1':'Employee_3',['First','young_and_rich']] "
   ]
  },
  {
   "cell_type": "code",
   "execution_count": 89,
   "metadata": {},
   "outputs": [
    {
     "data": {
      "text/html": [
       "<div>\n",
       "<style scoped>\n",
       "    .dataframe tbody tr th:only-of-type {\n",
       "        vertical-align: middle;\n",
       "    }\n",
       "\n",
       "    .dataframe tbody tr th {\n",
       "        vertical-align: top;\n",
       "    }\n",
       "\n",
       "    .dataframe thead th {\n",
       "        text-align: right;\n",
       "    }\n",
       "</style>\n",
       "<table border=\"1\" class=\"dataframe\">\n",
       "  <thead>\n",
       "    <tr style=\"text-align: right;\">\n",
       "      <th></th>\n",
       "      <th>First</th>\n",
       "      <th>Age</th>\n",
       "    </tr>\n",
       "  </thead>\n",
       "  <tbody>\n",
       "    <tr>\n",
       "      <th>Employee_1</th>\n",
       "      <td>Maya</td>\n",
       "      <td>50</td>\n",
       "    </tr>\n",
       "    <tr>\n",
       "      <th>Employee_3</th>\n",
       "      <td>Jerod</td>\n",
       "      <td>31</td>\n",
       "    </tr>\n",
       "  </tbody>\n",
       "</table>\n",
       "</div>"
      ],
      "text/plain": [
       "            First  Age\n",
       "Employee_1   Maya   50\n",
       "Employee_3  Jerod   31"
      ]
     },
     "execution_count": 89,
     "metadata": {},
     "output_type": "execute_result"
    }
   ],
   "source": [
    "# We can also use the subset method introduced \n",
    "# for Boolean operations within loc method\n",
    "# get first name and age of all individuals over the age of 30 \n",
    "new_df.loc[new_df['Age'] > 30,['First','Age']] "
   ]
  },
  {
   "cell_type": "code",
   "execution_count": 90,
   "metadata": {},
   "outputs": [
    {
     "data": {
      "text/html": [
       "<div>\n",
       "<style scoped>\n",
       "    .dataframe tbody tr th:only-of-type {\n",
       "        vertical-align: middle;\n",
       "    }\n",
       "\n",
       "    .dataframe tbody tr th {\n",
       "        vertical-align: top;\n",
       "    }\n",
       "\n",
       "    .dataframe thead th {\n",
       "        text-align: right;\n",
       "    }\n",
       "</style>\n",
       "<table border=\"1\" class=\"dataframe\">\n",
       "  <thead>\n",
       "    <tr style=\"text-align: right;\">\n",
       "      <th></th>\n",
       "      <th>First</th>\n",
       "      <th>Last</th>\n",
       "      <th>Age</th>\n",
       "      <th>Salary_000s</th>\n",
       "      <th>Salary</th>\n",
       "      <th>young_and_rich</th>\n",
       "      <th>age_squared</th>\n",
       "    </tr>\n",
       "  </thead>\n",
       "  <tbody>\n",
       "    <tr>\n",
       "      <th>Employee_1</th>\n",
       "      <td>Maya</td>\n",
       "      <td>Midzik</td>\n",
       "      <td>50</td>\n",
       "      <td>80</td>\n",
       "      <td>80000</td>\n",
       "      <td>False</td>\n",
       "      <td>2500</td>\n",
       "    </tr>\n",
       "    <tr>\n",
       "      <th>Employee_2</th>\n",
       "      <td>Jonathan</td>\n",
       "      <td>Carlos</td>\n",
       "      <td>25</td>\n",
       "      <td>70</td>\n",
       "      <td>70000</td>\n",
       "      <td>True</td>\n",
       "      <td>25</td>\n",
       "    </tr>\n",
       "    <tr>\n",
       "      <th>Employee_3</th>\n",
       "      <td>Jerod</td>\n",
       "      <td>Rubalcava</td>\n",
       "      <td>31</td>\n",
       "      <td>60</td>\n",
       "      <td>60000</td>\n",
       "      <td>False</td>\n",
       "      <td>961</td>\n",
       "    </tr>\n",
       "  </tbody>\n",
       "</table>\n",
       "</div>"
      ],
      "text/plain": [
       "               First       Last  Age  Salary_000s  Salary  young_and_rich  \\\n",
       "Employee_1      Maya     Midzik   50           80   80000           False   \n",
       "Employee_2  Jonathan     Carlos   25           70   70000            True   \n",
       "Employee_3     Jerod  Rubalcava   31           60   60000           False   \n",
       "\n",
       "            age_squared  \n",
       "Employee_1         2500  \n",
       "Employee_2           25  \n",
       "Employee_3          961  "
      ]
     },
     "execution_count": 90,
     "metadata": {},
     "output_type": "execute_result"
    }
   ],
   "source": [
    "# Still have full dataframe\n",
    "new_df"
   ]
  },
  {
   "cell_type": "markdown",
   "metadata": {},
   "source": [
    "### iloc"
   ]
  },
  {
   "cell_type": "code",
   "execution_count": 91,
   "metadata": {},
   "outputs": [
    {
     "data": {
      "text/plain": [
       "'Jonathan'"
      ]
     },
     "execution_count": 91,
     "metadata": {},
     "output_type": "execute_result"
    }
   ],
   "source": [
    "# iloc method allows us to select rows and columns \n",
    "# by their integer location\n",
    "new_df.iloc[1,0] #this will output row 1 and column 0"
   ]
  },
  {
   "cell_type": "code",
   "execution_count": 92,
   "metadata": {},
   "outputs": [
    {
     "data": {
      "text/html": [
       "<div>\n",
       "<style scoped>\n",
       "    .dataframe tbody tr th:only-of-type {\n",
       "        vertical-align: middle;\n",
       "    }\n",
       "\n",
       "    .dataframe tbody tr th {\n",
       "        vertical-align: top;\n",
       "    }\n",
       "\n",
       "    .dataframe thead th {\n",
       "        text-align: right;\n",
       "    }\n",
       "</style>\n",
       "<table border=\"1\" class=\"dataframe\">\n",
       "  <thead>\n",
       "    <tr style=\"text-align: right;\">\n",
       "      <th></th>\n",
       "      <th>First</th>\n",
       "      <th>Last</th>\n",
       "    </tr>\n",
       "  </thead>\n",
       "  <tbody>\n",
       "    <tr>\n",
       "      <th>Employee_1</th>\n",
       "      <td>Maya</td>\n",
       "      <td>Midzik</td>\n",
       "    </tr>\n",
       "    <tr>\n",
       "      <th>Employee_3</th>\n",
       "      <td>Jerod</td>\n",
       "      <td>Rubalcava</td>\n",
       "    </tr>\n",
       "    <tr>\n",
       "      <th>Employee_2</th>\n",
       "      <td>Jonathan</td>\n",
       "      <td>Carlos</td>\n",
       "    </tr>\n",
       "  </tbody>\n",
       "</table>\n",
       "</div>"
      ],
      "text/plain": [
       "               First       Last\n",
       "Employee_1      Maya     Midzik\n",
       "Employee_3     Jerod  Rubalcava\n",
       "Employee_2  Jonathan     Carlos"
      ]
     },
     "execution_count": 92,
     "metadata": {},
     "output_type": "execute_result"
    }
   ],
   "source": [
    "# similar to loc, you can also pull a subset of rows and columns\n",
    "new_df.iloc[[0,2,1],0:2] "
   ]
  },
  {
   "cell_type": "code",
   "execution_count": 93,
   "metadata": {
    "scrolled": true
   },
   "outputs": [
    {
     "data": {
      "text/html": [
       "<div>\n",
       "<style scoped>\n",
       "    .dataframe tbody tr th:only-of-type {\n",
       "        vertical-align: middle;\n",
       "    }\n",
       "\n",
       "    .dataframe tbody tr th {\n",
       "        vertical-align: top;\n",
       "    }\n",
       "\n",
       "    .dataframe thead th {\n",
       "        text-align: right;\n",
       "    }\n",
       "</style>\n",
       "<table border=\"1\" class=\"dataframe\">\n",
       "  <thead>\n",
       "    <tr style=\"text-align: right;\">\n",
       "      <th></th>\n",
       "      <th>First</th>\n",
       "      <th>Last</th>\n",
       "      <th>Age</th>\n",
       "      <th>Salary_000s</th>\n",
       "      <th>Salary</th>\n",
       "      <th>young_and_rich</th>\n",
       "      <th>age_squared</th>\n",
       "    </tr>\n",
       "  </thead>\n",
       "  <tbody>\n",
       "    <tr>\n",
       "      <th>Employee_1</th>\n",
       "      <td>Maya</td>\n",
       "      <td>Midzik</td>\n",
       "      <td>50</td>\n",
       "      <td>80</td>\n",
       "      <td>80000</td>\n",
       "      <td>False</td>\n",
       "      <td>2500</td>\n",
       "    </tr>\n",
       "    <tr>\n",
       "      <th>Employee_2</th>\n",
       "      <td>Jonathan</td>\n",
       "      <td>Reif</td>\n",
       "      <td>25</td>\n",
       "      <td>70</td>\n",
       "      <td>70000</td>\n",
       "      <td>True</td>\n",
       "      <td>25</td>\n",
       "    </tr>\n",
       "    <tr>\n",
       "      <th>Employee_3</th>\n",
       "      <td>Jerod</td>\n",
       "      <td>Rubalcava</td>\n",
       "      <td>31</td>\n",
       "      <td>60</td>\n",
       "      <td>60000</td>\n",
       "      <td>False</td>\n",
       "      <td>961</td>\n",
       "    </tr>\n",
       "  </tbody>\n",
       "</table>\n",
       "</div>"
      ],
      "text/plain": [
       "               First       Last  Age  Salary_000s  Salary  young_and_rich  \\\n",
       "Employee_1      Maya     Midzik   50           80   80000           False   \n",
       "Employee_2  Jonathan       Reif   25           70   70000            True   \n",
       "Employee_3     Jerod  Rubalcava   31           60   60000           False   \n",
       "\n",
       "            age_squared  \n",
       "Employee_1         2500  \n",
       "Employee_2           25  \n",
       "Employee_3          961  "
      ]
     },
     "execution_count": 93,
     "metadata": {},
     "output_type": "execute_result"
    }
   ],
   "source": [
    "# change values for specific locations\n",
    "new_df.iloc[1,1] = 'Reif' \n",
    "new_df"
   ]
  },
  {
   "cell_type": "markdown",
   "metadata": {},
   "source": [
    "### Exercise\n",
    "* Maya Midzick just had her birthday! Add one year to her age using loc or iloc\n",
    "* Select all odd rows and even columns from the new_df dataframe\n",
    "    * Hint: Think for how to use step through when indexing a list"
   ]
  },
  {
   "cell_type": "code",
   "execution_count": 94,
   "metadata": {},
   "outputs": [],
   "source": [
    "# If statement to prevent one is added every time cell is run\n",
    "if new_df.loc['Employee_1','Age'] < 51:\n",
    "    new_df.loc['Employee_1','Age']+=1"
   ]
  },
  {
   "cell_type": "code",
   "execution_count": 95,
   "metadata": {},
   "outputs": [],
   "source": [
    "new_df.loc['Employee_1','Age']+=1"
   ]
  },
  {
   "cell_type": "code",
   "execution_count": 96,
   "metadata": {},
   "outputs": [
    {
     "data": {
      "text/html": [
       "<div>\n",
       "<style scoped>\n",
       "    .dataframe tbody tr th:only-of-type {\n",
       "        vertical-align: middle;\n",
       "    }\n",
       "\n",
       "    .dataframe tbody tr th {\n",
       "        vertical-align: top;\n",
       "    }\n",
       "\n",
       "    .dataframe thead th {\n",
       "        text-align: right;\n",
       "    }\n",
       "</style>\n",
       "<table border=\"1\" class=\"dataframe\">\n",
       "  <thead>\n",
       "    <tr style=\"text-align: right;\">\n",
       "      <th></th>\n",
       "      <th>First</th>\n",
       "      <th>Age</th>\n",
       "      <th>Salary</th>\n",
       "      <th>age_squared</th>\n",
       "    </tr>\n",
       "  </thead>\n",
       "  <tbody>\n",
       "    <tr>\n",
       "      <th>Employee_2</th>\n",
       "      <td>Jonathan</td>\n",
       "      <td>25</td>\n",
       "      <td>70000</td>\n",
       "      <td>25</td>\n",
       "    </tr>\n",
       "  </tbody>\n",
       "</table>\n",
       "</div>"
      ],
      "text/plain": [
       "               First  Age  Salary  age_squared\n",
       "Employee_2  Jonathan   25   70000           25"
      ]
     },
     "execution_count": 96,
     "metadata": {},
     "output_type": "execute_result"
    }
   ],
   "source": [
    "new_df.iloc[1::2,::2]"
   ]
  },
  {
   "cell_type": "markdown",
   "metadata": {},
   "source": [
    "### File I/O"
   ]
  },
  {
   "cell_type": "markdown",
   "metadata": {},
   "source": [
    "Often you'll begin your Data Science workflow by reading in a CSV or Excel file. "
   ]
  },
  {
   "cell_type": "code",
   "execution_count": 97,
   "metadata": {},
   "outputs": [],
   "source": [
    "filepath = \"resources/melbourne_temperature.csv\"\n",
    "temp_data = pd.read_csv(filepath)"
   ]
  },
  {
   "cell_type": "code",
   "execution_count": 98,
   "metadata": {},
   "outputs": [
    {
     "data": {
      "text/html": [
       "<div>\n",
       "<style scoped>\n",
       "    .dataframe tbody tr th:only-of-type {\n",
       "        vertical-align: middle;\n",
       "    }\n",
       "\n",
       "    .dataframe tbody tr th {\n",
       "        vertical-align: top;\n",
       "    }\n",
       "\n",
       "    .dataframe thead th {\n",
       "        text-align: right;\n",
       "    }\n",
       "</style>\n",
       "<table border=\"1\" class=\"dataframe\">\n",
       "  <thead>\n",
       "    <tr style=\"text-align: right;\">\n",
       "      <th></th>\n",
       "      <th>Date</th>\n",
       "      <th>Daily minimum temperatures in Melbourne, Australia, 1981-1990</th>\n",
       "    </tr>\n",
       "  </thead>\n",
       "  <tbody>\n",
       "    <tr>\n",
       "      <th>0</th>\n",
       "      <td>1981-01-01</td>\n",
       "      <td>20.7</td>\n",
       "    </tr>\n",
       "    <tr>\n",
       "      <th>1</th>\n",
       "      <td>1981-01-02</td>\n",
       "      <td>17.9</td>\n",
       "    </tr>\n",
       "    <tr>\n",
       "      <th>2</th>\n",
       "      <td>1981-01-03</td>\n",
       "      <td>18.8</td>\n",
       "    </tr>\n",
       "    <tr>\n",
       "      <th>3</th>\n",
       "      <td>1981-01-04</td>\n",
       "      <td>14.6</td>\n",
       "    </tr>\n",
       "    <tr>\n",
       "      <th>4</th>\n",
       "      <td>1981-01-05</td>\n",
       "      <td>15.8</td>\n",
       "    </tr>\n",
       "  </tbody>\n",
       "</table>\n",
       "</div>"
      ],
      "text/plain": [
       "         Date Daily minimum temperatures in Melbourne, Australia, 1981-1990\n",
       "0  1981-01-01                                               20.7           \n",
       "1  1981-01-02                                               17.9           \n",
       "2  1981-01-03                                               18.8           \n",
       "3  1981-01-04                                               14.6           \n",
       "4  1981-01-05                                               15.8           "
      ]
     },
     "execution_count": 98,
     "metadata": {},
     "output_type": "execute_result"
    }
   ],
   "source": [
    "temp_data.head()"
   ]
  },
  {
   "cell_type": "markdown",
   "metadata": {},
   "source": [
    "Long column name, let's clean it:"
   ]
  },
  {
   "cell_type": "markdown",
   "metadata": {},
   "source": [
    "#### Renaming columns"
   ]
  },
  {
   "cell_type": "code",
   "execution_count": 99,
   "metadata": {},
   "outputs": [
    {
     "data": {
      "text/html": [
       "<div>\n",
       "<style scoped>\n",
       "    .dataframe tbody tr th:only-of-type {\n",
       "        vertical-align: middle;\n",
       "    }\n",
       "\n",
       "    .dataframe tbody tr th {\n",
       "        vertical-align: top;\n",
       "    }\n",
       "\n",
       "    .dataframe thead th {\n",
       "        text-align: right;\n",
       "    }\n",
       "</style>\n",
       "<table border=\"1\" class=\"dataframe\">\n",
       "  <thead>\n",
       "    <tr style=\"text-align: right;\">\n",
       "      <th></th>\n",
       "      <th>Date</th>\n",
       "      <th>Min_Melbourne_Temp</th>\n",
       "    </tr>\n",
       "  </thead>\n",
       "  <tbody>\n",
       "    <tr>\n",
       "      <th>0</th>\n",
       "      <td>1981-01-01</td>\n",
       "      <td>20.7</td>\n",
       "    </tr>\n",
       "    <tr>\n",
       "      <th>1</th>\n",
       "      <td>1981-01-02</td>\n",
       "      <td>17.9</td>\n",
       "    </tr>\n",
       "    <tr>\n",
       "      <th>2</th>\n",
       "      <td>1981-01-03</td>\n",
       "      <td>18.8</td>\n",
       "    </tr>\n",
       "    <tr>\n",
       "      <th>3</th>\n",
       "      <td>1981-01-04</td>\n",
       "      <td>14.6</td>\n",
       "    </tr>\n",
       "    <tr>\n",
       "      <th>4</th>\n",
       "      <td>1981-01-05</td>\n",
       "      <td>15.8</td>\n",
       "    </tr>\n",
       "  </tbody>\n",
       "</table>\n",
       "</div>"
      ],
      "text/plain": [
       "         Date Min_Melbourne_Temp\n",
       "0  1981-01-01               20.7\n",
       "1  1981-01-02               17.9\n",
       "2  1981-01-03               18.8\n",
       "3  1981-01-04               14.6\n",
       "4  1981-01-05               15.8"
      ]
     },
     "execution_count": 99,
     "metadata": {},
     "output_type": "execute_result"
    }
   ],
   "source": [
    "temp_data.columns = ['Date', 'Min_Melbourne_Temp']\n",
    "temp_data.head()"
   ]
  },
  {
   "cell_type": "markdown",
   "metadata": {},
   "source": [
    "If we don't want to rename _all_ the columns in the DataFrame, we can write:"
   ]
  },
  {
   "cell_type": "code",
   "execution_count": 100,
   "metadata": {},
   "outputs": [
    {
     "data": {
      "text/html": [
       "<div>\n",
       "<style scoped>\n",
       "    .dataframe tbody tr th:only-of-type {\n",
       "        vertical-align: middle;\n",
       "    }\n",
       "\n",
       "    .dataframe tbody tr th {\n",
       "        vertical-align: top;\n",
       "    }\n",
       "\n",
       "    .dataframe thead th {\n",
       "        text-align: right;\n",
       "    }\n",
       "</style>\n",
       "<table border=\"1\" class=\"dataframe\">\n",
       "  <thead>\n",
       "    <tr style=\"text-align: right;\">\n",
       "      <th></th>\n",
       "      <th>Date</th>\n",
       "      <th>Min_Melbourne_Temp</th>\n",
       "    </tr>\n",
       "  </thead>\n",
       "  <tbody>\n",
       "    <tr>\n",
       "      <th>0</th>\n",
       "      <td>1981-01-01</td>\n",
       "      <td>20.7</td>\n",
       "    </tr>\n",
       "    <tr>\n",
       "      <th>1</th>\n",
       "      <td>1981-01-02</td>\n",
       "      <td>17.9</td>\n",
       "    </tr>\n",
       "    <tr>\n",
       "      <th>2</th>\n",
       "      <td>1981-01-03</td>\n",
       "      <td>18.8</td>\n",
       "    </tr>\n",
       "    <tr>\n",
       "      <th>3</th>\n",
       "      <td>1981-01-04</td>\n",
       "      <td>14.6</td>\n",
       "    </tr>\n",
       "    <tr>\n",
       "      <th>4</th>\n",
       "      <td>1981-01-05</td>\n",
       "      <td>15.8</td>\n",
       "    </tr>\n",
       "  </tbody>\n",
       "</table>\n",
       "</div>"
      ],
      "text/plain": [
       "         Date Min_Melbourne_Temp\n",
       "0  1981-01-01               20.7\n",
       "1  1981-01-02               17.9\n",
       "2  1981-01-03               18.8\n",
       "3  1981-01-04               14.6\n",
       "4  1981-01-05               15.8"
      ]
     },
     "execution_count": 100,
     "metadata": {},
     "output_type": "execute_result"
    }
   ],
   "source": [
    "# Read in data\n",
    "temp_data = pd.read_csv(filepath)\n",
    "\n",
    "# Rename columns\n",
    "temp_data = temp_data.rename(\n",
    "    columns={\"Daily minimum temperatures in Melbourne, Australia, 1981-1990\": \"Min_Melbourne_Temp\"})\n",
    "\n",
    "# Resulting data\n",
    "temp_data.head()"
   ]
  },
  {
   "cell_type": "markdown",
   "metadata": {},
   "source": [
    "A good thing to do to check that your data is \"clean\" is to print out the data types of the columns and see if they agree with what you expect:"
   ]
  },
  {
   "cell_type": "code",
   "execution_count": 101,
   "metadata": {},
   "outputs": [
    {
     "data": {
      "text/plain": [
       "Date                  object\n",
       "Min_Melbourne_Temp    object\n",
       "dtype: object"
      ]
     },
     "execution_count": 101,
     "metadata": {},
     "output_type": "execute_result"
    }
   ],
   "source": [
    "temp_data.dtypes"
   ]
  },
  {
   "cell_type": "markdown",
   "metadata": {},
   "source": [
    "We notice that the temperature column, which \"should\" be a number, is being interpreted as the generic type \"object\". Something is going wrong:"
   ]
  },
  {
   "cell_type": "code",
   "execution_count": 102,
   "metadata": {},
   "outputs": [
    {
     "ename": "ValueError",
     "evalue": "could not convert string to float: '?0.2'",
     "output_type": "error",
     "traceback": [
      "\u001b[0;31m---------------------------------------------------------------------------\u001b[0m",
      "\u001b[0;31mValueError\u001b[0m                                Traceback (most recent call last)",
      "\u001b[0;32m<ipython-input-102-217f2b1f7c1d>\u001b[0m in \u001b[0;36m<module>\u001b[0;34m\u001b[0m\n\u001b[0;32m----> 1\u001b[0;31m \u001b[0mtemp_data\u001b[0m\u001b[0;34m[\u001b[0m\u001b[0;34m'Min_Melbourne_Temp'\u001b[0m\u001b[0;34m]\u001b[0m\u001b[0;34m.\u001b[0m\u001b[0mastype\u001b[0m\u001b[0;34m(\u001b[0m\u001b[0mfloat\u001b[0m\u001b[0;34m)\u001b[0m\u001b[0;34m\u001b[0m\u001b[0;34m\u001b[0m\u001b[0m\n\u001b[0m",
      "\u001b[0;32m//anaconda3/lib/python3.7/site-packages/pandas/core/generic.py\u001b[0m in \u001b[0;36mastype\u001b[0;34m(self, dtype, copy, errors, **kwargs)\u001b[0m\n\u001b[1;32m   5880\u001b[0m             \u001b[0;31m# else, only a single dtype is given\u001b[0m\u001b[0;34m\u001b[0m\u001b[0;34m\u001b[0m\u001b[0;34m\u001b[0m\u001b[0m\n\u001b[1;32m   5881\u001b[0m             new_data = self._data.astype(\n\u001b[0;32m-> 5882\u001b[0;31m                 \u001b[0mdtype\u001b[0m\u001b[0;34m=\u001b[0m\u001b[0mdtype\u001b[0m\u001b[0;34m,\u001b[0m \u001b[0mcopy\u001b[0m\u001b[0;34m=\u001b[0m\u001b[0mcopy\u001b[0m\u001b[0;34m,\u001b[0m \u001b[0merrors\u001b[0m\u001b[0;34m=\u001b[0m\u001b[0merrors\u001b[0m\u001b[0;34m,\u001b[0m \u001b[0;34m**\u001b[0m\u001b[0mkwargs\u001b[0m\u001b[0;34m\u001b[0m\u001b[0;34m\u001b[0m\u001b[0m\n\u001b[0m\u001b[1;32m   5883\u001b[0m             )\n\u001b[1;32m   5884\u001b[0m             \u001b[0;32mreturn\u001b[0m \u001b[0mself\u001b[0m\u001b[0;34m.\u001b[0m\u001b[0m_constructor\u001b[0m\u001b[0;34m(\u001b[0m\u001b[0mnew_data\u001b[0m\u001b[0;34m)\u001b[0m\u001b[0;34m.\u001b[0m\u001b[0m__finalize__\u001b[0m\u001b[0;34m(\u001b[0m\u001b[0mself\u001b[0m\u001b[0;34m)\u001b[0m\u001b[0;34m\u001b[0m\u001b[0;34m\u001b[0m\u001b[0m\n",
      "\u001b[0;32m//anaconda3/lib/python3.7/site-packages/pandas/core/internals/managers.py\u001b[0m in \u001b[0;36mastype\u001b[0;34m(self, dtype, **kwargs)\u001b[0m\n\u001b[1;32m    579\u001b[0m \u001b[0;34m\u001b[0m\u001b[0m\n\u001b[1;32m    580\u001b[0m     \u001b[0;32mdef\u001b[0m \u001b[0mastype\u001b[0m\u001b[0;34m(\u001b[0m\u001b[0mself\u001b[0m\u001b[0;34m,\u001b[0m \u001b[0mdtype\u001b[0m\u001b[0;34m,\u001b[0m \u001b[0;34m**\u001b[0m\u001b[0mkwargs\u001b[0m\u001b[0;34m)\u001b[0m\u001b[0;34m:\u001b[0m\u001b[0;34m\u001b[0m\u001b[0;34m\u001b[0m\u001b[0m\n\u001b[0;32m--> 581\u001b[0;31m         \u001b[0;32mreturn\u001b[0m \u001b[0mself\u001b[0m\u001b[0;34m.\u001b[0m\u001b[0mapply\u001b[0m\u001b[0;34m(\u001b[0m\u001b[0;34m\"astype\"\u001b[0m\u001b[0;34m,\u001b[0m \u001b[0mdtype\u001b[0m\u001b[0;34m=\u001b[0m\u001b[0mdtype\u001b[0m\u001b[0;34m,\u001b[0m \u001b[0;34m**\u001b[0m\u001b[0mkwargs\u001b[0m\u001b[0;34m)\u001b[0m\u001b[0;34m\u001b[0m\u001b[0;34m\u001b[0m\u001b[0m\n\u001b[0m\u001b[1;32m    582\u001b[0m \u001b[0;34m\u001b[0m\u001b[0m\n\u001b[1;32m    583\u001b[0m     \u001b[0;32mdef\u001b[0m \u001b[0mconvert\u001b[0m\u001b[0;34m(\u001b[0m\u001b[0mself\u001b[0m\u001b[0;34m,\u001b[0m \u001b[0;34m**\u001b[0m\u001b[0mkwargs\u001b[0m\u001b[0;34m)\u001b[0m\u001b[0;34m:\u001b[0m\u001b[0;34m\u001b[0m\u001b[0;34m\u001b[0m\u001b[0m\n",
      "\u001b[0;32m//anaconda3/lib/python3.7/site-packages/pandas/core/internals/managers.py\u001b[0m in \u001b[0;36mapply\u001b[0;34m(self, f, axes, filter, do_integrity_check, consolidate, **kwargs)\u001b[0m\n\u001b[1;32m    436\u001b[0m                     \u001b[0mkwargs\u001b[0m\u001b[0;34m[\u001b[0m\u001b[0mk\u001b[0m\u001b[0;34m]\u001b[0m \u001b[0;34m=\u001b[0m \u001b[0mobj\u001b[0m\u001b[0;34m.\u001b[0m\u001b[0mreindex\u001b[0m\u001b[0;34m(\u001b[0m\u001b[0mb_items\u001b[0m\u001b[0;34m,\u001b[0m \u001b[0maxis\u001b[0m\u001b[0;34m=\u001b[0m\u001b[0maxis\u001b[0m\u001b[0;34m,\u001b[0m \u001b[0mcopy\u001b[0m\u001b[0;34m=\u001b[0m\u001b[0malign_copy\u001b[0m\u001b[0;34m)\u001b[0m\u001b[0;34m\u001b[0m\u001b[0;34m\u001b[0m\u001b[0m\n\u001b[1;32m    437\u001b[0m \u001b[0;34m\u001b[0m\u001b[0m\n\u001b[0;32m--> 438\u001b[0;31m             \u001b[0mapplied\u001b[0m \u001b[0;34m=\u001b[0m \u001b[0mgetattr\u001b[0m\u001b[0;34m(\u001b[0m\u001b[0mb\u001b[0m\u001b[0;34m,\u001b[0m \u001b[0mf\u001b[0m\u001b[0;34m)\u001b[0m\u001b[0;34m(\u001b[0m\u001b[0;34m**\u001b[0m\u001b[0mkwargs\u001b[0m\u001b[0;34m)\u001b[0m\u001b[0;34m\u001b[0m\u001b[0;34m\u001b[0m\u001b[0m\n\u001b[0m\u001b[1;32m    439\u001b[0m             \u001b[0mresult_blocks\u001b[0m \u001b[0;34m=\u001b[0m \u001b[0m_extend_blocks\u001b[0m\u001b[0;34m(\u001b[0m\u001b[0mapplied\u001b[0m\u001b[0;34m,\u001b[0m \u001b[0mresult_blocks\u001b[0m\u001b[0;34m)\u001b[0m\u001b[0;34m\u001b[0m\u001b[0;34m\u001b[0m\u001b[0m\n\u001b[1;32m    440\u001b[0m \u001b[0;34m\u001b[0m\u001b[0m\n",
      "\u001b[0;32m//anaconda3/lib/python3.7/site-packages/pandas/core/internals/blocks.py\u001b[0m in \u001b[0;36mastype\u001b[0;34m(self, dtype, copy, errors, values, **kwargs)\u001b[0m\n\u001b[1;32m    557\u001b[0m \u001b[0;34m\u001b[0m\u001b[0m\n\u001b[1;32m    558\u001b[0m     \u001b[0;32mdef\u001b[0m \u001b[0mastype\u001b[0m\u001b[0;34m(\u001b[0m\u001b[0mself\u001b[0m\u001b[0;34m,\u001b[0m \u001b[0mdtype\u001b[0m\u001b[0;34m,\u001b[0m \u001b[0mcopy\u001b[0m\u001b[0;34m=\u001b[0m\u001b[0;32mFalse\u001b[0m\u001b[0;34m,\u001b[0m \u001b[0merrors\u001b[0m\u001b[0;34m=\u001b[0m\u001b[0;34m\"raise\"\u001b[0m\u001b[0;34m,\u001b[0m \u001b[0mvalues\u001b[0m\u001b[0;34m=\u001b[0m\u001b[0;32mNone\u001b[0m\u001b[0;34m,\u001b[0m \u001b[0;34m**\u001b[0m\u001b[0mkwargs\u001b[0m\u001b[0;34m)\u001b[0m\u001b[0;34m:\u001b[0m\u001b[0;34m\u001b[0m\u001b[0;34m\u001b[0m\u001b[0m\n\u001b[0;32m--> 559\u001b[0;31m         \u001b[0;32mreturn\u001b[0m \u001b[0mself\u001b[0m\u001b[0;34m.\u001b[0m\u001b[0m_astype\u001b[0m\u001b[0;34m(\u001b[0m\u001b[0mdtype\u001b[0m\u001b[0;34m,\u001b[0m \u001b[0mcopy\u001b[0m\u001b[0;34m=\u001b[0m\u001b[0mcopy\u001b[0m\u001b[0;34m,\u001b[0m \u001b[0merrors\u001b[0m\u001b[0;34m=\u001b[0m\u001b[0merrors\u001b[0m\u001b[0;34m,\u001b[0m \u001b[0mvalues\u001b[0m\u001b[0;34m=\u001b[0m\u001b[0mvalues\u001b[0m\u001b[0;34m,\u001b[0m \u001b[0;34m**\u001b[0m\u001b[0mkwargs\u001b[0m\u001b[0;34m)\u001b[0m\u001b[0;34m\u001b[0m\u001b[0;34m\u001b[0m\u001b[0m\n\u001b[0m\u001b[1;32m    560\u001b[0m \u001b[0;34m\u001b[0m\u001b[0m\n\u001b[1;32m    561\u001b[0m     \u001b[0;32mdef\u001b[0m \u001b[0m_astype\u001b[0m\u001b[0;34m(\u001b[0m\u001b[0mself\u001b[0m\u001b[0;34m,\u001b[0m \u001b[0mdtype\u001b[0m\u001b[0;34m,\u001b[0m \u001b[0mcopy\u001b[0m\u001b[0;34m=\u001b[0m\u001b[0;32mFalse\u001b[0m\u001b[0;34m,\u001b[0m \u001b[0merrors\u001b[0m\u001b[0;34m=\u001b[0m\u001b[0;34m\"raise\"\u001b[0m\u001b[0;34m,\u001b[0m \u001b[0mvalues\u001b[0m\u001b[0;34m=\u001b[0m\u001b[0;32mNone\u001b[0m\u001b[0;34m,\u001b[0m \u001b[0;34m**\u001b[0m\u001b[0mkwargs\u001b[0m\u001b[0;34m)\u001b[0m\u001b[0;34m:\u001b[0m\u001b[0;34m\u001b[0m\u001b[0;34m\u001b[0m\u001b[0m\n",
      "\u001b[0;32m//anaconda3/lib/python3.7/site-packages/pandas/core/internals/blocks.py\u001b[0m in \u001b[0;36m_astype\u001b[0;34m(self, dtype, copy, errors, values, **kwargs)\u001b[0m\n\u001b[1;32m    641\u001b[0m                     \u001b[0;31m# _astype_nansafe works fine with 1-d only\u001b[0m\u001b[0;34m\u001b[0m\u001b[0;34m\u001b[0m\u001b[0;34m\u001b[0m\u001b[0m\n\u001b[1;32m    642\u001b[0m                     \u001b[0mvals1d\u001b[0m \u001b[0;34m=\u001b[0m \u001b[0mvalues\u001b[0m\u001b[0;34m.\u001b[0m\u001b[0mravel\u001b[0m\u001b[0;34m(\u001b[0m\u001b[0;34m)\u001b[0m\u001b[0;34m\u001b[0m\u001b[0;34m\u001b[0m\u001b[0m\n\u001b[0;32m--> 643\u001b[0;31m                     \u001b[0mvalues\u001b[0m \u001b[0;34m=\u001b[0m \u001b[0mastype_nansafe\u001b[0m\u001b[0;34m(\u001b[0m\u001b[0mvals1d\u001b[0m\u001b[0;34m,\u001b[0m \u001b[0mdtype\u001b[0m\u001b[0;34m,\u001b[0m \u001b[0mcopy\u001b[0m\u001b[0;34m=\u001b[0m\u001b[0;32mTrue\u001b[0m\u001b[0;34m,\u001b[0m \u001b[0;34m**\u001b[0m\u001b[0mkwargs\u001b[0m\u001b[0;34m)\u001b[0m\u001b[0;34m\u001b[0m\u001b[0;34m\u001b[0m\u001b[0m\n\u001b[0m\u001b[1;32m    644\u001b[0m \u001b[0;34m\u001b[0m\u001b[0m\n\u001b[1;32m    645\u001b[0m                 \u001b[0;31m# TODO(extension)\u001b[0m\u001b[0;34m\u001b[0m\u001b[0;34m\u001b[0m\u001b[0;34m\u001b[0m\u001b[0m\n",
      "\u001b[0;32m//anaconda3/lib/python3.7/site-packages/pandas/core/dtypes/cast.py\u001b[0m in \u001b[0;36mastype_nansafe\u001b[0;34m(arr, dtype, copy, skipna)\u001b[0m\n\u001b[1;32m    727\u001b[0m     \u001b[0;32mif\u001b[0m \u001b[0mcopy\u001b[0m \u001b[0;32mor\u001b[0m \u001b[0mis_object_dtype\u001b[0m\u001b[0;34m(\u001b[0m\u001b[0marr\u001b[0m\u001b[0;34m)\u001b[0m \u001b[0;32mor\u001b[0m \u001b[0mis_object_dtype\u001b[0m\u001b[0;34m(\u001b[0m\u001b[0mdtype\u001b[0m\u001b[0;34m)\u001b[0m\u001b[0;34m:\u001b[0m\u001b[0;34m\u001b[0m\u001b[0;34m\u001b[0m\u001b[0m\n\u001b[1;32m    728\u001b[0m         \u001b[0;31m# Explicit copy, or required since NumPy can't view from / to object.\u001b[0m\u001b[0;34m\u001b[0m\u001b[0;34m\u001b[0m\u001b[0;34m\u001b[0m\u001b[0m\n\u001b[0;32m--> 729\u001b[0;31m         \u001b[0;32mreturn\u001b[0m \u001b[0marr\u001b[0m\u001b[0;34m.\u001b[0m\u001b[0mastype\u001b[0m\u001b[0;34m(\u001b[0m\u001b[0mdtype\u001b[0m\u001b[0;34m,\u001b[0m \u001b[0mcopy\u001b[0m\u001b[0;34m=\u001b[0m\u001b[0;32mTrue\u001b[0m\u001b[0;34m)\u001b[0m\u001b[0;34m\u001b[0m\u001b[0;34m\u001b[0m\u001b[0m\n\u001b[0m\u001b[1;32m    730\u001b[0m \u001b[0;34m\u001b[0m\u001b[0m\n\u001b[1;32m    731\u001b[0m     \u001b[0;32mreturn\u001b[0m \u001b[0marr\u001b[0m\u001b[0;34m.\u001b[0m\u001b[0mview\u001b[0m\u001b[0;34m(\u001b[0m\u001b[0mdtype\u001b[0m\u001b[0;34m)\u001b[0m\u001b[0;34m\u001b[0m\u001b[0;34m\u001b[0m\u001b[0m\n",
      "\u001b[0;31mValueError\u001b[0m: could not convert string to float: '?0.2'"
     ]
    }
   ],
   "source": [
    "temp_data['Min_Melbourne_Temp'].astype(float)"
   ]
  },
  {
   "cell_type": "markdown",
   "metadata": {},
   "source": [
    "Error! Looks like there are some values with \"?\"s in them. \n",
    "\n",
    "In general, there are a many ways to clean dirty data. For now, we'll ask you to define a function that identifies rows with question marks. "
   ]
  },
  {
   "cell_type": "markdown",
   "metadata": {},
   "source": [
    "### Cleanup\n",
    "\n",
    "Create a new column in this DataFrame that identifies if a row has a question mark in it. There are a bunch of ways to do it - consider the methods for creating new columns that we've seen so far, and feel free to Google."
   ]
  },
  {
   "cell_type": "code",
   "execution_count": 103,
   "metadata": {},
   "outputs": [],
   "source": [
    "temp_data['has_question_mark'] = temp_data['Min_Melbourne_Temp'].map(lambda x: '?' in str(x))"
   ]
  },
  {
   "cell_type": "markdown",
   "metadata": {},
   "source": [
    "\n",
    "Now use Pandas' **[Boolean Indexing](https://pandas.pydata.org/pandas-docs/stable/indexing.html#boolean-indexing)** (covered above, but linked for your reference) to select just the rows the do _not_ have a question mark."
   ]
  },
  {
   "cell_type": "code",
   "execution_count": 104,
   "metadata": {},
   "outputs": [
    {
     "name": "stdout",
     "output_type": "stream",
     "text": [
      "3647\n"
     ]
    }
   ],
   "source": [
    "temp_data = temp_data[~temp_data['has_question_mark']]\n",
    "print(len(temp_data))"
   ]
  },
  {
   "cell_type": "code",
   "execution_count": 105,
   "metadata": {
    "scrolled": true
   },
   "outputs": [],
   "source": [
    "# Now you should be able to convert this column to float\n",
    "temp_data['Min_Melbourne_Temp_new'] = temp_data['Min_Melbourne_Temp'].astype(float)"
   ]
  },
  {
   "cell_type": "code",
   "execution_count": 106,
   "metadata": {},
   "outputs": [
    {
     "data": {
      "text/plain": [
       "Date                       object\n",
       "Min_Melbourne_Temp         object\n",
       "has_question_mark            bool\n",
       "Min_Melbourne_Temp_new    float64\n",
       "dtype: object"
      ]
     },
     "execution_count": 106,
     "metadata": {},
     "output_type": "execute_result"
    }
   ],
   "source": [
    "temp_data.dtypes"
   ]
  },
  {
   "cell_type": "markdown",
   "metadata": {},
   "source": [
    "Now we can do all the things that we do with numeric columns to this column, such as plotting the results:"
   ]
  },
  {
   "cell_type": "code",
   "execution_count": 107,
   "metadata": {},
   "outputs": [],
   "source": [
    "temp_data['Min_Melbourne_Temp_new'].plot();"
   ]
  },
  {
   "cell_type": "markdown",
   "metadata": {},
   "source": [
    "Oftentimes you'll get a CSV or Excel file with a date column. By default, Pandas will treat this like a string. `read_csv` has a `parse_dates` argument that avoids this:"
   ]
  },
  {
   "cell_type": "code",
   "execution_count": 108,
   "metadata": {},
   "outputs": [
    {
     "data": {
      "text/plain": [
       "Date                                                             datetime64[ns]\n",
       "Daily minimum temperatures in Melbourne, Australia, 1981-1990            object\n",
       "dtype: object"
      ]
     },
     "execution_count": 108,
     "metadata": {},
     "output_type": "execute_result"
    }
   ],
   "source": [
    "temp_data_clean = pd.read_csv(filepath, parse_dates=[0])\n",
    "temp_data_clean.dtypes"
   ]
  },
  {
   "cell_type": "code",
   "execution_count": 109,
   "metadata": {},
   "outputs": [
    {
     "data": {
      "text/html": [
       "<div>\n",
       "<style scoped>\n",
       "    .dataframe tbody tr th:only-of-type {\n",
       "        vertical-align: middle;\n",
       "    }\n",
       "\n",
       "    .dataframe tbody tr th {\n",
       "        vertical-align: top;\n",
       "    }\n",
       "\n",
       "    .dataframe thead th {\n",
       "        text-align: right;\n",
       "    }\n",
       "</style>\n",
       "<table border=\"1\" class=\"dataframe\">\n",
       "  <thead>\n",
       "    <tr style=\"text-align: right;\">\n",
       "      <th></th>\n",
       "      <th>Date</th>\n",
       "      <th>Daily minimum temperatures in Melbourne, Australia, 1981-1990</th>\n",
       "    </tr>\n",
       "  </thead>\n",
       "  <tbody>\n",
       "    <tr>\n",
       "      <th>0</th>\n",
       "      <td>1981-01-01</td>\n",
       "      <td>20.7</td>\n",
       "    </tr>\n",
       "    <tr>\n",
       "      <th>1</th>\n",
       "      <td>1981-01-02</td>\n",
       "      <td>17.9</td>\n",
       "    </tr>\n",
       "    <tr>\n",
       "      <th>2</th>\n",
       "      <td>1981-01-03</td>\n",
       "      <td>18.8</td>\n",
       "    </tr>\n",
       "    <tr>\n",
       "      <th>3</th>\n",
       "      <td>1981-01-04</td>\n",
       "      <td>14.6</td>\n",
       "    </tr>\n",
       "    <tr>\n",
       "      <th>4</th>\n",
       "      <td>1981-01-05</td>\n",
       "      <td>15.8</td>\n",
       "    </tr>\n",
       "  </tbody>\n",
       "</table>\n",
       "</div>"
      ],
      "text/plain": [
       "        Date Daily minimum temperatures in Melbourne, Australia, 1981-1990\n",
       "0 1981-01-01                                               20.7           \n",
       "1 1981-01-02                                               17.9           \n",
       "2 1981-01-03                                               18.8           \n",
       "3 1981-01-04                                               14.6           \n",
       "4 1981-01-05                                               15.8           "
      ]
     },
     "execution_count": 109,
     "metadata": {},
     "output_type": "execute_result"
    }
   ],
   "source": [
    "temp_data_clean.head()"
   ]
  },
  {
   "cell_type": "markdown",
   "metadata": {},
   "source": [
    "Great, but what have we gained by converting this column's type to \"datetime\"? Answer: now that this column is not merely a string, but is date-aware, we can do things like this:"
   ]
  },
  {
   "cell_type": "code",
   "execution_count": 112,
   "metadata": {},
   "outputs": [],
   "source": [
    "temp_data_clean['month'] = [x.month for x in temp_data_clean['Date']]\n",
    "temp_data_clean['day_of_week'] = [x.dayofweek for x in temp_data_clean['Date']]"
   ]
  },
  {
   "cell_type": "code",
   "execution_count": 113,
   "metadata": {},
   "outputs": [],
   "source": [
    "temp_data_clean['month'] = temp_data_clean['Date'].apply(lambda x: x.dayofweek)"
   ]
  },
  {
   "cell_type": "code",
   "execution_count": 114,
   "metadata": {},
   "outputs": [
    {
     "data": {
      "text/html": [
       "<div>\n",
       "<style scoped>\n",
       "    .dataframe tbody tr th:only-of-type {\n",
       "        vertical-align: middle;\n",
       "    }\n",
       "\n",
       "    .dataframe tbody tr th {\n",
       "        vertical-align: top;\n",
       "    }\n",
       "\n",
       "    .dataframe thead th {\n",
       "        text-align: right;\n",
       "    }\n",
       "</style>\n",
       "<table border=\"1\" class=\"dataframe\">\n",
       "  <thead>\n",
       "    <tr style=\"text-align: right;\">\n",
       "      <th></th>\n",
       "      <th>Date</th>\n",
       "      <th>Daily minimum temperatures in Melbourne, Australia, 1981-1990</th>\n",
       "      <th>month</th>\n",
       "      <th>day_of_week</th>\n",
       "    </tr>\n",
       "  </thead>\n",
       "  <tbody>\n",
       "    <tr>\n",
       "      <th>0</th>\n",
       "      <td>1981-01-01</td>\n",
       "      <td>20.7</td>\n",
       "      <td>3</td>\n",
       "      <td>3</td>\n",
       "    </tr>\n",
       "    <tr>\n",
       "      <th>1</th>\n",
       "      <td>1981-01-02</td>\n",
       "      <td>17.9</td>\n",
       "      <td>4</td>\n",
       "      <td>4</td>\n",
       "    </tr>\n",
       "    <tr>\n",
       "      <th>2</th>\n",
       "      <td>1981-01-03</td>\n",
       "      <td>18.8</td>\n",
       "      <td>5</td>\n",
       "      <td>5</td>\n",
       "    </tr>\n",
       "    <tr>\n",
       "      <th>3</th>\n",
       "      <td>1981-01-04</td>\n",
       "      <td>14.6</td>\n",
       "      <td>6</td>\n",
       "      <td>6</td>\n",
       "    </tr>\n",
       "    <tr>\n",
       "      <th>4</th>\n",
       "      <td>1981-01-05</td>\n",
       "      <td>15.8</td>\n",
       "      <td>0</td>\n",
       "      <td>0</td>\n",
       "    </tr>\n",
       "  </tbody>\n",
       "</table>\n",
       "</div>"
      ],
      "text/plain": [
       "        Date Daily minimum temperatures in Melbourne, Australia, 1981-1990  \\\n",
       "0 1981-01-01                                               20.7              \n",
       "1 1981-01-02                                               17.9              \n",
       "2 1981-01-03                                               18.8              \n",
       "3 1981-01-04                                               14.6              \n",
       "4 1981-01-05                                               15.8              \n",
       "\n",
       "   month  day_of_week  \n",
       "0      3            3  \n",
       "1      4            4  \n",
       "2      5            5  \n",
       "3      6            6  \n",
       "4      0            0  "
      ]
     },
     "execution_count": 114,
     "metadata": {},
     "output_type": "execute_result"
    }
   ],
   "source": [
    "temp_data_clean.head()"
   ]
  },
  {
   "cell_type": "code",
   "execution_count": 115,
   "metadata": {},
   "outputs": [],
   "source": [
    "temp_data_clean.to_csv(\"resources/new_temperature_df.csv\", index=False)"
   ]
  },
  {
   "cell_type": "markdown",
   "metadata": {},
   "source": [
    "Useful for time series forecasting."
   ]
  },
  {
   "cell_type": "markdown",
   "metadata": {},
   "source": [
    "### Exercise"
   ]
  },
  {
   "cell_type": "markdown",
   "metadata": {},
   "source": [
    "Now that you've gone through some common data cleaning scenarios when dealing with CSV files, let's \"wrap this in a function\".\n",
    "\n",
    "Write a function that takes in the `melbourne_temperature.csv` file, conducts the data cleaning we did here, including creating the `month` and `dayofweek` datetime columns above, and outputs the result to a CSV file called `clean_melbourne_temperature.csv`. Call your function something appropriate."
   ]
  },
  {
   "cell_type": "markdown",
   "metadata": {},
   "source": [
    "Start by creating a wrapper function and check that it works"
   ]
  },
  {
   "cell_type": "code",
   "execution_count": 116,
   "metadata": {},
   "outputs": [],
   "source": [
    "def clean_data_file(location):\n",
    "    print('Testing function')\n",
    "    return"
   ]
  },
  {
   "cell_type": "code",
   "execution_count": 117,
   "metadata": {},
   "outputs": [
    {
     "name": "stdout",
     "output_type": "stream",
     "text": [
      "Testing function\n"
     ]
    }
   ],
   "source": [
    "clean_data_file('resources/melbourne_temperature.csv')"
   ]
  },
  {
   "cell_type": "markdown",
   "metadata": {},
   "source": [
    "Now create the function fully. To illustrate what Python offers, we will go beyond a simple wrapper and add other features: (i) use both a path and a filename; (ii) create a docstring (documentation) for the function."
   ]
  },
  {
   "cell_type": "markdown",
   "metadata": {},
   "source": [
    "File paths are different on Windows and macOS. To handle file paths in a system-agnostic manner, use the Python library pathlib."
   ]
  },
  {
   "cell_type": "code",
   "execution_count": 118,
   "metadata": {},
   "outputs": [],
   "source": [
    "from pandas import read_csv"
   ]
  },
  {
   "cell_type": "code",
   "execution_count": 120,
   "metadata": {},
   "outputs": [],
   "source": [
    "from pathlib import Path"
   ]
  },
  {
   "cell_type": "code",
   "execution_count": 121,
   "metadata": {},
   "outputs": [
    {
     "data": {
      "text/plain": [
       "PosixPath('resources')"
      ]
     },
     "execution_count": 121,
     "metadata": {},
     "output_type": "execute_result"
    }
   ],
   "source": [
    "Path('resources')"
   ]
  },
  {
   "cell_type": "code",
   "execution_count": 122,
   "metadata": {},
   "outputs": [
    {
     "data": {
      "text/plain": [
       "PosixPath('resources/melbourne_temperature.csv')"
      ]
     },
     "execution_count": 122,
     "metadata": {},
     "output_type": "execute_result"
    }
   ],
   "source": [
    "Path('resources')/ 'melbourne_temperature.csv'"
   ]
  },
  {
   "cell_type": "markdown",
   "metadata": {},
   "source": [
    "For more on file paths in Python 3:\n",
    "\n",
    "https://medium.com/@ageitgey/python-3-quick-tip-the-easy-way-to-deal-with-file-paths-on-windows-mac-and-linux-11a072b58d5f"
   ]
  },
  {
   "cell_type": "code",
   "execution_count": 123,
   "metadata": {},
   "outputs": [],
   "source": [
    "# YOUR CODE HERE\n",
    "def temp_clean(filepath, filename):\n",
    "    \n",
    "    '''Loads data from melbourne_temperature.csv and \n",
    "    cleans it to prepare for analysis\n",
    "    \n",
    "    Retrieves data from CSV file (filename) \n",
    "    located in filepath.\n",
    "    \n",
    "    Args: \n",
    "        filepath: the pathname for the CSV file.\n",
    "        filename: the filename for the CSV file.\n",
    "        \n",
    "    Return:\n",
    "        Cleaned CSV file. Written to filepath.\n",
    "    '''\n",
    "    \n",
    "    # Convert filepath and filename into format \n",
    "    # that will work on both macOS and Windows\n",
    "    # Also, add prefix for new file name for simplicity\n",
    "    # (don't have to worry about affecting .csv extension)\n",
    "    \n",
    "    data_folder = Path(filepath)\n",
    "    file_to_open = data_folder / filename\n",
    "    output_file = 'clean_' + filename # for output file\n",
    "    file_to_write = data_folder / output_file\n",
    "    \n",
    "    # load data\n",
    "    temp_data = pd.read_csv(file_to_open, parse_dates=[0])\n",
    "    temp_data = temp_data.rename(\n",
    "    columns={\"Daily minimum temperatures in Melbourne, Australia, 1981-1990\":\n",
    "             \"Min_Melbourne_Temp\"})\n",
    "    \n",
    "    # remove rows with ? \n",
    "    temp_data['has_question_mark'] = temp_data['Min_Melbourne_Temp'].map(lambda x: '?' in str(x))\n",
    "    temp_data = temp_data[~temp_data['has_question_mark']]\n",
    "    temp_data['Min_Melbourne_Temp_new'] = temp_data['Min_Melbourne_Temp'].astype(float)\n",
    "    \n",
    "    \n",
    "    # remove unnecessary columns\n",
    "    temp_data = temp_data.drop(['Min_Melbourne_Temp', 'has_question_mark'], axis = 1)\n",
    "    \n",
    "    # parse date\n",
    "    temp_data['month'] = [x.month for x in temp_data['Date']]\n",
    "    temp_data['day_of_week'] = [x.dayofweek for x in temp_data['Date']]\n",
    "    \n",
    "    # write data to new file\n",
    "    temp_data.to_csv(file_to_write, index=False)\n",
    "    \n",
    "    print('Clean data was written to {}'.format(file_to_write))\n",
    "    \n",
    "    return temp_data"
   ]
  },
  {
   "cell_type": "code",
   "execution_count": 124,
   "metadata": {},
   "outputs": [
    {
     "name": "stdout",
     "output_type": "stream",
     "text": [
      "Clean data was written to resources/clean_melbourne_temperature.csv\n"
     ]
    }
   ],
   "source": [
    "df_cleansed = temp_clean('resources', 'melbourne_temperature.csv')"
   ]
  },
  {
   "cell_type": "code",
   "execution_count": 125,
   "metadata": {},
   "outputs": [
    {
     "data": {
      "text/html": [
       "<div>\n",
       "<style scoped>\n",
       "    .dataframe tbody tr th:only-of-type {\n",
       "        vertical-align: middle;\n",
       "    }\n",
       "\n",
       "    .dataframe tbody tr th {\n",
       "        vertical-align: top;\n",
       "    }\n",
       "\n",
       "    .dataframe thead th {\n",
       "        text-align: right;\n",
       "    }\n",
       "</style>\n",
       "<table border=\"1\" class=\"dataframe\">\n",
       "  <thead>\n",
       "    <tr style=\"text-align: right;\">\n",
       "      <th></th>\n",
       "      <th>Date</th>\n",
       "      <th>Min_Melbourne_Temp_new</th>\n",
       "      <th>month</th>\n",
       "      <th>day_of_week</th>\n",
       "    </tr>\n",
       "  </thead>\n",
       "  <tbody>\n",
       "    <tr>\n",
       "      <th>0</th>\n",
       "      <td>1981-01-01</td>\n",
       "      <td>20.7</td>\n",
       "      <td>1</td>\n",
       "      <td>3</td>\n",
       "    </tr>\n",
       "    <tr>\n",
       "      <th>1</th>\n",
       "      <td>1981-01-02</td>\n",
       "      <td>17.9</td>\n",
       "      <td>1</td>\n",
       "      <td>4</td>\n",
       "    </tr>\n",
       "    <tr>\n",
       "      <th>2</th>\n",
       "      <td>1981-01-03</td>\n",
       "      <td>18.8</td>\n",
       "      <td>1</td>\n",
       "      <td>5</td>\n",
       "    </tr>\n",
       "    <tr>\n",
       "      <th>3</th>\n",
       "      <td>1981-01-04</td>\n",
       "      <td>14.6</td>\n",
       "      <td>1</td>\n",
       "      <td>6</td>\n",
       "    </tr>\n",
       "    <tr>\n",
       "      <th>4</th>\n",
       "      <td>1981-01-05</td>\n",
       "      <td>15.8</td>\n",
       "      <td>1</td>\n",
       "      <td>0</td>\n",
       "    </tr>\n",
       "    <tr>\n",
       "      <th>...</th>\n",
       "      <td>...</td>\n",
       "      <td>...</td>\n",
       "      <td>...</td>\n",
       "      <td>...</td>\n",
       "    </tr>\n",
       "    <tr>\n",
       "      <th>3645</th>\n",
       "      <td>1990-12-27</td>\n",
       "      <td>14.0</td>\n",
       "      <td>12</td>\n",
       "      <td>3</td>\n",
       "    </tr>\n",
       "    <tr>\n",
       "      <th>3646</th>\n",
       "      <td>1990-12-28</td>\n",
       "      <td>13.6</td>\n",
       "      <td>12</td>\n",
       "      <td>4</td>\n",
       "    </tr>\n",
       "    <tr>\n",
       "      <th>3647</th>\n",
       "      <td>1990-12-29</td>\n",
       "      <td>13.5</td>\n",
       "      <td>12</td>\n",
       "      <td>5</td>\n",
       "    </tr>\n",
       "    <tr>\n",
       "      <th>3648</th>\n",
       "      <td>1990-12-30</td>\n",
       "      <td>15.7</td>\n",
       "      <td>12</td>\n",
       "      <td>6</td>\n",
       "    </tr>\n",
       "    <tr>\n",
       "      <th>3649</th>\n",
       "      <td>1990-12-31</td>\n",
       "      <td>13.0</td>\n",
       "      <td>12</td>\n",
       "      <td>0</td>\n",
       "    </tr>\n",
       "  </tbody>\n",
       "</table>\n",
       "<p>3647 rows × 4 columns</p>\n",
       "</div>"
      ],
      "text/plain": [
       "           Date  Min_Melbourne_Temp_new  month  day_of_week\n",
       "0    1981-01-01                    20.7      1            3\n",
       "1    1981-01-02                    17.9      1            4\n",
       "2    1981-01-03                    18.8      1            5\n",
       "3    1981-01-04                    14.6      1            6\n",
       "4    1981-01-05                    15.8      1            0\n",
       "...         ...                     ...    ...          ...\n",
       "3645 1990-12-27                    14.0     12            3\n",
       "3646 1990-12-28                    13.6     12            4\n",
       "3647 1990-12-29                    13.5     12            5\n",
       "3648 1990-12-30                    15.7     12            6\n",
       "3649 1990-12-31                    13.0     12            0\n",
       "\n",
       "[3647 rows x 4 columns]"
      ]
     },
     "execution_count": 125,
     "metadata": {},
     "output_type": "execute_result"
    }
   ],
   "source": [
    "df_cleansed"
   ]
  },
  {
   "cell_type": "markdown",
   "metadata": {},
   "source": [
    "### Reading from Excel"
   ]
  },
  {
   "cell_type": "markdown",
   "metadata": {},
   "source": [
    "We'll use another dataset for a quick illustration of reading from Excel.\n",
    "\n",
    "Here's an energy usage dataset from the U.S. Energy Information Administration as an example. We've downloaded the \"Energy consumption estimates by sector, 1949– 2012\" to the \"energy\" data folder.\n",
    "\n",
    "https://www.eia.gov/totalenergy/data/annual/#consumption."
   ]
  },
  {
   "cell_type": "code",
   "execution_count": 126,
   "metadata": {},
   "outputs": [
    {
     "data": {
      "text/html": [
       "<div>\n",
       "<style scoped>\n",
       "    .dataframe tbody tr th:only-of-type {\n",
       "        vertical-align: middle;\n",
       "    }\n",
       "\n",
       "    .dataframe tbody tr th {\n",
       "        vertical-align: top;\n",
       "    }\n",
       "\n",
       "    .dataframe thead th {\n",
       "        text-align: right;\n",
       "    }\n",
       "</style>\n",
       "<table border=\"1\" class=\"dataframe\">\n",
       "  <thead>\n",
       "    <tr style=\"text-align: right;\">\n",
       "      <th></th>\n",
       "      <th>MSN</th>\n",
       "      <th>YYYYMM</th>\n",
       "      <th>Value</th>\n",
       "      <th>Column_Order</th>\n",
       "      <th>Description</th>\n",
       "      <th>Unit</th>\n",
       "    </tr>\n",
       "  </thead>\n",
       "  <tbody>\n",
       "    <tr>\n",
       "      <th>0</th>\n",
       "      <td>TXRCBUS</td>\n",
       "      <td>194913</td>\n",
       "      <td>4460.434</td>\n",
       "      <td>1</td>\n",
       "      <td>Primary Energy Consumed by the Residential Sector</td>\n",
       "      <td>Trillion Btu</td>\n",
       "    </tr>\n",
       "    <tr>\n",
       "      <th>1</th>\n",
       "      <td>TXRCBUS</td>\n",
       "      <td>195013</td>\n",
       "      <td>4829.337</td>\n",
       "      <td>1</td>\n",
       "      <td>Primary Energy Consumed by the Residential Sector</td>\n",
       "      <td>Trillion Btu</td>\n",
       "    </tr>\n",
       "    <tr>\n",
       "      <th>2</th>\n",
       "      <td>TXRCBUS</td>\n",
       "      <td>195113</td>\n",
       "      <td>5104.476</td>\n",
       "      <td>1</td>\n",
       "      <td>Primary Energy Consumed by the Residential Sector</td>\n",
       "      <td>Trillion Btu</td>\n",
       "    </tr>\n",
       "    <tr>\n",
       "      <th>3</th>\n",
       "      <td>TXRCBUS</td>\n",
       "      <td>195213</td>\n",
       "      <td>5158.193</td>\n",
       "      <td>1</td>\n",
       "      <td>Primary Energy Consumed by the Residential Sector</td>\n",
       "      <td>Trillion Btu</td>\n",
       "    </tr>\n",
       "    <tr>\n",
       "      <th>4</th>\n",
       "      <td>TXRCBUS</td>\n",
       "      <td>195313</td>\n",
       "      <td>5052.515</td>\n",
       "      <td>1</td>\n",
       "      <td>Primary Energy Consumed by the Residential Sector</td>\n",
       "      <td>Trillion Btu</td>\n",
       "    </tr>\n",
       "  </tbody>\n",
       "</table>\n",
       "</div>"
      ],
      "text/plain": [
       "       MSN  YYYYMM     Value  Column_Order  \\\n",
       "0  TXRCBUS  194913  4460.434             1   \n",
       "1  TXRCBUS  195013  4829.337             1   \n",
       "2  TXRCBUS  195113  5104.476             1   \n",
       "3  TXRCBUS  195213  5158.193             1   \n",
       "4  TXRCBUS  195313  5052.515             1   \n",
       "\n",
       "                                         Description          Unit  \n",
       "0  Primary Energy Consumed by the Residential Sector  Trillion Btu  \n",
       "1  Primary Energy Consumed by the Residential Sector  Trillion Btu  \n",
       "2  Primary Energy Consumed by the Residential Sector  Trillion Btu  \n",
       "3  Primary Energy Consumed by the Residential Sector  Trillion Btu  \n",
       "4  Primary Energy Consumed by the Residential Sector  Trillion Btu  "
      ]
     },
     "execution_count": 126,
     "metadata": {},
     "output_type": "execute_result"
    }
   ],
   "source": [
    "# .read_csv() takes the path to a csv file and returns a DataFrame\n",
    "df_csv = pd.read_csv('resources/energy/MER_T02_01.csv')\n",
    "df_csv.head()"
   ]
  },
  {
   "cell_type": "code",
   "execution_count": 127,
   "metadata": {},
   "outputs": [
    {
     "data": {
      "text/html": [
       "<div>\n",
       "<style scoped>\n",
       "    .dataframe tbody tr th:only-of-type {\n",
       "        vertical-align: middle;\n",
       "    }\n",
       "\n",
       "    .dataframe tbody tr th {\n",
       "        vertical-align: top;\n",
       "    }\n",
       "\n",
       "    .dataframe thead th {\n",
       "        text-align: right;\n",
       "    }\n",
       "</style>\n",
       "<table border=\"1\" class=\"dataframe\">\n",
       "  <thead>\n",
       "    <tr style=\"text-align: right;\">\n",
       "      <th></th>\n",
       "      <th>Unnamed: 0</th>\n",
       "      <th>MSN</th>\n",
       "      <th>YYYYMM</th>\n",
       "      <th>Value</th>\n",
       "      <th>Column_Order</th>\n",
       "      <th>Description</th>\n",
       "      <th>Unit</th>\n",
       "    </tr>\n",
       "  </thead>\n",
       "  <tbody>\n",
       "    <tr>\n",
       "      <th>0</th>\n",
       "      <td>0</td>\n",
       "      <td>TXRCBUS</td>\n",
       "      <td>194913</td>\n",
       "      <td>4460.434</td>\n",
       "      <td>1</td>\n",
       "      <td>Primary Energy Consumed by the Residential Sector</td>\n",
       "      <td>Trillion Btu</td>\n",
       "    </tr>\n",
       "    <tr>\n",
       "      <th>1</th>\n",
       "      <td>1</td>\n",
       "      <td>TXRCBUS</td>\n",
       "      <td>195013</td>\n",
       "      <td>4829.337</td>\n",
       "      <td>1</td>\n",
       "      <td>Primary Energy Consumed by the Residential Sector</td>\n",
       "      <td>Trillion Btu</td>\n",
       "    </tr>\n",
       "    <tr>\n",
       "      <th>2</th>\n",
       "      <td>2</td>\n",
       "      <td>TXRCBUS</td>\n",
       "      <td>195113</td>\n",
       "      <td>5104.476</td>\n",
       "      <td>1</td>\n",
       "      <td>Primary Energy Consumed by the Residential Sector</td>\n",
       "      <td>Trillion Btu</td>\n",
       "    </tr>\n",
       "    <tr>\n",
       "      <th>3</th>\n",
       "      <td>3</td>\n",
       "      <td>TXRCBUS</td>\n",
       "      <td>195213</td>\n",
       "      <td>5158.193</td>\n",
       "      <td>1</td>\n",
       "      <td>Primary Energy Consumed by the Residential Sector</td>\n",
       "      <td>Trillion Btu</td>\n",
       "    </tr>\n",
       "    <tr>\n",
       "      <th>4</th>\n",
       "      <td>4</td>\n",
       "      <td>TXRCBUS</td>\n",
       "      <td>195313</td>\n",
       "      <td>5052.515</td>\n",
       "      <td>1</td>\n",
       "      <td>Primary Energy Consumed by the Residential Sector</td>\n",
       "      <td>Trillion Btu</td>\n",
       "    </tr>\n",
       "  </tbody>\n",
       "</table>\n",
       "</div>"
      ],
      "text/plain": [
       "   Unnamed: 0      MSN  YYYYMM     Value  Column_Order  \\\n",
       "0           0  TXRCBUS  194913  4460.434             1   \n",
       "1           1  TXRCBUS  195013  4829.337             1   \n",
       "2           2  TXRCBUS  195113  5104.476             1   \n",
       "3           3  TXRCBUS  195213  5158.193             1   \n",
       "4           4  TXRCBUS  195313  5052.515             1   \n",
       "\n",
       "                                         Description          Unit  \n",
       "0  Primary Energy Consumed by the Residential Sector  Trillion Btu  \n",
       "1  Primary Energy Consumed by the Residential Sector  Trillion Btu  \n",
       "2  Primary Energy Consumed by the Residential Sector  Trillion Btu  \n",
       "3  Primary Energy Consumed by the Residential Sector  Trillion Btu  \n",
       "4  Primary Energy Consumed by the Residential Sector  Trillion Btu  "
      ]
     },
     "execution_count": 127,
     "metadata": {},
     "output_type": "execute_result"
    }
   ],
   "source": [
    "# EnergyData.xlsx is a spreadsheet containing the above energy data\n",
    "# There are two sheets (before2000, after2000) \n",
    "# before2000: has the data from before the year 2000\n",
    "# after2000: has the data from after the year 2000\n",
    "# By default read_excel only returns the first sheet\n",
    "# It also seems that the first column is meant to be an index column\n",
    "# By default all columns will be read in and those without headers will be labeled 'Unnamed: x'\n",
    "df_excel = pd.read_excel('resources/energy/EnergyData.xlsx')\n",
    "df_excel.head()"
   ]
  },
  {
   "cell_type": "code",
   "execution_count": 128,
   "metadata": {},
   "outputs": [
    {
     "data": {
      "text/plain": [
       "(4125, 7)"
      ]
     },
     "execution_count": 128,
     "metadata": {},
     "output_type": "execute_result"
    }
   ],
   "source": [
    "df_excel.shape"
   ]
  },
  {
   "cell_type": "code",
   "execution_count": 129,
   "metadata": {},
   "outputs": [
    {
     "data": {
      "text/plain": [
       "Index(['Unnamed: 0', 'MSN', 'YYYYMM', 'Value', 'Column_Order', 'Description',\n",
       "       'Unit'],\n",
       "      dtype='object')"
      ]
     },
     "execution_count": 129,
     "metadata": {},
     "output_type": "execute_result"
    }
   ],
   "source": [
    "df_excel.keys()"
   ]
  },
  {
   "cell_type": "code",
   "execution_count": 130,
   "metadata": {},
   "outputs": [
    {
     "data": {
      "text/html": [
       "<div>\n",
       "<style scoped>\n",
       "    .dataframe tbody tr th:only-of-type {\n",
       "        vertical-align: middle;\n",
       "    }\n",
       "\n",
       "    .dataframe tbody tr th {\n",
       "        vertical-align: top;\n",
       "    }\n",
       "\n",
       "    .dataframe thead th {\n",
       "        text-align: right;\n",
       "    }\n",
       "</style>\n",
       "<table border=\"1\" class=\"dataframe\">\n",
       "  <thead>\n",
       "    <tr style=\"text-align: right;\">\n",
       "      <th></th>\n",
       "      <th>MSN</th>\n",
       "      <th>YYYYMM</th>\n",
       "      <th>Value</th>\n",
       "      <th>Column_Order</th>\n",
       "      <th>Description</th>\n",
       "      <th>Unit</th>\n",
       "    </tr>\n",
       "  </thead>\n",
       "  <tbody>\n",
       "    <tr>\n",
       "      <th>0</th>\n",
       "      <td>TXRCBUS</td>\n",
       "      <td>194913</td>\n",
       "      <td>4460.434</td>\n",
       "      <td>1</td>\n",
       "      <td>Primary Energy Consumed by the Residential Sector</td>\n",
       "      <td>Trillion Btu</td>\n",
       "    </tr>\n",
       "    <tr>\n",
       "      <th>1</th>\n",
       "      <td>TXRCBUS</td>\n",
       "      <td>195013</td>\n",
       "      <td>4829.337</td>\n",
       "      <td>1</td>\n",
       "      <td>Primary Energy Consumed by the Residential Sector</td>\n",
       "      <td>Trillion Btu</td>\n",
       "    </tr>\n",
       "    <tr>\n",
       "      <th>2</th>\n",
       "      <td>TXRCBUS</td>\n",
       "      <td>195113</td>\n",
       "      <td>5104.476</td>\n",
       "      <td>1</td>\n",
       "      <td>Primary Energy Consumed by the Residential Sector</td>\n",
       "      <td>Trillion Btu</td>\n",
       "    </tr>\n",
       "    <tr>\n",
       "      <th>3</th>\n",
       "      <td>TXRCBUS</td>\n",
       "      <td>195213</td>\n",
       "      <td>5158.193</td>\n",
       "      <td>1</td>\n",
       "      <td>Primary Energy Consumed by the Residential Sector</td>\n",
       "      <td>Trillion Btu</td>\n",
       "    </tr>\n",
       "    <tr>\n",
       "      <th>4</th>\n",
       "      <td>TXRCBUS</td>\n",
       "      <td>195313</td>\n",
       "      <td>5052.515</td>\n",
       "      <td>1</td>\n",
       "      <td>Primary Energy Consumed by the Residential Sector</td>\n",
       "      <td>Trillion Btu</td>\n",
       "    </tr>\n",
       "  </tbody>\n",
       "</table>\n",
       "</div>"
      ],
      "text/plain": [
       "       MSN  YYYYMM     Value  Column_Order  \\\n",
       "0  TXRCBUS  194913  4460.434             1   \n",
       "1  TXRCBUS  195013  4829.337             1   \n",
       "2  TXRCBUS  195113  5104.476             1   \n",
       "3  TXRCBUS  195213  5158.193             1   \n",
       "4  TXRCBUS  195313  5052.515             1   \n",
       "\n",
       "                                         Description          Unit  \n",
       "0  Primary Energy Consumed by the Residential Sector  Trillion Btu  \n",
       "1  Primary Energy Consumed by the Residential Sector  Trillion Btu  \n",
       "2  Primary Energy Consumed by the Residential Sector  Trillion Btu  \n",
       "3  Primary Energy Consumed by the Residential Sector  Trillion Btu  \n",
       "4  Primary Energy Consumed by the Residential Sector  Trillion Btu  "
      ]
     },
     "execution_count": 130,
     "metadata": {},
     "output_type": "execute_result"
    }
   ],
   "source": [
    "# the parameter \"sheet_name\" allows us to specify which sheet to read in\n",
    "# the parameter \"index_col\" allows us to specify a column to use as an index column\n",
    "df_excel_before2000 = pd.read_excel('resources/energy/EnergyData.xlsx', sheet_name = 'before2000',index_col=0)\n",
    "df_excel_before2000.head()"
   ]
  },
  {
   "cell_type": "code",
   "execution_count": 131,
   "metadata": {},
   "outputs": [
    {
     "data": {
      "text/plain": [
       "(4125, 6)"
      ]
     },
     "execution_count": 131,
     "metadata": {},
     "output_type": "execute_result"
    }
   ],
   "source": [
    "df_excel_before2000.shape"
   ]
  },
  {
   "cell_type": "code",
   "execution_count": 132,
   "metadata": {},
   "outputs": [
    {
     "data": {
      "text/html": [
       "<div>\n",
       "<style scoped>\n",
       "    .dataframe tbody tr th:only-of-type {\n",
       "        vertical-align: middle;\n",
       "    }\n",
       "\n",
       "    .dataframe tbody tr th {\n",
       "        vertical-align: top;\n",
       "    }\n",
       "\n",
       "    .dataframe thead th {\n",
       "        text-align: right;\n",
       "    }\n",
       "</style>\n",
       "<table border=\"1\" class=\"dataframe\">\n",
       "  <thead>\n",
       "    <tr style=\"text-align: right;\">\n",
       "      <th></th>\n",
       "      <th>Unnamed: 0</th>\n",
       "      <th>MSN</th>\n",
       "      <th>YYYYMM</th>\n",
       "      <th>Value</th>\n",
       "      <th>Column_Order</th>\n",
       "      <th>Description</th>\n",
       "      <th>Unit</th>\n",
       "    </tr>\n",
       "  </thead>\n",
       "  <tbody>\n",
       "    <tr>\n",
       "      <th>0</th>\n",
       "      <td>375</td>\n",
       "      <td>TXRCBUS</td>\n",
       "      <td>200001</td>\n",
       "      <td>1098.095</td>\n",
       "      <td>1</td>\n",
       "      <td>Primary Energy Consumed by the Residential Sector</td>\n",
       "      <td>Trillion Btu</td>\n",
       "    </tr>\n",
       "    <tr>\n",
       "      <th>1</th>\n",
       "      <td>376</td>\n",
       "      <td>TXRCBUS</td>\n",
       "      <td>200002</td>\n",
       "      <td>985.175</td>\n",
       "      <td>1</td>\n",
       "      <td>Primary Energy Consumed by the Residential Sector</td>\n",
       "      <td>Trillion Btu</td>\n",
       "    </tr>\n",
       "    <tr>\n",
       "      <th>2</th>\n",
       "      <td>377</td>\n",
       "      <td>TXRCBUS</td>\n",
       "      <td>200003</td>\n",
       "      <td>740.199</td>\n",
       "      <td>1</td>\n",
       "      <td>Primary Energy Consumed by the Residential Sector</td>\n",
       "      <td>Trillion Btu</td>\n",
       "    </tr>\n",
       "    <tr>\n",
       "      <th>3</th>\n",
       "      <td>378</td>\n",
       "      <td>TXRCBUS</td>\n",
       "      <td>200004</td>\n",
       "      <td>564.463</td>\n",
       "      <td>1</td>\n",
       "      <td>Primary Energy Consumed by the Residential Sector</td>\n",
       "      <td>Trillion Btu</td>\n",
       "    </tr>\n",
       "    <tr>\n",
       "      <th>4</th>\n",
       "      <td>379</td>\n",
       "      <td>TXRCBUS</td>\n",
       "      <td>200005</td>\n",
       "      <td>382.121</td>\n",
       "      <td>1</td>\n",
       "      <td>Primary Energy Consumed by the Residential Sector</td>\n",
       "      <td>Trillion Btu</td>\n",
       "    </tr>\n",
       "  </tbody>\n",
       "</table>\n",
       "</div>"
      ],
      "text/plain": [
       "   Unnamed: 0      MSN  YYYYMM     Value  Column_Order  \\\n",
       "0         375  TXRCBUS  200001  1098.095             1   \n",
       "1         376  TXRCBUS  200002   985.175             1   \n",
       "2         377  TXRCBUS  200003   740.199             1   \n",
       "3         378  TXRCBUS  200004   564.463             1   \n",
       "4         379  TXRCBUS  200005   382.121             1   \n",
       "\n",
       "                                         Description          Unit  \n",
       "0  Primary Energy Consumed by the Residential Sector  Trillion Btu  \n",
       "1  Primary Energy Consumed by the Residential Sector  Trillion Btu  \n",
       "2  Primary Energy Consumed by the Residential Sector  Trillion Btu  \n",
       "3  Primary Energy Consumed by the Residential Sector  Trillion Btu  \n",
       "4  Primary Energy Consumed by the Residential Sector  Trillion Btu  "
      ]
     },
     "execution_count": 132,
     "metadata": {},
     "output_type": "execute_result"
    }
   ],
   "source": [
    "# the parameter \"sheetname\" allows us to specify which sheet to read in\n",
    "df_excel_after2000 = pd.read_excel('resources/energy/EnergyData.xlsx', sheet_name = 'after2000')\n",
    "df_excel_after2000.head()"
   ]
  },
  {
   "cell_type": "code",
   "execution_count": 133,
   "metadata": {},
   "outputs": [
    {
     "data": {
      "text/plain": [
       "(2508, 7)"
      ]
     },
     "execution_count": 133,
     "metadata": {},
     "output_type": "execute_result"
    }
   ],
   "source": [
    "df_excel_after2000.shape"
   ]
  },
  {
   "cell_type": "code",
   "execution_count": 134,
   "metadata": {},
   "outputs": [
    {
     "data": {
      "text/html": [
       "<div>\n",
       "<style scoped>\n",
       "    .dataframe tbody tr th:only-of-type {\n",
       "        vertical-align: middle;\n",
       "    }\n",
       "\n",
       "    .dataframe tbody tr th {\n",
       "        vertical-align: top;\n",
       "    }\n",
       "\n",
       "    .dataframe thead th {\n",
       "        text-align: right;\n",
       "    }\n",
       "</style>\n",
       "<table border=\"1\" class=\"dataframe\">\n",
       "  <thead>\n",
       "    <tr style=\"text-align: right;\">\n",
       "      <th></th>\n",
       "      <th>Unnamed: 0</th>\n",
       "      <th>MSN</th>\n",
       "      <th>YYYYMM</th>\n",
       "      <th>Value</th>\n",
       "      <th>Column_Order</th>\n",
       "      <th>Description</th>\n",
       "      <th>Unit</th>\n",
       "    </tr>\n",
       "  </thead>\n",
       "  <tbody>\n",
       "    <tr>\n",
       "      <th>0</th>\n",
       "      <td>0</td>\n",
       "      <td>TXRCBUS</td>\n",
       "      <td>194913</td>\n",
       "      <td>4460.434</td>\n",
       "      <td>1</td>\n",
       "      <td>Primary Energy Consumed by the Residential Sector</td>\n",
       "      <td>Trillion Btu</td>\n",
       "    </tr>\n",
       "    <tr>\n",
       "      <th>1</th>\n",
       "      <td>1</td>\n",
       "      <td>TXRCBUS</td>\n",
       "      <td>195013</td>\n",
       "      <td>4829.337</td>\n",
       "      <td>1</td>\n",
       "      <td>Primary Energy Consumed by the Residential Sector</td>\n",
       "      <td>Trillion Btu</td>\n",
       "    </tr>\n",
       "    <tr>\n",
       "      <th>2</th>\n",
       "      <td>2</td>\n",
       "      <td>TXRCBUS</td>\n",
       "      <td>195113</td>\n",
       "      <td>5104.476</td>\n",
       "      <td>1</td>\n",
       "      <td>Primary Energy Consumed by the Residential Sector</td>\n",
       "      <td>Trillion Btu</td>\n",
       "    </tr>\n",
       "    <tr>\n",
       "      <th>3</th>\n",
       "      <td>3</td>\n",
       "      <td>TXRCBUS</td>\n",
       "      <td>195213</td>\n",
       "      <td>5158.193</td>\n",
       "      <td>1</td>\n",
       "      <td>Primary Energy Consumed by the Residential Sector</td>\n",
       "      <td>Trillion Btu</td>\n",
       "    </tr>\n",
       "    <tr>\n",
       "      <th>4</th>\n",
       "      <td>4</td>\n",
       "      <td>TXRCBUS</td>\n",
       "      <td>195313</td>\n",
       "      <td>5052.515</td>\n",
       "      <td>1</td>\n",
       "      <td>Primary Energy Consumed by the Residential Sector</td>\n",
       "      <td>Trillion Btu</td>\n",
       "    </tr>\n",
       "  </tbody>\n",
       "</table>\n",
       "</div>"
      ],
      "text/plain": [
       "   Unnamed: 0      MSN  YYYYMM     Value  Column_Order  \\\n",
       "0           0  TXRCBUS  194913  4460.434             1   \n",
       "1           1  TXRCBUS  195013  4829.337             1   \n",
       "2           2  TXRCBUS  195113  5104.476             1   \n",
       "3           3  TXRCBUS  195213  5158.193             1   \n",
       "4           4  TXRCBUS  195313  5052.515             1   \n",
       "\n",
       "                                         Description          Unit  \n",
       "0  Primary Energy Consumed by the Residential Sector  Trillion Btu  \n",
       "1  Primary Energy Consumed by the Residential Sector  Trillion Btu  \n",
       "2  Primary Energy Consumed by the Residential Sector  Trillion Btu  \n",
       "3  Primary Energy Consumed by the Residential Sector  Trillion Btu  \n",
       "4  Primary Energy Consumed by the Residential Sector  Trillion Btu  "
      ]
     },
     "metadata": {},
     "output_type": "display_data"
    },
    {
     "data": {
      "text/html": [
       "<div>\n",
       "<style scoped>\n",
       "    .dataframe tbody tr th:only-of-type {\n",
       "        vertical-align: middle;\n",
       "    }\n",
       "\n",
       "    .dataframe tbody tr th {\n",
       "        vertical-align: top;\n",
       "    }\n",
       "\n",
       "    .dataframe thead th {\n",
       "        text-align: right;\n",
       "    }\n",
       "</style>\n",
       "<table border=\"1\" class=\"dataframe\">\n",
       "  <thead>\n",
       "    <tr style=\"text-align: right;\">\n",
       "      <th></th>\n",
       "      <th>Unnamed: 0</th>\n",
       "      <th>MSN</th>\n",
       "      <th>YYYYMM</th>\n",
       "      <th>Value</th>\n",
       "      <th>Column_Order</th>\n",
       "      <th>Description</th>\n",
       "      <th>Unit</th>\n",
       "    </tr>\n",
       "  </thead>\n",
       "  <tbody>\n",
       "    <tr>\n",
       "      <th>0</th>\n",
       "      <td>375</td>\n",
       "      <td>TXRCBUS</td>\n",
       "      <td>200001</td>\n",
       "      <td>1098.095</td>\n",
       "      <td>1</td>\n",
       "      <td>Primary Energy Consumed by the Residential Sector</td>\n",
       "      <td>Trillion Btu</td>\n",
       "    </tr>\n",
       "    <tr>\n",
       "      <th>1</th>\n",
       "      <td>376</td>\n",
       "      <td>TXRCBUS</td>\n",
       "      <td>200002</td>\n",
       "      <td>985.175</td>\n",
       "      <td>1</td>\n",
       "      <td>Primary Energy Consumed by the Residential Sector</td>\n",
       "      <td>Trillion Btu</td>\n",
       "    </tr>\n",
       "    <tr>\n",
       "      <th>2</th>\n",
       "      <td>377</td>\n",
       "      <td>TXRCBUS</td>\n",
       "      <td>200003</td>\n",
       "      <td>740.199</td>\n",
       "      <td>1</td>\n",
       "      <td>Primary Energy Consumed by the Residential Sector</td>\n",
       "      <td>Trillion Btu</td>\n",
       "    </tr>\n",
       "    <tr>\n",
       "      <th>3</th>\n",
       "      <td>378</td>\n",
       "      <td>TXRCBUS</td>\n",
       "      <td>200004</td>\n",
       "      <td>564.463</td>\n",
       "      <td>1</td>\n",
       "      <td>Primary Energy Consumed by the Residential Sector</td>\n",
       "      <td>Trillion Btu</td>\n",
       "    </tr>\n",
       "    <tr>\n",
       "      <th>4</th>\n",
       "      <td>379</td>\n",
       "      <td>TXRCBUS</td>\n",
       "      <td>200005</td>\n",
       "      <td>382.121</td>\n",
       "      <td>1</td>\n",
       "      <td>Primary Energy Consumed by the Residential Sector</td>\n",
       "      <td>Trillion Btu</td>\n",
       "    </tr>\n",
       "  </tbody>\n",
       "</table>\n",
       "</div>"
      ],
      "text/plain": [
       "   Unnamed: 0      MSN  YYYYMM     Value  Column_Order  \\\n",
       "0         375  TXRCBUS  200001  1098.095             1   \n",
       "1         376  TXRCBUS  200002   985.175             1   \n",
       "2         377  TXRCBUS  200003   740.199             1   \n",
       "3         378  TXRCBUS  200004   564.463             1   \n",
       "4         379  TXRCBUS  200005   382.121             1   \n",
       "\n",
       "                                         Description          Unit  \n",
       "0  Primary Energy Consumed by the Residential Sector  Trillion Btu  \n",
       "1  Primary Energy Consumed by the Residential Sector  Trillion Btu  \n",
       "2  Primary Energy Consumed by the Residential Sector  Trillion Btu  \n",
       "3  Primary Energy Consumed by the Residential Sector  Trillion Btu  \n",
       "4  Primary Energy Consumed by the Residential Sector  Trillion Btu  "
      ]
     },
     "metadata": {},
     "output_type": "display_data"
    }
   ],
   "source": [
    "# We can read in multiple sheets at the same time\n",
    "# A dictionary will be returned where the key is the sheet name and value is the dataframe\n",
    "\n",
    "# The list of sheet names can be passed the sheetname or by passing None all sheets will be returned\n",
    "df_excel_all = pd.read_excel('resources/energy/EnergyData.xlsx', sheet_name = None)\n",
    "display(df_excel_all['before2000'].head())\n",
    "display(df_excel_all['after2000'].head())\n",
    "# print(df_excel_all.keys())"
   ]
  },
  {
   "cell_type": "markdown",
   "metadata": {},
   "source": [
    "Can write to Excel file as well"
   ]
  },
  {
   "cell_type": "code",
   "execution_count": 135,
   "metadata": {},
   "outputs": [],
   "source": [
    "df_excel_all['after2000'].to_excel('resources/energy/after2000.xlsx', index=False)"
   ]
  },
  {
   "cell_type": "markdown",
   "metadata": {},
   "source": [
    "### Main Points on File I/O with Pandas\n",
    "There are many options to read and write data. A few common examples are:\n",
    "* **read_excel:** read from Excel files\n",
    "* **to_excel:** write to Excel files\n",
    "* **read_csv:** read from csv files\n",
    "* **to_csv:** write to csv files\n",
    "\n",
    "More options can be found [here](https://pandas.pydata.org/pandas-docs/stable/io.html])"
   ]
  },
  {
   "cell_type": "code",
   "execution_count": null,
   "metadata": {},
   "outputs": [],
   "source": []
  }
 ],
 "metadata": {
  "kernelspec": {
   "display_name": "Python 3",
   "language": "python",
   "name": "python3"
  },
  "language_info": {
   "codemirror_mode": {
    "name": "ipython",
    "version": 3
   },
   "file_extension": ".py",
   "mimetype": "text/x-python",
   "name": "python",
   "nbconvert_exporter": "python",
   "pygments_lexer": "ipython3",
   "version": "3.7.3"
  }
 },
 "nbformat": 4,
 "nbformat_minor": 2
}
