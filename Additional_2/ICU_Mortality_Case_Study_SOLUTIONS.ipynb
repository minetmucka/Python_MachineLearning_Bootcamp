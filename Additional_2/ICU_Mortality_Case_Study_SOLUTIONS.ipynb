{
 "cells": [
  {
   "cell_type": "markdown",
   "metadata": {},
   "source": [
    "## Mortality Model Using MIMIC ICU Data*\n",
    "\n",
    "This is an open case study problem for you.  Your goal is to develop a model to predict mortality in the ICU given by the `hospital_expire_flag`.  We will judge the model using two criteria:\n",
    "\n",
    "- the `roc_auc_score` of your predictions -- this measures how well your model ranked the cases from riskiest to least risky\n",
    "- the `log_loss` of your predictions -- this measures how accurate your probabilities of mortality were.\n",
    "\n",
    "\n",
    "Please roughly go through the following steps:\n",
    "\n",
    "1) Build a test/train split using the `random_state=42` given in the code below. \n",
    "\n",
    "2) Explore the data.  Write at least one reusable function that you find useful in exploring the data.  There is missing data in many columns, so you will have to decide how to deal with that.\n",
    "\n",
    "3) Build a simple \"baseline\" model.  See how well you can do with just 3-5 variables in predicting mortality.  In fact, have one baseline model with Logistic Regression and another with a Random Forest.\n",
    "\n",
    "4) Build a more complicated model.  Use more variables and more complicated methods and see how much you can improve from your baseline.  Use at least one Penalized Logistic Regression model and one Random Forest or Gradient Boosted model.\n",
    "\n",
    "5) \"Engineer\" at least one feature and demonstrate how it improved your model.\n",
    "\n",
    "\n",
    "*MIMIC-III, a freely accessible critical care database. Johnson AEW, Pollard TJ, Shen L, Lehman L, Feng M, Ghassemi M, Moody B, Szolovits P, Celi LA, and Mark RG. Scientific Data (2016).\n",
    "https://mimic.physionet.org\n"
   ]
  },
  {
   "cell_type": "code",
   "execution_count": 1,
   "metadata": {},
   "outputs": [],
   "source": [
    "import pandas as pd\n",
    "import numpy as np\n",
    "import matplotlib.pyplot as plt\n",
    "%matplotlib inline\n",
    "\n",
    "from sklearn.ensemble import GradientBoostingClassifier, RandomForestClassifier\n",
    "from sklearn.linear_model import LogisticRegression, LogisticRegressionCV\n",
    "from sklearn.model_selection import train_test_split\n",
    "from sklearn.metrics import roc_auc_score, log_loss\n",
    "\n",
    "pd.set_option(\"display.max_columns\",200)"
   ]
  },
  {
   "cell_type": "code",
   "execution_count": 2,
   "metadata": {},
   "outputs": [],
   "source": [
    "# Load dataset derived from the MMIC database\n",
    "\n",
    "lab_aug_df = pd.read_csv(\"data/lab_vital_icu_table.csv\")"
   ]
  },
  {
   "cell_type": "code",
   "execution_count": 3,
   "metadata": {
    "scrolled": true
   },
   "outputs": [
    {
     "data": {
      "text/html": [
       "<div>\n",
       "<style scoped>\n",
       "    .dataframe tbody tr th:only-of-type {\n",
       "        vertical-align: middle;\n",
       "    }\n",
       "\n",
       "    .dataframe tbody tr th {\n",
       "        vertical-align: top;\n",
       "    }\n",
       "\n",
       "    .dataframe thead th {\n",
       "        text-align: right;\n",
       "    }\n",
       "</style>\n",
       "<table border=\"1\" class=\"dataframe\">\n",
       "  <thead>\n",
       "    <tr style=\"text-align: right;\">\n",
       "      <th></th>\n",
       "      <th>subject_id</th>\n",
       "      <th>hadm_id</th>\n",
       "      <th>icustay_id</th>\n",
       "      <th>aniongap_min</th>\n",
       "      <th>aniongap_max</th>\n",
       "      <th>albumin_min</th>\n",
       "      <th>albumin_max</th>\n",
       "      <th>bicarbonate_min</th>\n",
       "      <th>bicarbonate_max</th>\n",
       "      <th>bilirubin_min</th>\n",
       "      <th>bilirubin_max</th>\n",
       "      <th>creatinine_min</th>\n",
       "      <th>creatinine_max</th>\n",
       "      <th>chloride_min</th>\n",
       "      <th>chloride_max</th>\n",
       "      <th>hematocrit_min</th>\n",
       "      <th>hematocrit_max</th>\n",
       "      <th>hemoglobin_min</th>\n",
       "      <th>hemoglobin_max</th>\n",
       "      <th>lactate_min</th>\n",
       "      <th>lactate_max</th>\n",
       "      <th>platelet_min</th>\n",
       "      <th>platelet_max</th>\n",
       "      <th>potassium_min</th>\n",
       "      <th>potassium_max</th>\n",
       "      <th>ptt_min</th>\n",
       "      <th>ptt_max</th>\n",
       "      <th>inr_min</th>\n",
       "      <th>inr_max</th>\n",
       "      <th>pt_min</th>\n",
       "      <th>pt_max</th>\n",
       "      <th>sodium_min</th>\n",
       "      <th>sodium_max</th>\n",
       "      <th>bun_min</th>\n",
       "      <th>bun_max</th>\n",
       "      <th>wbc_min</th>\n",
       "      <th>wbc_max</th>\n",
       "      <th>subject_id.1</th>\n",
       "      <th>hadm_id.1</th>\n",
       "      <th>icustay_id.1</th>\n",
       "      <th>gender</th>\n",
       "      <th>admittime</th>\n",
       "      <th>dischtime</th>\n",
       "      <th>los_hospital</th>\n",
       "      <th>age</th>\n",
       "      <th>ethnicity</th>\n",
       "      <th>admission_type</th>\n",
       "      <th>hospital_expire_flag</th>\n",
       "      <th>hospstay_seq</th>\n",
       "      <th>first_hosp_stay</th>\n",
       "      <th>intime</th>\n",
       "      <th>outtime</th>\n",
       "      <th>los_icu</th>\n",
       "      <th>icustay_seq</th>\n",
       "      <th>first_icu_stay</th>\n",
       "      <th>subject_id.2</th>\n",
       "      <th>hadm_id.2</th>\n",
       "      <th>icustay_id.2</th>\n",
       "      <th>heartrate_min</th>\n",
       "      <th>heartrate_max</th>\n",
       "      <th>heartrate_mean</th>\n",
       "      <th>sysbp_min</th>\n",
       "      <th>sysbp_max</th>\n",
       "      <th>sysbp_mean</th>\n",
       "      <th>diasbp_min</th>\n",
       "      <th>diasbp_max</th>\n",
       "      <th>diasbp_mean</th>\n",
       "      <th>meanbp_min</th>\n",
       "      <th>meanbp_max</th>\n",
       "      <th>meanbp_mean</th>\n",
       "      <th>resprate_min</th>\n",
       "      <th>resprate_max</th>\n",
       "      <th>resprate_mean</th>\n",
       "      <th>tempc_min</th>\n",
       "      <th>tempc_max</th>\n",
       "      <th>tempc_mean</th>\n",
       "      <th>spo2_min</th>\n",
       "      <th>spo2_max</th>\n",
       "      <th>spo2_mean</th>\n",
       "    </tr>\n",
       "  </thead>\n",
       "  <tbody>\n",
       "    <tr>\n",
       "      <th>0</th>\n",
       "      <td>9</td>\n",
       "      <td>150750</td>\n",
       "      <td>220597</td>\n",
       "      <td>13.0</td>\n",
       "      <td>13.0</td>\n",
       "      <td>NaN</td>\n",
       "      <td>NaN</td>\n",
       "      <td>26.0</td>\n",
       "      <td>30.0</td>\n",
       "      <td>0.4</td>\n",
       "      <td>0.4</td>\n",
       "      <td>1.2</td>\n",
       "      <td>1.4</td>\n",
       "      <td>100.0</td>\n",
       "      <td>103.0</td>\n",
       "      <td>37.4</td>\n",
       "      <td>45.2</td>\n",
       "      <td>12.9</td>\n",
       "      <td>15.4</td>\n",
       "      <td>1.9</td>\n",
       "      <td>2.7</td>\n",
       "      <td>249.0</td>\n",
       "      <td>258.0</td>\n",
       "      <td>2.8</td>\n",
       "      <td>3.0</td>\n",
       "      <td>21.7</td>\n",
       "      <td>21.7</td>\n",
       "      <td>1.1</td>\n",
       "      <td>1.1</td>\n",
       "      <td>12.7</td>\n",
       "      <td>12.7</td>\n",
       "      <td>136.0</td>\n",
       "      <td>140.0</td>\n",
       "      <td>16.0</td>\n",
       "      <td>17.0</td>\n",
       "      <td>7.5</td>\n",
       "      <td>13.7</td>\n",
       "      <td>9</td>\n",
       "      <td>150750</td>\n",
       "      <td>220597</td>\n",
       "      <td>M</td>\n",
       "      <td>2149-11-09 13:06:00</td>\n",
       "      <td>2149-11-14 10:15:00</td>\n",
       "      <td>5.0</td>\n",
       "      <td>41.7887</td>\n",
       "      <td>UNKNOWN/NOT SPECIFIED</td>\n",
       "      <td>EMERGENCY</td>\n",
       "      <td>1</td>\n",
       "      <td>1</td>\n",
       "      <td>Y</td>\n",
       "      <td>2149-11-09 13:07:02</td>\n",
       "      <td>2149-11-14 20:52:14</td>\n",
       "      <td>5.0</td>\n",
       "      <td>1</td>\n",
       "      <td>Y</td>\n",
       "      <td>9</td>\n",
       "      <td>150750</td>\n",
       "      <td>220597</td>\n",
       "      <td>82.0</td>\n",
       "      <td>111.0</td>\n",
       "      <td>92.500000</td>\n",
       "      <td>106.0</td>\n",
       "      <td>217.0</td>\n",
       "      <td>159.375000</td>\n",
       "      <td>53.0</td>\n",
       "      <td>107.0</td>\n",
       "      <td>79.525000</td>\n",
       "      <td>67.000000</td>\n",
       "      <td>132.000</td>\n",
       "      <td>98.850000</td>\n",
       "      <td>14.0</td>\n",
       "      <td>19.0</td>\n",
       "      <td>14.369565</td>\n",
       "      <td>35.500001</td>\n",
       "      <td>37.888887</td>\n",
       "      <td>37.049383</td>\n",
       "      <td>95.0</td>\n",
       "      <td>100.0</td>\n",
       "      <td>97.650000</td>\n",
       "    </tr>\n",
       "    <tr>\n",
       "      <th>1</th>\n",
       "      <td>13</td>\n",
       "      <td>143045</td>\n",
       "      <td>263738</td>\n",
       "      <td>10.0</td>\n",
       "      <td>14.0</td>\n",
       "      <td>3.9</td>\n",
       "      <td>3.9</td>\n",
       "      <td>23.0</td>\n",
       "      <td>24.0</td>\n",
       "      <td>0.4</td>\n",
       "      <td>0.4</td>\n",
       "      <td>0.5</td>\n",
       "      <td>0.8</td>\n",
       "      <td>106.0</td>\n",
       "      <td>116.0</td>\n",
       "      <td>24.0</td>\n",
       "      <td>35.6</td>\n",
       "      <td>7.9</td>\n",
       "      <td>12.3</td>\n",
       "      <td>NaN</td>\n",
       "      <td>NaN</td>\n",
       "      <td>115.0</td>\n",
       "      <td>216.0</td>\n",
       "      <td>3.0</td>\n",
       "      <td>5.3</td>\n",
       "      <td>30.8</td>\n",
       "      <td>44.1</td>\n",
       "      <td>1.2</td>\n",
       "      <td>1.8</td>\n",
       "      <td>13.3</td>\n",
       "      <td>16.5</td>\n",
       "      <td>137.0</td>\n",
       "      <td>140.0</td>\n",
       "      <td>13.0</td>\n",
       "      <td>18.0</td>\n",
       "      <td>16.6</td>\n",
       "      <td>19.3</td>\n",
       "      <td>13</td>\n",
       "      <td>143045</td>\n",
       "      <td>263738</td>\n",
       "      <td>F</td>\n",
       "      <td>2167-01-08 18:43:00</td>\n",
       "      <td>2167-01-15 15:15:00</td>\n",
       "      <td>7.0</td>\n",
       "      <td>39.8640</td>\n",
       "      <td>WHITE</td>\n",
       "      <td>EMERGENCY</td>\n",
       "      <td>0</td>\n",
       "      <td>1</td>\n",
       "      <td>Y</td>\n",
       "      <td>2167-01-08 18:44:25</td>\n",
       "      <td>2167-01-12 10:43:31</td>\n",
       "      <td>4.0</td>\n",
       "      <td>1</td>\n",
       "      <td>Y</td>\n",
       "      <td>13</td>\n",
       "      <td>143045</td>\n",
       "      <td>263738</td>\n",
       "      <td>60.0</td>\n",
       "      <td>124.0</td>\n",
       "      <td>83.600000</td>\n",
       "      <td>102.0</td>\n",
       "      <td>151.0</td>\n",
       "      <td>126.136364</td>\n",
       "      <td>53.0</td>\n",
       "      <td>84.0</td>\n",
       "      <td>66.000000</td>\n",
       "      <td>73.000000</td>\n",
       "      <td>111.000</td>\n",
       "      <td>93.772727</td>\n",
       "      <td>11.0</td>\n",
       "      <td>25.0</td>\n",
       "      <td>15.320000</td>\n",
       "      <td>35.944443</td>\n",
       "      <td>37.400002</td>\n",
       "      <td>36.653534</td>\n",
       "      <td>94.0</td>\n",
       "      <td>100.0</td>\n",
       "      <td>97.700000</td>\n",
       "    </tr>\n",
       "    <tr>\n",
       "      <th>2</th>\n",
       "      <td>20</td>\n",
       "      <td>157681</td>\n",
       "      <td>264490</td>\n",
       "      <td>12.0</td>\n",
       "      <td>12.0</td>\n",
       "      <td>NaN</td>\n",
       "      <td>NaN</td>\n",
       "      <td>21.0</td>\n",
       "      <td>21.0</td>\n",
       "      <td>NaN</td>\n",
       "      <td>NaN</td>\n",
       "      <td>0.8</td>\n",
       "      <td>0.8</td>\n",
       "      <td>108.0</td>\n",
       "      <td>108.0</td>\n",
       "      <td>26.0</td>\n",
       "      <td>35.0</td>\n",
       "      <td>8.5</td>\n",
       "      <td>11.8</td>\n",
       "      <td>NaN</td>\n",
       "      <td>NaN</td>\n",
       "      <td>111.0</td>\n",
       "      <td>132.0</td>\n",
       "      <td>3.6</td>\n",
       "      <td>4.6</td>\n",
       "      <td>31.3</td>\n",
       "      <td>34.2</td>\n",
       "      <td>1.3</td>\n",
       "      <td>1.6</td>\n",
       "      <td>14.1</td>\n",
       "      <td>15.7</td>\n",
       "      <td>137.0</td>\n",
       "      <td>143.0</td>\n",
       "      <td>18.0</td>\n",
       "      <td>18.0</td>\n",
       "      <td>17.5</td>\n",
       "      <td>17.5</td>\n",
       "      <td>20</td>\n",
       "      <td>157681</td>\n",
       "      <td>264490</td>\n",
       "      <td>F</td>\n",
       "      <td>2183-04-28 09:45:00</td>\n",
       "      <td>2183-05-03 14:45:00</td>\n",
       "      <td>5.0</td>\n",
       "      <td>75.8757</td>\n",
       "      <td>WHITE</td>\n",
       "      <td>ELECTIVE</td>\n",
       "      <td>0</td>\n",
       "      <td>1</td>\n",
       "      <td>Y</td>\n",
       "      <td>2183-04-28 15:00:36</td>\n",
       "      <td>2183-04-29 16:13:48</td>\n",
       "      <td>1.0</td>\n",
       "      <td>1</td>\n",
       "      <td>Y</td>\n",
       "      <td>20</td>\n",
       "      <td>157681</td>\n",
       "      <td>264490</td>\n",
       "      <td>67.0</td>\n",
       "      <td>80.0</td>\n",
       "      <td>79.121951</td>\n",
       "      <td>81.0</td>\n",
       "      <td>167.0</td>\n",
       "      <td>127.825000</td>\n",
       "      <td>36.0</td>\n",
       "      <td>76.0</td>\n",
       "      <td>54.500000</td>\n",
       "      <td>52.000000</td>\n",
       "      <td>102.000</td>\n",
       "      <td>75.058333</td>\n",
       "      <td>10.0</td>\n",
       "      <td>27.0</td>\n",
       "      <td>15.404762</td>\n",
       "      <td>35.900002</td>\n",
       "      <td>37.299999</td>\n",
       "      <td>36.545714</td>\n",
       "      <td>95.0</td>\n",
       "      <td>100.0</td>\n",
       "      <td>98.435897</td>\n",
       "    </tr>\n",
       "    <tr>\n",
       "      <th>3</th>\n",
       "      <td>28</td>\n",
       "      <td>162569</td>\n",
       "      <td>225559</td>\n",
       "      <td>13.0</td>\n",
       "      <td>13.0</td>\n",
       "      <td>NaN</td>\n",
       "      <td>NaN</td>\n",
       "      <td>23.0</td>\n",
       "      <td>23.0</td>\n",
       "      <td>NaN</td>\n",
       "      <td>NaN</td>\n",
       "      <td>0.9</td>\n",
       "      <td>1.0</td>\n",
       "      <td>109.0</td>\n",
       "      <td>112.0</td>\n",
       "      <td>26.0</td>\n",
       "      <td>41.0</td>\n",
       "      <td>8.6</td>\n",
       "      <td>13.6</td>\n",
       "      <td>NaN</td>\n",
       "      <td>NaN</td>\n",
       "      <td>137.0</td>\n",
       "      <td>150.0</td>\n",
       "      <td>3.8</td>\n",
       "      <td>5.2</td>\n",
       "      <td>31.8</td>\n",
       "      <td>32.0</td>\n",
       "      <td>1.1</td>\n",
       "      <td>1.4</td>\n",
       "      <td>13.0</td>\n",
       "      <td>15.1</td>\n",
       "      <td>136.0</td>\n",
       "      <td>141.0</td>\n",
       "      <td>13.0</td>\n",
       "      <td>17.0</td>\n",
       "      <td>6.9</td>\n",
       "      <td>6.9</td>\n",
       "      <td>28</td>\n",
       "      <td>162569</td>\n",
       "      <td>225559</td>\n",
       "      <td>M</td>\n",
       "      <td>2177-09-01 07:15:00</td>\n",
       "      <td>2177-09-06 16:00:00</td>\n",
       "      <td>5.0</td>\n",
       "      <td>74.3836</td>\n",
       "      <td>WHITE</td>\n",
       "      <td>ELECTIVE</td>\n",
       "      <td>0</td>\n",
       "      <td>1</td>\n",
       "      <td>Y</td>\n",
       "      <td>2177-09-01 09:32:26</td>\n",
       "      <td>2177-09-02 12:28:42</td>\n",
       "      <td>1.0</td>\n",
       "      <td>1</td>\n",
       "      <td>Y</td>\n",
       "      <td>28</td>\n",
       "      <td>162569</td>\n",
       "      <td>225559</td>\n",
       "      <td>74.0</td>\n",
       "      <td>103.0</td>\n",
       "      <td>88.428571</td>\n",
       "      <td>98.0</td>\n",
       "      <td>153.0</td>\n",
       "      <td>121.266667</td>\n",
       "      <td>38.0</td>\n",
       "      <td>61.0</td>\n",
       "      <td>47.933333</td>\n",
       "      <td>55.000000</td>\n",
       "      <td>86.000</td>\n",
       "      <td>69.133333</td>\n",
       "      <td>9.0</td>\n",
       "      <td>32.0</td>\n",
       "      <td>16.677419</td>\n",
       "      <td>35.900002</td>\n",
       "      <td>37.700001</td>\n",
       "      <td>37.033333</td>\n",
       "      <td>92.0</td>\n",
       "      <td>100.0</td>\n",
       "      <td>96.419355</td>\n",
       "    </tr>\n",
       "    <tr>\n",
       "      <th>4</th>\n",
       "      <td>37</td>\n",
       "      <td>188670</td>\n",
       "      <td>213503</td>\n",
       "      <td>9.0</td>\n",
       "      <td>10.0</td>\n",
       "      <td>NaN</td>\n",
       "      <td>NaN</td>\n",
       "      <td>33.0</td>\n",
       "      <td>35.0</td>\n",
       "      <td>NaN</td>\n",
       "      <td>NaN</td>\n",
       "      <td>0.8</td>\n",
       "      <td>1.0</td>\n",
       "      <td>100.0</td>\n",
       "      <td>103.0</td>\n",
       "      <td>28.9</td>\n",
       "      <td>33.9</td>\n",
       "      <td>9.5</td>\n",
       "      <td>10.3</td>\n",
       "      <td>NaN</td>\n",
       "      <td>NaN</td>\n",
       "      <td>263.0</td>\n",
       "      <td>310.0</td>\n",
       "      <td>3.8</td>\n",
       "      <td>4.0</td>\n",
       "      <td>24.1</td>\n",
       "      <td>24.6</td>\n",
       "      <td>1.1</td>\n",
       "      <td>1.2</td>\n",
       "      <td>13.1</td>\n",
       "      <td>13.3</td>\n",
       "      <td>139.0</td>\n",
       "      <td>143.0</td>\n",
       "      <td>25.0</td>\n",
       "      <td>37.0</td>\n",
       "      <td>10.4</td>\n",
       "      <td>13.9</td>\n",
       "      <td>37</td>\n",
       "      <td>188670</td>\n",
       "      <td>213503</td>\n",
       "      <td>M</td>\n",
       "      <td>2183-08-21 16:48:00</td>\n",
       "      <td>2183-08-26 18:54:00</td>\n",
       "      <td>5.0</td>\n",
       "      <td>68.9269</td>\n",
       "      <td>WHITE</td>\n",
       "      <td>EMERGENCY</td>\n",
       "      <td>0</td>\n",
       "      <td>1</td>\n",
       "      <td>Y</td>\n",
       "      <td>2183-08-23 12:01:45</td>\n",
       "      <td>2183-08-24 15:22:53</td>\n",
       "      <td>1.0</td>\n",
       "      <td>1</td>\n",
       "      <td>Y</td>\n",
       "      <td>37</td>\n",
       "      <td>188670</td>\n",
       "      <td>213503</td>\n",
       "      <td>69.0</td>\n",
       "      <td>91.0</td>\n",
       "      <td>81.000000</td>\n",
       "      <td>103.0</td>\n",
       "      <td>144.0</td>\n",
       "      <td>123.035714</td>\n",
       "      <td>33.0</td>\n",
       "      <td>60.0</td>\n",
       "      <td>48.428571</td>\n",
       "      <td>65.333298</td>\n",
       "      <td>82.000</td>\n",
       "      <td>73.297610</td>\n",
       "      <td>15.0</td>\n",
       "      <td>30.0</td>\n",
       "      <td>22.241379</td>\n",
       "      <td>36.833335</td>\n",
       "      <td>38.055556</td>\n",
       "      <td>37.333334</td>\n",
       "      <td>89.0</td>\n",
       "      <td>99.0</td>\n",
       "      <td>96.533333</td>\n",
       "    </tr>\n",
       "    <tr>\n",
       "      <th>5</th>\n",
       "      <td>71</td>\n",
       "      <td>111944</td>\n",
       "      <td>211832</td>\n",
       "      <td>13.0</td>\n",
       "      <td>30.0</td>\n",
       "      <td>3.6</td>\n",
       "      <td>4.7</td>\n",
       "      <td>17.0</td>\n",
       "      <td>26.0</td>\n",
       "      <td>0.4</td>\n",
       "      <td>0.5</td>\n",
       "      <td>0.5</td>\n",
       "      <td>0.8</td>\n",
       "      <td>101.0</td>\n",
       "      <td>113.0</td>\n",
       "      <td>31.1</td>\n",
       "      <td>37.3</td>\n",
       "      <td>11.3</td>\n",
       "      <td>13.1</td>\n",
       "      <td>2.9</td>\n",
       "      <td>8.3</td>\n",
       "      <td>215.0</td>\n",
       "      <td>295.0</td>\n",
       "      <td>3.2</td>\n",
       "      <td>3.9</td>\n",
       "      <td>26.1</td>\n",
       "      <td>26.1</td>\n",
       "      <td>1.1</td>\n",
       "      <td>1.1</td>\n",
       "      <td>13.1</td>\n",
       "      <td>13.1</td>\n",
       "      <td>141.0</td>\n",
       "      <td>145.0</td>\n",
       "      <td>4.0</td>\n",
       "      <td>16.0</td>\n",
       "      <td>15.0</td>\n",
       "      <td>27.0</td>\n",
       "      <td>71</td>\n",
       "      <td>111944</td>\n",
       "      <td>211832</td>\n",
       "      <td>F</td>\n",
       "      <td>2164-02-03 22:07:00</td>\n",
       "      <td>2164-02-08 14:00:00</td>\n",
       "      <td>5.0</td>\n",
       "      <td>36.5046</td>\n",
       "      <td>ASIAN</td>\n",
       "      <td>EMERGENCY</td>\n",
       "      <td>0</td>\n",
       "      <td>1</td>\n",
       "      <td>Y</td>\n",
       "      <td>2164-02-03 22:07:49</td>\n",
       "      <td>2164-02-06 18:47:31</td>\n",
       "      <td>3.0</td>\n",
       "      <td>1</td>\n",
       "      <td>Y</td>\n",
       "      <td>71</td>\n",
       "      <td>111944</td>\n",
       "      <td>211832</td>\n",
       "      <td>98.0</td>\n",
       "      <td>137.0</td>\n",
       "      <td>112.444444</td>\n",
       "      <td>94.0</td>\n",
       "      <td>157.0</td>\n",
       "      <td>114.629630</td>\n",
       "      <td>31.0</td>\n",
       "      <td>130.0</td>\n",
       "      <td>61.518519</td>\n",
       "      <td>58.000000</td>\n",
       "      <td>139.000</td>\n",
       "      <td>79.222208</td>\n",
       "      <td>13.0</td>\n",
       "      <td>25.0</td>\n",
       "      <td>17.130435</td>\n",
       "      <td>35.722224</td>\n",
       "      <td>37.833332</td>\n",
       "      <td>37.351852</td>\n",
       "      <td>99.0</td>\n",
       "      <td>100.0</td>\n",
       "      <td>99.862069</td>\n",
       "    </tr>\n",
       "    <tr>\n",
       "      <th>6</th>\n",
       "      <td>72</td>\n",
       "      <td>156857</td>\n",
       "      <td>239612</td>\n",
       "      <td>18.0</td>\n",
       "      <td>18.0</td>\n",
       "      <td>NaN</td>\n",
       "      <td>NaN</td>\n",
       "      <td>20.0</td>\n",
       "      <td>20.0</td>\n",
       "      <td>3.5</td>\n",
       "      <td>3.5</td>\n",
       "      <td>0.6</td>\n",
       "      <td>0.6</td>\n",
       "      <td>105.0</td>\n",
       "      <td>105.0</td>\n",
       "      <td>40.2</td>\n",
       "      <td>47.1</td>\n",
       "      <td>13.9</td>\n",
       "      <td>15.9</td>\n",
       "      <td>NaN</td>\n",
       "      <td>NaN</td>\n",
       "      <td>160.0</td>\n",
       "      <td>193.0</td>\n",
       "      <td>5.6</td>\n",
       "      <td>5.6</td>\n",
       "      <td>NaN</td>\n",
       "      <td>NaN</td>\n",
       "      <td>NaN</td>\n",
       "      <td>NaN</td>\n",
       "      <td>NaN</td>\n",
       "      <td>NaN</td>\n",
       "      <td>137.0</td>\n",
       "      <td>137.0</td>\n",
       "      <td>22.0</td>\n",
       "      <td>22.0</td>\n",
       "      <td>15.4</td>\n",
       "      <td>18.4</td>\n",
       "      <td>72</td>\n",
       "      <td>156857</td>\n",
       "      <td>239612</td>\n",
       "      <td>M</td>\n",
       "      <td>2163-09-22 23:52:00</td>\n",
       "      <td>2163-09-29 11:40:00</td>\n",
       "      <td>7.0</td>\n",
       "      <td>0.0000</td>\n",
       "      <td>BLACK/AFRICAN AMERICAN</td>\n",
       "      <td>NEWBORN</td>\n",
       "      <td>0</td>\n",
       "      <td>1</td>\n",
       "      <td>Y</td>\n",
       "      <td>2163-09-22 23:59:48</td>\n",
       "      <td>2163-09-29 12:21:37</td>\n",
       "      <td>7.0</td>\n",
       "      <td>1</td>\n",
       "      <td>Y</td>\n",
       "      <td>72</td>\n",
       "      <td>156857</td>\n",
       "      <td>239612</td>\n",
       "      <td>113.0</td>\n",
       "      <td>186.0</td>\n",
       "      <td>145.800000</td>\n",
       "      <td>NaN</td>\n",
       "      <td>NaN</td>\n",
       "      <td>NaN</td>\n",
       "      <td>NaN</td>\n",
       "      <td>NaN</td>\n",
       "      <td>NaN</td>\n",
       "      <td>NaN</td>\n",
       "      <td>NaN</td>\n",
       "      <td>NaN</td>\n",
       "      <td>NaN</td>\n",
       "      <td>NaN</td>\n",
       "      <td>NaN</td>\n",
       "      <td>NaN</td>\n",
       "      <td>NaN</td>\n",
       "      <td>NaN</td>\n",
       "      <td>NaN</td>\n",
       "      <td>NaN</td>\n",
       "      <td>NaN</td>\n",
       "    </tr>\n",
       "    <tr>\n",
       "      <th>7</th>\n",
       "      <td>78</td>\n",
       "      <td>100536</td>\n",
       "      <td>233150</td>\n",
       "      <td>9.0</td>\n",
       "      <td>9.0</td>\n",
       "      <td>2.7</td>\n",
       "      <td>3.1</td>\n",
       "      <td>26.0</td>\n",
       "      <td>26.0</td>\n",
       "      <td>0.8</td>\n",
       "      <td>0.8</td>\n",
       "      <td>0.5</td>\n",
       "      <td>0.5</td>\n",
       "      <td>106.0</td>\n",
       "      <td>106.0</td>\n",
       "      <td>30.6</td>\n",
       "      <td>30.6</td>\n",
       "      <td>10.8</td>\n",
       "      <td>10.8</td>\n",
       "      <td>NaN</td>\n",
       "      <td>NaN</td>\n",
       "      <td>45.0</td>\n",
       "      <td>45.0</td>\n",
       "      <td>3.4</td>\n",
       "      <td>3.4</td>\n",
       "      <td>37.7</td>\n",
       "      <td>37.7</td>\n",
       "      <td>1.2</td>\n",
       "      <td>1.2</td>\n",
       "      <td>13.7</td>\n",
       "      <td>13.7</td>\n",
       "      <td>138.0</td>\n",
       "      <td>138.0</td>\n",
       "      <td>9.0</td>\n",
       "      <td>9.0</td>\n",
       "      <td>1.6</td>\n",
       "      <td>1.6</td>\n",
       "      <td>78</td>\n",
       "      <td>100536</td>\n",
       "      <td>233150</td>\n",
       "      <td>M</td>\n",
       "      <td>2177-02-14 00:16:00</td>\n",
       "      <td>2177-02-17 22:12:00</td>\n",
       "      <td>3.0</td>\n",
       "      <td>48.6253</td>\n",
       "      <td>BLACK/AFRICAN AMERICAN</td>\n",
       "      <td>EMERGENCY</td>\n",
       "      <td>0</td>\n",
       "      <td>1</td>\n",
       "      <td>Y</td>\n",
       "      <td>2177-02-14 04:10:26</td>\n",
       "      <td>2177-02-15 15:54:43</td>\n",
       "      <td>1.0</td>\n",
       "      <td>1</td>\n",
       "      <td>Y</td>\n",
       "      <td>78</td>\n",
       "      <td>100536</td>\n",
       "      <td>233150</td>\n",
       "      <td>56.0</td>\n",
       "      <td>73.0</td>\n",
       "      <td>63.117647</td>\n",
       "      <td>134.0</td>\n",
       "      <td>206.0</td>\n",
       "      <td>165.833333</td>\n",
       "      <td>78.0</td>\n",
       "      <td>119.0</td>\n",
       "      <td>98.777778</td>\n",
       "      <td>98.666702</td>\n",
       "      <td>145.000</td>\n",
       "      <td>121.129705</td>\n",
       "      <td>11.0</td>\n",
       "      <td>24.0</td>\n",
       "      <td>16.764706</td>\n",
       "      <td>36.333334</td>\n",
       "      <td>36.833335</td>\n",
       "      <td>36.577778</td>\n",
       "      <td>96.0</td>\n",
       "      <td>100.0</td>\n",
       "      <td>98.470588</td>\n",
       "    </tr>\n",
       "    <tr>\n",
       "      <th>8</th>\n",
       "      <td>88</td>\n",
       "      <td>123010</td>\n",
       "      <td>297289</td>\n",
       "      <td>13.0</td>\n",
       "      <td>18.0</td>\n",
       "      <td>NaN</td>\n",
       "      <td>NaN</td>\n",
       "      <td>19.0</td>\n",
       "      <td>26.0</td>\n",
       "      <td>NaN</td>\n",
       "      <td>NaN</td>\n",
       "      <td>0.7</td>\n",
       "      <td>1.0</td>\n",
       "      <td>102.0</td>\n",
       "      <td>112.0</td>\n",
       "      <td>32.2</td>\n",
       "      <td>37.3</td>\n",
       "      <td>10.7</td>\n",
       "      <td>12.3</td>\n",
       "      <td>5.4</td>\n",
       "      <td>6.3</td>\n",
       "      <td>22.0</td>\n",
       "      <td>161.0</td>\n",
       "      <td>3.3</td>\n",
       "      <td>4.2</td>\n",
       "      <td>28.5</td>\n",
       "      <td>30.0</td>\n",
       "      <td>1.2</td>\n",
       "      <td>1.5</td>\n",
       "      <td>13.4</td>\n",
       "      <td>14.5</td>\n",
       "      <td>137.0</td>\n",
       "      <td>146.0</td>\n",
       "      <td>7.0</td>\n",
       "      <td>10.0</td>\n",
       "      <td>4.8</td>\n",
       "      <td>12.3</td>\n",
       "      <td>88</td>\n",
       "      <td>123010</td>\n",
       "      <td>297289</td>\n",
       "      <td>M</td>\n",
       "      <td>2111-08-29 03:03:00</td>\n",
       "      <td>2111-09-03 14:24:00</td>\n",
       "      <td>5.0</td>\n",
       "      <td>28.6577</td>\n",
       "      <td>BLACK/AFRICAN AMERICAN</td>\n",
       "      <td>EMERGENCY</td>\n",
       "      <td>0</td>\n",
       "      <td>1</td>\n",
       "      <td>Y</td>\n",
       "      <td>2111-08-29 03:04:42</td>\n",
       "      <td>2111-08-30 21:08:09</td>\n",
       "      <td>1.0</td>\n",
       "      <td>1</td>\n",
       "      <td>Y</td>\n",
       "      <td>88</td>\n",
       "      <td>123010</td>\n",
       "      <td>297289</td>\n",
       "      <td>95.0</td>\n",
       "      <td>132.0</td>\n",
       "      <td>107.230769</td>\n",
       "      <td>102.0</td>\n",
       "      <td>160.0</td>\n",
       "      <td>138.807692</td>\n",
       "      <td>42.0</td>\n",
       "      <td>91.0</td>\n",
       "      <td>70.307692</td>\n",
       "      <td>63.000000</td>\n",
       "      <td>111.000</td>\n",
       "      <td>91.884615</td>\n",
       "      <td>9.0</td>\n",
       "      <td>45.0</td>\n",
       "      <td>20.352941</td>\n",
       "      <td>35.722224</td>\n",
       "      <td>39.111112</td>\n",
       "      <td>37.810185</td>\n",
       "      <td>99.0</td>\n",
       "      <td>100.0</td>\n",
       "      <td>99.962963</td>\n",
       "    </tr>\n",
       "    <tr>\n",
       "      <th>9</th>\n",
       "      <td>95</td>\n",
       "      <td>160891</td>\n",
       "      <td>216431</td>\n",
       "      <td>13.0</td>\n",
       "      <td>17.0</td>\n",
       "      <td>NaN</td>\n",
       "      <td>NaN</td>\n",
       "      <td>23.0</td>\n",
       "      <td>26.0</td>\n",
       "      <td>NaN</td>\n",
       "      <td>NaN</td>\n",
       "      <td>0.9</td>\n",
       "      <td>1.3</td>\n",
       "      <td>105.0</td>\n",
       "      <td>106.0</td>\n",
       "      <td>36.1</td>\n",
       "      <td>40.4</td>\n",
       "      <td>11.7</td>\n",
       "      <td>13.2</td>\n",
       "      <td>NaN</td>\n",
       "      <td>NaN</td>\n",
       "      <td>340.0</td>\n",
       "      <td>425.0</td>\n",
       "      <td>4.0</td>\n",
       "      <td>4.4</td>\n",
       "      <td>21.5</td>\n",
       "      <td>24.8</td>\n",
       "      <td>1.0</td>\n",
       "      <td>1.1</td>\n",
       "      <td>12.2</td>\n",
       "      <td>12.6</td>\n",
       "      <td>141.0</td>\n",
       "      <td>141.0</td>\n",
       "      <td>13.0</td>\n",
       "      <td>22.0</td>\n",
       "      <td>7.1</td>\n",
       "      <td>8.1</td>\n",
       "      <td>95</td>\n",
       "      <td>160891</td>\n",
       "      <td>216431</td>\n",
       "      <td>M</td>\n",
       "      <td>2157-12-25 16:28:00</td>\n",
       "      <td>2157-12-27 15:25:00</td>\n",
       "      <td>2.0</td>\n",
       "      <td>44.1598</td>\n",
       "      <td>BLACK/AFRICAN AMERICAN</td>\n",
       "      <td>EMERGENCY</td>\n",
       "      <td>0</td>\n",
       "      <td>1</td>\n",
       "      <td>Y</td>\n",
       "      <td>2157-12-25 16:29:37</td>\n",
       "      <td>2157-12-26 10:12:30</td>\n",
       "      <td>1.0</td>\n",
       "      <td>1</td>\n",
       "      <td>Y</td>\n",
       "      <td>95</td>\n",
       "      <td>160891</td>\n",
       "      <td>216431</td>\n",
       "      <td>61.0</td>\n",
       "      <td>87.0</td>\n",
       "      <td>69.142857</td>\n",
       "      <td>118.0</td>\n",
       "      <td>134.0</td>\n",
       "      <td>126.000000</td>\n",
       "      <td>69.0</td>\n",
       "      <td>87.0</td>\n",
       "      <td>77.928571</td>\n",
       "      <td>85.666702</td>\n",
       "      <td>101.333</td>\n",
       "      <td>93.952386</td>\n",
       "      <td>14.0</td>\n",
       "      <td>20.0</td>\n",
       "      <td>16.363636</td>\n",
       "      <td>35.722224</td>\n",
       "      <td>36.666667</td>\n",
       "      <td>36.305556</td>\n",
       "      <td>96.0</td>\n",
       "      <td>100.0</td>\n",
       "      <td>98.071429</td>\n",
       "    </tr>\n",
       "  </tbody>\n",
       "</table>\n",
       "</div>"
      ],
      "text/plain": [
       "   subject_id  hadm_id  icustay_id  aniongap_min  aniongap_max  albumin_min  \\\n",
       "0           9   150750      220597          13.0          13.0          NaN   \n",
       "1          13   143045      263738          10.0          14.0          3.9   \n",
       "2          20   157681      264490          12.0          12.0          NaN   \n",
       "3          28   162569      225559          13.0          13.0          NaN   \n",
       "4          37   188670      213503           9.0          10.0          NaN   \n",
       "5          71   111944      211832          13.0          30.0          3.6   \n",
       "6          72   156857      239612          18.0          18.0          NaN   \n",
       "7          78   100536      233150           9.0           9.0          2.7   \n",
       "8          88   123010      297289          13.0          18.0          NaN   \n",
       "9          95   160891      216431          13.0          17.0          NaN   \n",
       "\n",
       "   albumin_max  bicarbonate_min  bicarbonate_max  bilirubin_min  \\\n",
       "0          NaN             26.0             30.0            0.4   \n",
       "1          3.9             23.0             24.0            0.4   \n",
       "2          NaN             21.0             21.0            NaN   \n",
       "3          NaN             23.0             23.0            NaN   \n",
       "4          NaN             33.0             35.0            NaN   \n",
       "5          4.7             17.0             26.0            0.4   \n",
       "6          NaN             20.0             20.0            3.5   \n",
       "7          3.1             26.0             26.0            0.8   \n",
       "8          NaN             19.0             26.0            NaN   \n",
       "9          NaN             23.0             26.0            NaN   \n",
       "\n",
       "   bilirubin_max  creatinine_min  creatinine_max  chloride_min  chloride_max  \\\n",
       "0            0.4             1.2             1.4         100.0         103.0   \n",
       "1            0.4             0.5             0.8         106.0         116.0   \n",
       "2            NaN             0.8             0.8         108.0         108.0   \n",
       "3            NaN             0.9             1.0         109.0         112.0   \n",
       "4            NaN             0.8             1.0         100.0         103.0   \n",
       "5            0.5             0.5             0.8         101.0         113.0   \n",
       "6            3.5             0.6             0.6         105.0         105.0   \n",
       "7            0.8             0.5             0.5         106.0         106.0   \n",
       "8            NaN             0.7             1.0         102.0         112.0   \n",
       "9            NaN             0.9             1.3         105.0         106.0   \n",
       "\n",
       "   hematocrit_min  hematocrit_max  hemoglobin_min  hemoglobin_max  \\\n",
       "0            37.4            45.2            12.9            15.4   \n",
       "1            24.0            35.6             7.9            12.3   \n",
       "2            26.0            35.0             8.5            11.8   \n",
       "3            26.0            41.0             8.6            13.6   \n",
       "4            28.9            33.9             9.5            10.3   \n",
       "5            31.1            37.3            11.3            13.1   \n",
       "6            40.2            47.1            13.9            15.9   \n",
       "7            30.6            30.6            10.8            10.8   \n",
       "8            32.2            37.3            10.7            12.3   \n",
       "9            36.1            40.4            11.7            13.2   \n",
       "\n",
       "   lactate_min  lactate_max  platelet_min  platelet_max  potassium_min  \\\n",
       "0          1.9          2.7         249.0         258.0            2.8   \n",
       "1          NaN          NaN         115.0         216.0            3.0   \n",
       "2          NaN          NaN         111.0         132.0            3.6   \n",
       "3          NaN          NaN         137.0         150.0            3.8   \n",
       "4          NaN          NaN         263.0         310.0            3.8   \n",
       "5          2.9          8.3         215.0         295.0            3.2   \n",
       "6          NaN          NaN         160.0         193.0            5.6   \n",
       "7          NaN          NaN          45.0          45.0            3.4   \n",
       "8          5.4          6.3          22.0         161.0            3.3   \n",
       "9          NaN          NaN         340.0         425.0            4.0   \n",
       "\n",
       "   potassium_max  ptt_min  ptt_max  inr_min  inr_max  pt_min  pt_max  \\\n",
       "0            3.0     21.7     21.7      1.1      1.1    12.7    12.7   \n",
       "1            5.3     30.8     44.1      1.2      1.8    13.3    16.5   \n",
       "2            4.6     31.3     34.2      1.3      1.6    14.1    15.7   \n",
       "3            5.2     31.8     32.0      1.1      1.4    13.0    15.1   \n",
       "4            4.0     24.1     24.6      1.1      1.2    13.1    13.3   \n",
       "5            3.9     26.1     26.1      1.1      1.1    13.1    13.1   \n",
       "6            5.6      NaN      NaN      NaN      NaN     NaN     NaN   \n",
       "7            3.4     37.7     37.7      1.2      1.2    13.7    13.7   \n",
       "8            4.2     28.5     30.0      1.2      1.5    13.4    14.5   \n",
       "9            4.4     21.5     24.8      1.0      1.1    12.2    12.6   \n",
       "\n",
       "   sodium_min  sodium_max  bun_min  bun_max  wbc_min  wbc_max  subject_id.1  \\\n",
       "0       136.0       140.0     16.0     17.0      7.5     13.7             9   \n",
       "1       137.0       140.0     13.0     18.0     16.6     19.3            13   \n",
       "2       137.0       143.0     18.0     18.0     17.5     17.5            20   \n",
       "3       136.0       141.0     13.0     17.0      6.9      6.9            28   \n",
       "4       139.0       143.0     25.0     37.0     10.4     13.9            37   \n",
       "5       141.0       145.0      4.0     16.0     15.0     27.0            71   \n",
       "6       137.0       137.0     22.0     22.0     15.4     18.4            72   \n",
       "7       138.0       138.0      9.0      9.0      1.6      1.6            78   \n",
       "8       137.0       146.0      7.0     10.0      4.8     12.3            88   \n",
       "9       141.0       141.0     13.0     22.0      7.1      8.1            95   \n",
       "\n",
       "   hadm_id.1  icustay_id.1 gender            admittime            dischtime  \\\n",
       "0     150750        220597      M  2149-11-09 13:06:00  2149-11-14 10:15:00   \n",
       "1     143045        263738      F  2167-01-08 18:43:00  2167-01-15 15:15:00   \n",
       "2     157681        264490      F  2183-04-28 09:45:00  2183-05-03 14:45:00   \n",
       "3     162569        225559      M  2177-09-01 07:15:00  2177-09-06 16:00:00   \n",
       "4     188670        213503      M  2183-08-21 16:48:00  2183-08-26 18:54:00   \n",
       "5     111944        211832      F  2164-02-03 22:07:00  2164-02-08 14:00:00   \n",
       "6     156857        239612      M  2163-09-22 23:52:00  2163-09-29 11:40:00   \n",
       "7     100536        233150      M  2177-02-14 00:16:00  2177-02-17 22:12:00   \n",
       "8     123010        297289      M  2111-08-29 03:03:00  2111-09-03 14:24:00   \n",
       "9     160891        216431      M  2157-12-25 16:28:00  2157-12-27 15:25:00   \n",
       "\n",
       "   los_hospital      age               ethnicity admission_type  \\\n",
       "0           5.0  41.7887   UNKNOWN/NOT SPECIFIED      EMERGENCY   \n",
       "1           7.0  39.8640                   WHITE      EMERGENCY   \n",
       "2           5.0  75.8757                   WHITE       ELECTIVE   \n",
       "3           5.0  74.3836                   WHITE       ELECTIVE   \n",
       "4           5.0  68.9269                   WHITE      EMERGENCY   \n",
       "5           5.0  36.5046                   ASIAN      EMERGENCY   \n",
       "6           7.0   0.0000  BLACK/AFRICAN AMERICAN        NEWBORN   \n",
       "7           3.0  48.6253  BLACK/AFRICAN AMERICAN      EMERGENCY   \n",
       "8           5.0  28.6577  BLACK/AFRICAN AMERICAN      EMERGENCY   \n",
       "9           2.0  44.1598  BLACK/AFRICAN AMERICAN      EMERGENCY   \n",
       "\n",
       "   hospital_expire_flag  hospstay_seq first_hosp_stay               intime  \\\n",
       "0                     1             1               Y  2149-11-09 13:07:02   \n",
       "1                     0             1               Y  2167-01-08 18:44:25   \n",
       "2                     0             1               Y  2183-04-28 15:00:36   \n",
       "3                     0             1               Y  2177-09-01 09:32:26   \n",
       "4                     0             1               Y  2183-08-23 12:01:45   \n",
       "5                     0             1               Y  2164-02-03 22:07:49   \n",
       "6                     0             1               Y  2163-09-22 23:59:48   \n",
       "7                     0             1               Y  2177-02-14 04:10:26   \n",
       "8                     0             1               Y  2111-08-29 03:04:42   \n",
       "9                     0             1               Y  2157-12-25 16:29:37   \n",
       "\n",
       "               outtime  los_icu  icustay_seq first_icu_stay  subject_id.2  \\\n",
       "0  2149-11-14 20:52:14      5.0            1              Y             9   \n",
       "1  2167-01-12 10:43:31      4.0            1              Y            13   \n",
       "2  2183-04-29 16:13:48      1.0            1              Y            20   \n",
       "3  2177-09-02 12:28:42      1.0            1              Y            28   \n",
       "4  2183-08-24 15:22:53      1.0            1              Y            37   \n",
       "5  2164-02-06 18:47:31      3.0            1              Y            71   \n",
       "6  2163-09-29 12:21:37      7.0            1              Y            72   \n",
       "7  2177-02-15 15:54:43      1.0            1              Y            78   \n",
       "8  2111-08-30 21:08:09      1.0            1              Y            88   \n",
       "9  2157-12-26 10:12:30      1.0            1              Y            95   \n",
       "\n",
       "   hadm_id.2  icustay_id.2  heartrate_min  heartrate_max  heartrate_mean  \\\n",
       "0     150750        220597           82.0          111.0       92.500000   \n",
       "1     143045        263738           60.0          124.0       83.600000   \n",
       "2     157681        264490           67.0           80.0       79.121951   \n",
       "3     162569        225559           74.0          103.0       88.428571   \n",
       "4     188670        213503           69.0           91.0       81.000000   \n",
       "5     111944        211832           98.0          137.0      112.444444   \n",
       "6     156857        239612          113.0          186.0      145.800000   \n",
       "7     100536        233150           56.0           73.0       63.117647   \n",
       "8     123010        297289           95.0          132.0      107.230769   \n",
       "9     160891        216431           61.0           87.0       69.142857   \n",
       "\n",
       "   sysbp_min  sysbp_max  sysbp_mean  diasbp_min  diasbp_max  diasbp_mean  \\\n",
       "0      106.0      217.0  159.375000        53.0       107.0    79.525000   \n",
       "1      102.0      151.0  126.136364        53.0        84.0    66.000000   \n",
       "2       81.0      167.0  127.825000        36.0        76.0    54.500000   \n",
       "3       98.0      153.0  121.266667        38.0        61.0    47.933333   \n",
       "4      103.0      144.0  123.035714        33.0        60.0    48.428571   \n",
       "5       94.0      157.0  114.629630        31.0       130.0    61.518519   \n",
       "6        NaN        NaN         NaN         NaN         NaN          NaN   \n",
       "7      134.0      206.0  165.833333        78.0       119.0    98.777778   \n",
       "8      102.0      160.0  138.807692        42.0        91.0    70.307692   \n",
       "9      118.0      134.0  126.000000        69.0        87.0    77.928571   \n",
       "\n",
       "   meanbp_min  meanbp_max  meanbp_mean  resprate_min  resprate_max  \\\n",
       "0   67.000000     132.000    98.850000          14.0          19.0   \n",
       "1   73.000000     111.000    93.772727          11.0          25.0   \n",
       "2   52.000000     102.000    75.058333          10.0          27.0   \n",
       "3   55.000000      86.000    69.133333           9.0          32.0   \n",
       "4   65.333298      82.000    73.297610          15.0          30.0   \n",
       "5   58.000000     139.000    79.222208          13.0          25.0   \n",
       "6         NaN         NaN          NaN           NaN           NaN   \n",
       "7   98.666702     145.000   121.129705          11.0          24.0   \n",
       "8   63.000000     111.000    91.884615           9.0          45.0   \n",
       "9   85.666702     101.333    93.952386          14.0          20.0   \n",
       "\n",
       "   resprate_mean  tempc_min  tempc_max  tempc_mean  spo2_min  spo2_max  \\\n",
       "0      14.369565  35.500001  37.888887   37.049383      95.0     100.0   \n",
       "1      15.320000  35.944443  37.400002   36.653534      94.0     100.0   \n",
       "2      15.404762  35.900002  37.299999   36.545714      95.0     100.0   \n",
       "3      16.677419  35.900002  37.700001   37.033333      92.0     100.0   \n",
       "4      22.241379  36.833335  38.055556   37.333334      89.0      99.0   \n",
       "5      17.130435  35.722224  37.833332   37.351852      99.0     100.0   \n",
       "6            NaN        NaN        NaN         NaN       NaN       NaN   \n",
       "7      16.764706  36.333334  36.833335   36.577778      96.0     100.0   \n",
       "8      20.352941  35.722224  39.111112   37.810185      99.0     100.0   \n",
       "9      16.363636  35.722224  36.666667   36.305556      96.0     100.0   \n",
       "\n",
       "   spo2_mean  \n",
       "0  97.650000  \n",
       "1  97.700000  \n",
       "2  98.435897  \n",
       "3  96.419355  \n",
       "4  96.533333  \n",
       "5  99.862069  \n",
       "6        NaN  \n",
       "7  98.470588  \n",
       "8  99.962963  \n",
       "9  98.071429  "
      ]
     },
     "execution_count": 3,
     "metadata": {},
     "output_type": "execute_result"
    }
   ],
   "source": [
    "lab_aug_df.head(10)"
   ]
  },
  {
   "cell_type": "markdown",
   "metadata": {
    "collapsed": true
   },
   "source": [
    "## Test/train split done here"
   ]
  },
  {
   "cell_type": "code",
   "execution_count": 4,
   "metadata": {},
   "outputs": [],
   "source": [
    "X_full = lab_aug_df.drop(['hospital_expire_flag'], axis=1)\n",
    "y = lab_aug_df.hospital_expire_flag\n",
    "\n",
    "X_train_full, X_test_full, y_train, y_test = train_test_split(X_full, y, test_size=.3, random_state=42)"
   ]
  },
  {
   "cell_type": "code",
   "execution_count": 5,
   "metadata": {},
   "outputs": [
    {
     "data": {
      "text/plain": [
       "(65.77252070895523, 65.16924826431521)"
      ]
     },
     "execution_count": 5,
     "metadata": {},
     "output_type": "execute_result"
    }
   ],
   "source": [
    "## Verify the split was the same for you and your neighbor\n",
    "np.mean(X_train_full.age), np.mean(X_test_full.age)"
   ]
  },
  {
   "cell_type": "code",
   "execution_count": null,
   "metadata": {},
   "outputs": [],
   "source": []
  },
  {
   "cell_type": "markdown",
   "metadata": {
    "collapsed": true
   },
   "source": [
    "## Do some Exploratory Data Analysis here"
   ]
  },
  {
   "cell_type": "code",
   "execution_count": 6,
   "metadata": {},
   "outputs": [
    {
     "data": {
      "image/png": "[encoded data removed]",
      "text/plain": [
       "<Figure size 432x432 with 2 Axes>"
      ]
     },
     "metadata": {
      "needs_background": "light"
     },
     "output_type": "display_data"
    }
   ],
   "source": [
    "plt.figure(figsize=(6,6))\n",
    "plt.subplot(2,1,1)\n",
    "plt.hist(X_train_full.loc[y_train==1,'age'], bins=np.linspace(0,100,21));\n",
    "plt.subplot(2,1,2)\n",
    "plt.hist(X_train_full.loc[y_train==0,'age'], bins=np.linspace(0,100,21));"
   ]
  },
  {
   "cell_type": "code",
   "execution_count": 7,
   "metadata": {},
   "outputs": [
    {
     "data": {
      "image/png": "[encoded data removed]",
      "text/plain": [
       "<Figure size 432x432 with 2 Axes>"
      ]
     },
     "metadata": {
      "needs_background": "light"
     },
     "output_type": "display_data"
    }
   ],
   "source": [
    "plt.figure(figsize=(6,6))\n",
    "plt.subplot(2,1,1)\n",
    "plt.hist(X_train_full.loc[y_train==1,'bun_max'], bins=np.linspace(0,100,21));\n",
    "plt.subplot(2,1,2)\n",
    "plt.hist(X_train_full.loc[y_train==0,'bun_max'], bins=np.linspace(0,100,21));"
   ]
  },
  {
   "cell_type": "code",
   "execution_count": 8,
   "metadata": {},
   "outputs": [],
   "source": [
    "def pair_of_histograms(binary_vector, numeric_vector, bins=None):\n",
    "    if bins is None:\n",
    "        bins = np.linspace(np.min(numeric_vector),np.max(numeric_vector), 21)\n",
    "    plt.figure(figsize=(6,6))\n",
    "    plt.subplot(2,1,1)\n",
    "    plt.hist(numeric_vector[binary_vector==1], bins=bins);\n",
    "    plt.title('Positive Case Distribution')\n",
    "    plt.subplot(2,1,2)\n",
    "    plt.hist(numeric_vector[binary_vector==0], bins=bins);\n",
    "    plt.title('Negative Case Distribution')\n"
   ]
  },
  {
   "cell_type": "code",
   "execution_count": 9,
   "metadata": {},
   "outputs": [
    {
     "data": {
      "image/png": "[encoded data removed]",
      "text/plain": [
       "<Figure size 432x432 with 2 Axes>"
      ]
     },
     "metadata": {
      "needs_background": "light"
     },
     "output_type": "display_data"
    }
   ],
   "source": [
    "pair_of_histograms(y_train, X_train_full.platelet_min, bins = np.linspace(0,600,61))"
   ]
  },
  {
   "cell_type": "code",
   "execution_count": 10,
   "metadata": {},
   "outputs": [
    {
     "data": {
      "image/png": "[encoded data removed]",
      "text/plain": [
       "<Figure size 432x432 with 2 Axes>"
      ]
     },
     "metadata": {
      "needs_background": "light"
     },
     "output_type": "display_data"
    }
   ],
   "source": [
    "pair_of_histograms(y_train, X_train_full.age, bins = np.linspace(0,100,21))"
   ]
  },
  {
   "cell_type": "code",
   "execution_count": 11,
   "metadata": {},
   "outputs": [
    {
     "data": {
      "image/png": "[encoded data removed]",
      "text/plain": [
       "<Figure size 432x432 with 2 Axes>"
      ]
     },
     "metadata": {
      "needs_background": "light"
     },
     "output_type": "display_data"
    }
   ],
   "source": [
    "pair_of_histograms(y_train, X_train_full.spo2_min, bins = np.linspace(60,100,41)+.5)"
   ]
  },
  {
   "cell_type": "code",
   "execution_count": 12,
   "metadata": {},
   "outputs": [
    {
     "data": {
      "image/png": "[encoded data removed]",
      "text/plain": [
       "<Figure size 432x432 with 2 Axes>"
      ]
     },
     "metadata": {
      "needs_background": "light"
     },
     "output_type": "display_data"
    }
   ],
   "source": [
    "pair_of_histograms(y_train, X_train_full.bun_max, bins = np.linspace(0,180,37))"
   ]
  },
  {
   "cell_type": "code",
   "execution_count": 13,
   "metadata": {},
   "outputs": [
    {
     "data": {
      "image/png": "[encoded data removed]",
      "text/plain": [
       "<Figure size 432x432 with 2 Axes>"
      ]
     },
     "metadata": {
      "needs_background": "light"
     },
     "output_type": "display_data"
    }
   ],
   "source": [
    "pair_of_histograms(y_train, X_train_full.wbc_max, bins = np.linspace(0,180,37))"
   ]
  },
  {
   "cell_type": "code",
   "execution_count": 14,
   "metadata": {},
   "outputs": [
    {
     "data": {
      "image/png": "[encoded data removed]",
      "text/plain": [
       "<Figure size 432x432 with 2 Axes>"
      ]
     },
     "metadata": {
      "needs_background": "light"
     },
     "output_type": "display_data"
    }
   ],
   "source": [
    "pair_of_histograms(y_train, X_train_full.sysbp_min, bins = np.linspace(0,180,37))"
   ]
  },
  {
   "cell_type": "markdown",
   "metadata": {
    "collapsed": true
   },
   "source": [
    "### Make a function that helps your EDA here"
   ]
  },
  {
   "cell_type": "code",
   "execution_count": 15,
   "metadata": {},
   "outputs": [],
   "source": [
    "def pair_of_histograms(binary_vector, numeric_vector, bins=None):\n",
    "    if bins is None:\n",
    "        bins = np.linspace(np.min(numeric_vector),np.max(numeric_vector), 21)\n",
    "    plt.figure(figsize=(6,6))\n",
    "    plt.subplot(2,1,1)\n",
    "    plt.hist(numeric_vector[binary_vector==1], bins=bins);\n",
    "    plt.title('Positive Case Distribution')\n",
    "    plt.subplot(2,1,2)\n",
    "    plt.hist(numeric_vector[binary_vector==0], bins=bins);\n",
    "    plt.title('Negative Case Distribution')\n"
   ]
  },
  {
   "cell_type": "code",
   "execution_count": null,
   "metadata": {},
   "outputs": [],
   "source": []
  },
  {
   "cell_type": "code",
   "execution_count": null,
   "metadata": {},
   "outputs": [],
   "source": []
  },
  {
   "cell_type": "code",
   "execution_count": null,
   "metadata": {},
   "outputs": [],
   "source": []
  },
  {
   "cell_type": "markdown",
   "metadata": {},
   "source": [
    "## Build your baseline model here"
   ]
  },
  {
   "cell_type": "code",
   "execution_count": 16,
   "metadata": {},
   "outputs": [],
   "source": [
    "baseline_feats = ['age','spo2_min','bun_max','sysbp_min']\n",
    "X_train_bl = X_train_full.loc[:,baseline_feats].copy()\n",
    "X_test_bl = X_test_full.loc[:,baseline_feats].copy()"
   ]
  },
  {
   "cell_type": "code",
   "execution_count": 17,
   "metadata": {},
   "outputs": [],
   "source": [
    "X_train_bl['spo2_min'] = X_train_bl.spo2_min.fillna(X_train_bl['spo2_min'].median())\n",
    "X_train_bl['bun_max'] = X_train_bl.bun_max.fillna(X_train_bl['bun_max'].median())\n",
    "X_train_bl['sysbp_min'] = X_train_bl.sysbp_min.fillna(X_train_bl['sysbp_min'].median())\n",
    "\n",
    "X_test_bl['spo2_min'] = X_test_bl.spo2_min.fillna(X_train_bl['spo2_min'].median())\n",
    "X_test_bl['bun_max'] = X_test_bl.bun_max.fillna(X_train_bl['bun_max'].median())\n",
    "X_test_bl['sysbp_min'] = X_test_bl.sysbp_min.fillna(X_train_bl['sysbp_min'].median())"
   ]
  },
  {
   "cell_type": "code",
   "execution_count": null,
   "metadata": {},
   "outputs": [],
   "source": []
  },
  {
   "cell_type": "code",
   "execution_count": 18,
   "metadata": {},
   "outputs": [
    {
     "data": {
      "text/plain": [
       "LogisticRegression(C=1.0, class_weight=None, dual=False, fit_intercept=True,\n",
       "                   intercept_scaling=1, l1_ratio=None, max_iter=100,\n",
       "                   multi_class='warn', n_jobs=None, penalty='l2',\n",
       "                   random_state=None, solver='lbfgs', tol=0.0001, verbose=0,\n",
       "                   warm_start=False)"
      ]
     },
     "execution_count": 18,
     "metadata": {},
     "output_type": "execute_result"
    }
   ],
   "source": [
    "lr_baseline = LogisticRegression(solver='lbfgs')\n",
    "lr_baseline.fit(X_train_bl, y_train)"
   ]
  },
  {
   "cell_type": "code",
   "execution_count": 19,
   "metadata": {},
   "outputs": [],
   "source": [
    "pred_probs_lr_bl = lr_baseline.predict_proba(X_test_bl)[:,1]"
   ]
  },
  {
   "cell_type": "code",
   "execution_count": 20,
   "metadata": {},
   "outputs": [
    {
     "data": {
      "text/plain": [
       "(0.7490566267406759, 0.2994541538018322)"
      ]
     },
     "execution_count": 20,
     "metadata": {},
     "output_type": "execute_result"
    }
   ],
   "source": [
    "roc_auc_score(y_test, pred_probs_lr_bl), log_loss(y_test, pred_probs_lr_bl)"
   ]
  },
  {
   "cell_type": "code",
   "execution_count": null,
   "metadata": {},
   "outputs": [],
   "source": []
  },
  {
   "cell_type": "code",
   "execution_count": 21,
   "metadata": {},
   "outputs": [
    {
     "data": {
      "text/plain": [
       "RandomForestClassifier(bootstrap=True, class_weight=None, criterion='gini',\n",
       "                       max_depth=None, max_features='auto', max_leaf_nodes=None,\n",
       "                       min_impurity_decrease=0.0, min_impurity_split=None,\n",
       "                       min_samples_leaf=1, min_samples_split=2,\n",
       "                       min_weight_fraction_leaf=0.0, n_estimators=1000,\n",
       "                       n_jobs=-1, oob_score=False, random_state=None, verbose=0,\n",
       "                       warm_start=False)"
      ]
     },
     "execution_count": 21,
     "metadata": {},
     "output_type": "execute_result"
    }
   ],
   "source": [
    "rf_bl = RandomForestClassifier(n_estimators=1000, n_jobs=-1)\n",
    "rf_bl.fit(X_train_bl, y_train)"
   ]
  },
  {
   "cell_type": "code",
   "execution_count": 22,
   "metadata": {},
   "outputs": [
    {
     "data": {
      "text/plain": [
       "(0.7608989801328393, 0.3170760452962717)"
      ]
     },
     "execution_count": 22,
     "metadata": {},
     "output_type": "execute_result"
    }
   ],
   "source": [
    "pred_probs_rf_bl = rf_bl.predict_proba(X_test_bl)[:,1]\n",
    "roc_auc_score(y_test, pred_probs_rf_bl), log_loss(y_test, pred_probs_rf_bl)"
   ]
  },
  {
   "cell_type": "code",
   "execution_count": null,
   "metadata": {},
   "outputs": [],
   "source": []
  },
  {
   "cell_type": "code",
   "execution_count": 23,
   "metadata": {},
   "outputs": [
    {
     "data": {
      "text/plain": [
       "GradientBoostingClassifier(criterion='friedman_mse', init=None,\n",
       "                           learning_rate=0.1, loss='deviance', max_depth=4,\n",
       "                           max_features=None, max_leaf_nodes=None,\n",
       "                           min_impurity_decrease=0.0, min_impurity_split=None,\n",
       "                           min_samples_leaf=1, min_samples_split=2,\n",
       "                           min_weight_fraction_leaf=0.0, n_estimators=100,\n",
       "                           n_iter_no_change=None, presort='auto',\n",
       "                           random_state=None, subsample=1.0, tol=0.0001,\n",
       "                           validation_fraction=0.1, verbose=0,\n",
       "                           warm_start=False)"
      ]
     },
     "execution_count": 23,
     "metadata": {},
     "output_type": "execute_result"
    }
   ],
   "source": [
    "gb_bl = GradientBoostingClassifier(max_depth=4)\n",
    "gb_bl.fit(X_train_bl, y_train)"
   ]
  },
  {
   "cell_type": "code",
   "execution_count": 24,
   "metadata": {},
   "outputs": [
    {
     "data": {
      "text/plain": [
       "(0.7928422202024793, 0.2817471526933136)"
      ]
     },
     "execution_count": 24,
     "metadata": {},
     "output_type": "execute_result"
    }
   ],
   "source": [
    "pred_probs_gb_bl = gb_bl.predict_proba(X_test_bl)[:,1]\n",
    "roc_auc_score(y_test, pred_probs_gb_bl), log_loss(y_test, pred_probs_gb_bl)"
   ]
  },
  {
   "cell_type": "markdown",
   "metadata": {},
   "source": [
    "## Build your more complicated models here"
   ]
  },
  {
   "cell_type": "code",
   "execution_count": null,
   "metadata": {},
   "outputs": [],
   "source": []
  },
  {
   "cell_type": "code",
   "execution_count": 25,
   "metadata": {},
   "outputs": [],
   "source": [
    "huge_feat_list = ['aniongap_min', 'aniongap_max',\n",
    "       'albumin_min', 'albumin_max', 'bicarbonate_min', 'bicarbonate_max',\n",
    "       'bilirubin_min', 'bilirubin_max', 'creatinine_min', 'creatinine_max',\n",
    "       'chloride_min', 'chloride_max', 'hematocrit_min', 'hematocrit_max',\n",
    "       'hemoglobin_min', 'hemoglobin_max', 'lactate_min', 'lactate_max',\n",
    "       'platelet_min', 'platelet_max', 'potassium_min', 'potassium_max',\n",
    "       'ptt_min', 'ptt_max', 'inr_min', 'inr_max', 'pt_min', 'pt_max',\n",
    "       'sodium_min', 'sodium_max', 'bun_min', 'bun_max', 'wbc_min', 'wbc_max',\n",
    "       'heartrate_min', 'heartrate_max', 'heartrate_mean',\n",
    "       'sysbp_min', 'sysbp_max', 'sysbp_mean', 'diasbp_min', 'diasbp_max',\n",
    "       'diasbp_mean', 'meanbp_min', 'meanbp_max', 'meanbp_mean',\n",
    "       'resprate_min', 'resprate_max', 'resprate_mean', 'tempc_min',\n",
    "       'tempc_max', 'tempc_mean', 'spo2_min', 'spo2_max', 'spo2_mean']"
   ]
  },
  {
   "cell_type": "code",
   "execution_count": 26,
   "metadata": {},
   "outputs": [],
   "source": [
    "X_train_huge = X_train_full.loc[:,huge_feat_list].copy()\n",
    "X_test_huge = X_test_full.loc[:,huge_feat_list].copy()"
   ]
  },
  {
   "cell_type": "code",
   "execution_count": 27,
   "metadata": {},
   "outputs": [
    {
     "name": "stderr",
     "output_type": "stream",
     "text": [
      "/Users/brianlucena/.pyenv/versions/mypy373/lib/python3.7/site-packages/sklearn/utils/deprecation.py:66: DeprecationWarning: Class Imputer is deprecated; Imputer was deprecated in version 0.20 and will be removed in 0.22. Import impute.SimpleImputer from sklearn instead.\n",
      "  warnings.warn(msg, category=DeprecationWarning)\n"
     ]
    }
   ],
   "source": [
    "from sklearn.preprocessing import Imputer\n",
    "imp = Imputer(strategy='median')"
   ]
  },
  {
   "cell_type": "code",
   "execution_count": 28,
   "metadata": {},
   "outputs": [
    {
     "data": {
      "text/plain": [
       "Imputer(axis=0, copy=True, missing_values='NaN', strategy='median', verbose=0)"
      ]
     },
     "execution_count": 28,
     "metadata": {},
     "output_type": "execute_result"
    }
   ],
   "source": [
    "imp.fit(X_train_huge)"
   ]
  },
  {
   "cell_type": "code",
   "execution_count": 29,
   "metadata": {},
   "outputs": [],
   "source": [
    "X_train_huge = imp.transform(X_train_huge)\n",
    "X_test_huge = imp.transform(X_test_huge)\n"
   ]
  },
  {
   "cell_type": "code",
   "execution_count": 30,
   "metadata": {},
   "outputs": [
    {
     "data": {
      "text/plain": [
       "GradientBoostingClassifier(criterion='friedman_mse', init=None,\n",
       "                           learning_rate=0.1, loss='deviance', max_depth=3,\n",
       "                           max_features=None, max_leaf_nodes=None,\n",
       "                           min_impurity_decrease=0.0, min_impurity_split=None,\n",
       "                           min_samples_leaf=1, min_samples_split=2,\n",
       "                           min_weight_fraction_leaf=0.0, n_estimators=100,\n",
       "                           n_iter_no_change=None, presort='auto',\n",
       "                           random_state=None, subsample=1.0, tol=0.0001,\n",
       "                           validation_fraction=0.1, verbose=0,\n",
       "                           warm_start=False)"
      ]
     },
     "execution_count": 30,
     "metadata": {},
     "output_type": "execute_result"
    }
   ],
   "source": [
    "gb_huge = GradientBoostingClassifier(max_depth=3)\n",
    "gb_huge.fit(X_train_huge, y_train)"
   ]
  },
  {
   "cell_type": "code",
   "execution_count": 31,
   "metadata": {},
   "outputs": [
    {
     "data": {
      "text/plain": [
       "(0.8630928068038546, 0.24231710927011874)"
      ]
     },
     "execution_count": 31,
     "metadata": {},
     "output_type": "execute_result"
    }
   ],
   "source": [
    "pred_probs_gb_huge = gb_huge.predict_proba(X_test_huge)[:,1]\n",
    "roc_auc_score(y_test, pred_probs_gb_huge), log_loss(y_test, pred_probs_gb_huge)"
   ]
  },
  {
   "cell_type": "code",
   "execution_count": 32,
   "metadata": {},
   "outputs": [
    {
     "data": {
      "text/plain": [
       "GradientBoostingClassifier(criterion='friedman_mse', init=None,\n",
       "                           learning_rate=0.1, loss='deviance', max_depth=4,\n",
       "                           max_features=None, max_leaf_nodes=None,\n",
       "                           min_impurity_decrease=0.0, min_impurity_split=None,\n",
       "                           min_samples_leaf=1, min_samples_split=2,\n",
       "                           min_weight_fraction_leaf=0.0, n_estimators=100,\n",
       "                           n_iter_no_change=None, presort='auto',\n",
       "                           random_state=None, subsample=1.0, tol=0.0001,\n",
       "                           validation_fraction=0.1, verbose=0,\n",
       "                           warm_start=False)"
      ]
     },
     "execution_count": 32,
     "metadata": {},
     "output_type": "execute_result"
    }
   ],
   "source": [
    "gb_huge4 = GradientBoostingClassifier(max_depth=4)\n",
    "gb_huge4.fit(X_train_huge, y_train)"
   ]
  },
  {
   "cell_type": "code",
   "execution_count": 33,
   "metadata": {},
   "outputs": [
    {
     "data": {
      "text/plain": [
       "(0.8668746886014876, 0.23955372908632064)"
      ]
     },
     "execution_count": 33,
     "metadata": {},
     "output_type": "execute_result"
    }
   ],
   "source": [
    "pred_probs_gb_huge4 = gb_huge4.predict_proba(X_test_huge)[:,1]\n",
    "roc_auc_score(y_test, pred_probs_gb_huge4), log_loss(y_test, pred_probs_gb_huge4)"
   ]
  },
  {
   "cell_type": "code",
   "execution_count": 34,
   "metadata": {},
   "outputs": [
    {
     "data": {
      "text/plain": [
       "GradientBoostingClassifier(criterion='friedman_mse', init=None,\n",
       "                           learning_rate=0.1, loss='deviance', max_depth=5,\n",
       "                           max_features=None, max_leaf_nodes=None,\n",
       "                           min_impurity_decrease=0.0, min_impurity_split=None,\n",
       "                           min_samples_leaf=1, min_samples_split=2,\n",
       "                           min_weight_fraction_leaf=0.0, n_estimators=100,\n",
       "                           n_iter_no_change=None, presort='auto',\n",
       "                           random_state=None, subsample=1.0, tol=0.0001,\n",
       "                           validation_fraction=0.1, verbose=0,\n",
       "                           warm_start=False)"
      ]
     },
     "execution_count": 34,
     "metadata": {},
     "output_type": "execute_result"
    }
   ],
   "source": [
    "gb_huge5 = GradientBoostingClassifier(max_depth=5)\n",
    "gb_huge5.fit(X_train_huge, y_train)"
   ]
  },
  {
   "cell_type": "code",
   "execution_count": 35,
   "metadata": {},
   "outputs": [
    {
     "data": {
      "text/plain": [
       "(0.8674013288569233, 0.23933046008723718)"
      ]
     },
     "execution_count": 35,
     "metadata": {},
     "output_type": "execute_result"
    }
   ],
   "source": [
    "pred_probs_gb_huge5 = gb_huge5.predict_proba(X_test_huge)[:,1]\n",
    "roc_auc_score(y_test, pred_probs_gb_huge5), log_loss(y_test, pred_probs_gb_huge5)"
   ]
  },
  {
   "cell_type": "code",
   "execution_count": 36,
   "metadata": {},
   "outputs": [
    {
     "data": {
      "text/plain": [
       "GradientBoostingClassifier(criterion='friedman_mse', init=None,\n",
       "                           learning_rate=0.1, loss='deviance', max_depth=4,\n",
       "                           max_features=None, max_leaf_nodes=None,\n",
       "                           min_impurity_decrease=0.0, min_impurity_split=None,\n",
       "                           min_samples_leaf=1, min_samples_split=2,\n",
       "                           min_weight_fraction_leaf=0.0, n_estimators=100,\n",
       "                           n_iter_no_change=None, presort='auto',\n",
       "                           random_state=None, subsample=0.9, tol=0.0001,\n",
       "                           validation_fraction=0.1, verbose=0,\n",
       "                           warm_start=False)"
      ]
     },
     "execution_count": 36,
     "metadata": {},
     "output_type": "execute_result"
    }
   ],
   "source": [
    "gb_huge4a = GradientBoostingClassifier(max_depth=4, subsample=.9)\n",
    "gb_huge4a.fit(X_train_huge, y_train)"
   ]
  },
  {
   "cell_type": "code",
   "execution_count": 37,
   "metadata": {},
   "outputs": [
    {
     "data": {
      "text/plain": [
       "(0.8656523125799589, 0.239467917128924)"
      ]
     },
     "execution_count": 37,
     "metadata": {},
     "output_type": "execute_result"
    }
   ],
   "source": [
    "pred_probs_gb_huge4a = gb_huge4a.predict_proba(X_test_huge)[:,1]\n",
    "roc_auc_score(y_test, pred_probs_gb_huge4a), log_loss(y_test, pred_probs_gb_huge4a)"
   ]
  },
  {
   "cell_type": "code",
   "execution_count": 38,
   "metadata": {},
   "outputs": [
    {
     "data": {
      "text/plain": [
       "GradientBoostingClassifier(criterion='friedman_mse', init=None,\n",
       "                           learning_rate=0.1, loss='deviance', max_depth=5,\n",
       "                           max_features=None, max_leaf_nodes=None,\n",
       "                           min_impurity_decrease=0.0, min_impurity_split=None,\n",
       "                           min_samples_leaf=1, min_samples_split=2,\n",
       "                           min_weight_fraction_leaf=0.0, n_estimators=200,\n",
       "                           n_iter_no_change=None, presort='auto',\n",
       "                           random_state=None, subsample=1.0, tol=0.0001,\n",
       "                           validation_fraction=0.1, verbose=0,\n",
       "                           warm_start=False)"
      ]
     },
     "execution_count": 38,
     "metadata": {},
     "output_type": "execute_result"
    }
   ],
   "source": [
    "gb_huge5a = GradientBoostingClassifier(max_depth=5, n_estimators=200)\n",
    "gb_huge5a.fit(X_train_huge, y_train)"
   ]
  },
  {
   "cell_type": "code",
   "execution_count": 39,
   "metadata": {},
   "outputs": [
    {
     "data": {
      "text/plain": [
       "(0.8699546839488654, 0.23811540528935507)"
      ]
     },
     "execution_count": 39,
     "metadata": {},
     "output_type": "execute_result"
    }
   ],
   "source": [
    "pred_probs_gb_huge5a = gb_huge5a.predict_proba(X_test_huge)[:,1]\n",
    "roc_auc_score(y_test, pred_probs_gb_huge5a), log_loss(y_test, pred_probs_gb_huge5a)"
   ]
  },
  {
   "cell_type": "code",
   "execution_count": 40,
   "metadata": {},
   "outputs": [
    {
     "data": {
      "text/plain": [
       "GradientBoostingClassifier(criterion='friedman_mse', init=None,\n",
       "                           learning_rate=0.1, loss='deviance', max_depth=5,\n",
       "                           max_features=None, max_leaf_nodes=None,\n",
       "                           min_impurity_decrease=0.0, min_impurity_split=None,\n",
       "                           min_samples_leaf=1, min_samples_split=2,\n",
       "                           min_weight_fraction_leaf=0.0, n_estimators=300,\n",
       "                           n_iter_no_change=None, presort='auto',\n",
       "                           random_state=None, subsample=1.0, tol=0.0001,\n",
       "                           validation_fraction=0.1, verbose=0,\n",
       "                           warm_start=False)"
      ]
     },
     "execution_count": 40,
     "metadata": {},
     "output_type": "execute_result"
    }
   ],
   "source": [
    "gb_huge5b = GradientBoostingClassifier(max_depth=5, n_estimators=300)\n",
    "gb_huge5b.fit(X_train_huge, y_train)"
   ]
  },
  {
   "cell_type": "code",
   "execution_count": 41,
   "metadata": {},
   "outputs": [
    {
     "data": {
      "text/plain": [
       "(0.8693947301710959, 0.23928304088945837)"
      ]
     },
     "execution_count": 41,
     "metadata": {},
     "output_type": "execute_result"
    }
   ],
   "source": [
    "pred_probs_gb_huge5b = gb_huge5b.predict_proba(X_test_huge)[:,1]\n",
    "roc_auc_score(y_test, pred_probs_gb_huge5b), log_loss(y_test, pred_probs_gb_huge5b)"
   ]
  },
  {
   "cell_type": "code",
   "execution_count": 42,
   "metadata": {},
   "outputs": [
    {
     "data": {
      "text/plain": [
       "[('aniongap_min', 0.0279),\n",
       " ('aniongap_max', 0.0081),\n",
       " ('albumin_min', 0.0204),\n",
       " ('albumin_max', 0.0071),\n",
       " ('bicarbonate_min', 0.0073),\n",
       " ('bicarbonate_max', 0.0125),\n",
       " ('bilirubin_min', 0.0132),\n",
       " ('bilirubin_max', 0.0125),\n",
       " ('creatinine_min', 0.0066),\n",
       " ('creatinine_max', 0.0124),\n",
       " ('chloride_min', 0.0068),\n",
       " ('chloride_max', 0.0085),\n",
       " ('hematocrit_min', 0.0119),\n",
       " ('hematocrit_max', 0.0055),\n",
       " ('hemoglobin_min', 0.0054),\n",
       " ('hemoglobin_max', 0.0077),\n",
       " ('lactate_min', 0.0761),\n",
       " ('lactate_max', 0.0474),\n",
       " ('platelet_min', 0.0242),\n",
       " ('platelet_max', 0.0159),\n",
       " ('potassium_min', 0.0091),\n",
       " ('potassium_max', 0.009),\n",
       " ('ptt_min', 0.021),\n",
       " ('ptt_max', 0.0069),\n",
       " ('inr_min', 0.0099),\n",
       " ('inr_max', 0.0031),\n",
       " ('pt_min', 0.0088),\n",
       " ('pt_max', 0.0076),\n",
       " ('sodium_min', 0.0053),\n",
       " ('sodium_max', 0.0256),\n",
       " ('bun_min', 0.0701),\n",
       " ('bun_max', 0.0073),\n",
       " ('wbc_min', 0.0244),\n",
       " ('wbc_max', 0.0105),\n",
       " ('heartrate_min', 0.022),\n",
       " ('heartrate_max', 0.0191),\n",
       " ('heartrate_mean', 0.0165),\n",
       " ('sysbp_min', 0.0617),\n",
       " ('sysbp_max', 0.0116),\n",
       " ('sysbp_mean', 0.0299),\n",
       " ('diasbp_min', 0.0053),\n",
       " ('diasbp_max', 0.0064),\n",
       " ('diasbp_mean', 0.0139),\n",
       " ('meanbp_min', 0.0304),\n",
       " ('meanbp_max', 0.006),\n",
       " ('meanbp_mean', 0.0124),\n",
       " ('resprate_min', 0.0073),\n",
       " ('resprate_max', 0.0079),\n",
       " ('resprate_mean', 0.0372),\n",
       " ('tempc_min', 0.0142),\n",
       " ('tempc_max', 0.0223),\n",
       " ('tempc_mean', 0.036),\n",
       " ('spo2_min', 0.0361),\n",
       " ('spo2_max', 0.0009),\n",
       " ('spo2_mean', 0.0471)]"
      ]
     },
     "execution_count": 42,
     "metadata": {},
     "output_type": "execute_result"
    }
   ],
   "source": [
    "tmp = list(zip(huge_feat_list, np.round(gb_huge5a.feature_importances_,decimals=4)))\n",
    "tmp"
   ]
  },
  {
   "cell_type": "code",
   "execution_count": 43,
   "metadata": {},
   "outputs": [
    {
     "data": {
      "text/plain": [
       "[('lactate_min', 0.0761),\n",
       " ('bun_min', 0.0701),\n",
       " ('sysbp_min', 0.0617),\n",
       " ('lactate_max', 0.0474),\n",
       " ('spo2_mean', 0.0471),\n",
       " ('resprate_mean', 0.0372),\n",
       " ('spo2_min', 0.0361),\n",
       " ('tempc_mean', 0.036),\n",
       " ('meanbp_min', 0.0304),\n",
       " ('sysbp_mean', 0.0299),\n",
       " ('aniongap_min', 0.0279),\n",
       " ('sodium_max', 0.0256),\n",
       " ('wbc_min', 0.0244),\n",
       " ('platelet_min', 0.0242),\n",
       " ('tempc_max', 0.0223),\n",
       " ('heartrate_min', 0.022),\n",
       " ('ptt_min', 0.021),\n",
       " ('albumin_min', 0.0204),\n",
       " ('heartrate_max', 0.0191),\n",
       " ('heartrate_mean', 0.0165),\n",
       " ('platelet_max', 0.0159),\n",
       " ('tempc_min', 0.0142),\n",
       " ('diasbp_mean', 0.0139),\n",
       " ('bilirubin_min', 0.0132),\n",
       " ('bicarbonate_max', 0.0125),\n",
       " ('bilirubin_max', 0.0125),\n",
       " ('creatinine_max', 0.0124),\n",
       " ('meanbp_mean', 0.0124),\n",
       " ('hematocrit_min', 0.0119),\n",
       " ('sysbp_max', 0.0116),\n",
       " ('wbc_max', 0.0105),\n",
       " ('inr_min', 0.0099),\n",
       " ('potassium_min', 0.0091),\n",
       " ('potassium_max', 0.009),\n",
       " ('pt_min', 0.0088),\n",
       " ('chloride_max', 0.0085),\n",
       " ('aniongap_max', 0.0081),\n",
       " ('resprate_max', 0.0079),\n",
       " ('hemoglobin_max', 0.0077),\n",
       " ('pt_max', 0.0076),\n",
       " ('bicarbonate_min', 0.0073),\n",
       " ('bun_max', 0.0073),\n",
       " ('resprate_min', 0.0073),\n",
       " ('albumin_max', 0.0071),\n",
       " ('ptt_max', 0.0069),\n",
       " ('chloride_min', 0.0068),\n",
       " ('creatinine_min', 0.0066),\n",
       " ('diasbp_max', 0.0064),\n",
       " ('meanbp_max', 0.006),\n",
       " ('hematocrit_max', 0.0055),\n",
       " ('hemoglobin_min', 0.0054),\n",
       " ('sodium_min', 0.0053),\n",
       " ('diasbp_min', 0.0053),\n",
       " ('inr_max', 0.0031),\n",
       " ('spo2_max', 0.0009)]"
      ]
     },
     "execution_count": 43,
     "metadata": {},
     "output_type": "execute_result"
    }
   ],
   "source": [
    "tmp.sort(key = lambda x:x[1], reverse=True)\n",
    "tmp"
   ]
  },
  {
   "cell_type": "code",
   "execution_count": 44,
   "metadata": {},
   "outputs": [
    {
     "ename": "NameError",
     "evalue": "name 'asd' is not defined",
     "output_type": "error",
     "traceback": [
      "\u001b[0;31m---------------------------------------------------------------------------\u001b[0m",
      "\u001b[0;31mNameError\u001b[0m                                 Traceback (most recent call last)",
      "\u001b[0;32m<ipython-input-44-d0decd896afa>\u001b[0m in \u001b[0;36m<module>\u001b[0;34m\u001b[0m\n\u001b[0;32m----> 1\u001b[0;31m \u001b[0masd\u001b[0m\u001b[0;34m.\u001b[0m\u001b[0msort\u001b[0m\u001b[0;34m(\u001b[0m\u001b[0;34m)\u001b[0m\u001b[0;34m\u001b[0m\u001b[0;34m\u001b[0m\u001b[0m\n\u001b[0m",
      "\u001b[0;31mNameError\u001b[0m: name 'asd' is not defined"
     ]
    }
   ],
   "source": [
    "asd.sort()"
   ]
  }
 ],
 "metadata": {
  "anaconda-cloud": {},
  "kernelspec": {
   "display_name": "Python 3",
   "language": "python",
   "name": "python3"
  },
  "language_info": {
   "codemirror_mode": {
    "name": "ipython",
    "version": 3
   },
   "file_extension": ".py",
   "mimetype": "text/x-python",
   "name": "python",
   "nbconvert_exporter": "python",
   "pygments_lexer": "ipython3",
   "version": "3.7.3"
  }
 },
 "nbformat": 4,
 "nbformat_minor": 1
}
